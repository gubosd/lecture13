{
 "cells": [
  {
   "cell_type": "markdown",
   "metadata": {},
   "source": [
    "# 파이썬 기초\n",
    "## 4일차\n",
    "### for 와 list\n",
    "- shift-enter : 실행후 아래에 창을 만든다\n",
    "- ctrl-enter : 실행후 그 창에 머문다\n",
    "- a : 위에 창을 만든다\n",
    "- b : 아래에 창을 만든다\n",
    "- dd : 창을 지운다\n",
    "- Markdown : 문서편집기"
   ]
  },
  {
   "cell_type": "code",
   "execution_count": 4,
   "metadata": {},
   "outputs": [
    {
     "name": "stdout",
     "output_type": "stream",
     "text": [
      "Hello, world\n"
     ]
    }
   ],
   "source": [
    "print('Hello, world')"
   ]
  },
  {
   "cell_type": "code",
   "execution_count": 9,
   "metadata": {},
   "outputs": [
    {
     "name": "stdout",
     "output_type": "stream",
     "text": [
      "[1, 4, 7]\n"
     ]
    }
   ],
   "source": [
    "l = [[1,2,3], [4,5,6], [7,8,9]]\n",
    "l2 = []\n",
    "\n",
    "for i in l:\n",
    "    l2.append(i[0])\n",
    "    \n",
    "print(l2)"
   ]
  },
  {
   "cell_type": "code",
   "execution_count": 10,
   "metadata": {},
   "outputs": [
    {
     "name": "stdout",
     "output_type": "stream",
     "text": [
      "[2, 5, 8]\n"
     ]
    }
   ],
   "source": [
    "l = [[1,2,3], [4,5,6], [7,8,9]]\n",
    "l2 = []\n",
    "\n",
    "for i in l:\n",
    "    l2.append(i[1])\n",
    "    \n",
    "print(l2)"
   ]
  },
  {
   "cell_type": "code",
   "execution_count": 17,
   "metadata": {},
   "outputs": [
    {
     "name": "stdout",
     "output_type": "stream",
     "text": [
      "1\n",
      "1\n",
      "2\n",
      "8\n",
      "3\n",
      "27\n"
     ]
    }
   ],
   "source": [
    "for i in [1,2,3]:\n",
    "    print(i)\n",
    "    print(i**3)"
   ]
  },
  {
   "cell_type": "code",
   "execution_count": 18,
   "metadata": {},
   "outputs": [
    {
     "name": "stdout",
     "output_type": "stream",
     "text": [
      "고양이\n"
     ]
    }
   ],
   "source": [
    "수염 = True\n",
    "\n",
    "if 수염:\n",
    "    print('고양이')\n",
    "else:\n",
    "    print('강아지')"
   ]
  },
  {
   "cell_type": "code",
   "execution_count": 21,
   "metadata": {},
   "outputs": [
    {
     "name": "stdout",
     "output_type": "stream",
     "text": [
      "5보다 크거나 같음\n"
     ]
    }
   ],
   "source": [
    "n = 5\n",
    "\n",
    "if n<5:\n",
    "    print('5보다 작음')\n",
    "else:\n",
    "    print('5보다 크거나 같음')"
   ]
  },
  {
   "cell_type": "markdown",
   "metadata": {},
   "source": [
    "> 조건문은 조건식이 있다"
   ]
  },
  {
   "cell_type": "code",
   "execution_count": 32,
   "metadata": {},
   "outputs": [
    {
     "name": "stdout",
     "output_type": "stream",
     "text": [
      "1 3 5 "
     ]
    }
   ],
   "source": [
    "l = [1,2,3,4,5]\n",
    "\n",
    "for i in l:\n",
    "    if i%2 == 1:\n",
    "        print(i, end=' ')"
   ]
  },
  {
   "cell_type": "code",
   "execution_count": 33,
   "metadata": {},
   "outputs": [
    {
     "data": {
      "text/plain": [
       "[1, 3, 5]"
      ]
     },
     "execution_count": 33,
     "metadata": {},
     "output_type": "execute_result"
    }
   ],
   "source": [
    "l[::2]"
   ]
  },
  {
   "cell_type": "code",
   "execution_count": null,
   "metadata": {},
   "outputs": [],
   "source": []
  },
  {
   "cell_type": "code",
   "execution_count": null,
   "metadata": {},
   "outputs": [],
   "source": []
  },
  {
   "cell_type": "code",
   "execution_count": null,
   "metadata": {},
   "outputs": [],
   "source": []
  },
  {
   "cell_type": "code",
   "execution_count": 29,
   "metadata": {},
   "outputs": [
    {
     "data": {
      "text/plain": [
       "15"
      ]
     },
     "execution_count": 29,
     "metadata": {},
     "output_type": "execute_result"
    }
   ],
   "source": [
    "sum([1,2,3,4,5])"
   ]
  },
  {
   "cell_type": "code",
   "execution_count": 31,
   "metadata": {},
   "outputs": [
    {
     "name": "stdout",
     "output_type": "stream",
     "text": [
      "[1, 2] 1\n",
      "[3, 4] 3\n",
      "[5, 6] 5\n"
     ]
    }
   ],
   "source": [
    "a = [[1,2], [3,4], [5,6]]\n",
    "\n",
    "for i in a:\n",
    "    for j in i:\n",
    "        if j%2==1:\n",
    "            print(i,j)"
   ]
  },
  {
   "cell_type": "code",
   "execution_count": 34,
   "metadata": {},
   "outputs": [
    {
     "data": {
      "text/plain": [
       "'***'"
      ]
     },
     "execution_count": 34,
     "metadata": {},
     "output_type": "execute_result"
    }
   ],
   "source": [
    "'*'*3"
   ]
  },
  {
   "cell_type": "code",
   "execution_count": 35,
   "metadata": {},
   "outputs": [
    {
     "data": {
      "text/plain": [
       "'****************************************************************************************************'"
      ]
     },
     "execution_count": 35,
     "metadata": {},
     "output_type": "execute_result"
    }
   ],
   "source": [
    "'*'*100"
   ]
  },
  {
   "cell_type": "code",
   "execution_count": 36,
   "metadata": {},
   "outputs": [
    {
     "data": {
      "text/plain": [
       "'   **'"
      ]
     },
     "execution_count": 36,
     "metadata": {},
     "output_type": "execute_result"
    }
   ],
   "source": [
    "' '*3 + '*'*2"
   ]
  },
  {
   "cell_type": "markdown",
   "metadata": {},
   "source": [
    "## 5일차"
   ]
  },
  {
   "cell_type": "markdown",
   "metadata": {},
   "source": [
    "### 연습문제 (20200710)\n",
    "> 10분 동안 아래 문제를 풀어보세요. (for 와 if 사용)\n",
    "\n",
    "```\n",
    "data = [['홍길동',22,'서울'],\n",
    "\t['장길산',35,'평양'],\n",
    "\t['둘리',5,'우주']\n",
    "\t['신사임당',60,'강릉']]\n",
    "\n",
    "위의 데이터에서 나이가 30보다 어린 학생들을 뽑아서\n",
    "data2 를 만드시오.\n",
    "그리고, 이름이 3글자가 아닌 학생들의 이름을 출력하시오.\n",
    "```"
   ]
  },
  {
   "cell_type": "code",
   "execution_count": 2,
   "metadata": {},
   "outputs": [],
   "source": [
    "data = [['홍길동',22,'서울'],\n",
    "        ['장길산',35,'평양'],\n",
    "        ['둘리',5,'우주'],\n",
    "        ['신사임당',60,'강릉']]"
   ]
  },
  {
   "cell_type": "code",
   "execution_count": 6,
   "metadata": {},
   "outputs": [
    {
     "name": "stdout",
     "output_type": "stream",
     "text": [
      "둘리\n",
      "신사임당\n"
     ]
    }
   ],
   "source": [
    "for student in data:\n",
    "    if len(student[0]) != 3:\n",
    "        print(student[0])"
   ]
  },
  {
   "cell_type": "code",
   "execution_count": 5,
   "metadata": {},
   "outputs": [
    {
     "name": "stdout",
     "output_type": "stream",
     "text": [
      "[['홍길동', 22, '서울'], ['둘리', 5, '우주']]\n"
     ]
    }
   ],
   "source": [
    "data2 = []\n",
    "\n",
    "for student in data:\n",
    "    if student[1]<30:\n",
    "        data2.append(student)\n",
    "        \n",
    "print(data2)"
   ]
  },
  {
   "cell_type": "code",
   "execution_count": 8,
   "metadata": {},
   "outputs": [
    {
     "data": {
      "text/plain": [
       "'     *****'"
      ]
     },
     "execution_count": 8,
     "metadata": {},
     "output_type": "execute_result"
    }
   ],
   "source": [
    "' '*5 + '*'*5"
   ]
  },
  {
   "cell_type": "code",
   "execution_count": 9,
   "metadata": {},
   "outputs": [],
   "source": [
    "data = [[1,2,3,4],\n",
    "       [5,6,7,8],\n",
    "       [9,10,11,12],\n",
    "       [13,14,15,16]]"
   ]
  },
  {
   "cell_type": "code",
   "execution_count": 10,
   "metadata": {},
   "outputs": [
    {
     "data": {
      "text/plain": [
       "[[1, 2, 3, 4], [5, 6, 7, 8], [9, 10, 11, 12], [13, 14, 15, 16]]"
      ]
     },
     "execution_count": 10,
     "metadata": {},
     "output_type": "execute_result"
    }
   ],
   "source": [
    "data"
   ]
  },
  {
   "cell_type": "code",
   "execution_count": null,
   "metadata": {},
   "outputs": [],
   "source": []
  },
  {
   "cell_type": "code",
   "execution_count": 11,
   "metadata": {},
   "outputs": [
    {
     "data": {
      "text/plain": [
       "(1, 2, '삼', 4, 'oh')"
      ]
     },
     "execution_count": 11,
     "metadata": {},
     "output_type": "execute_result"
    }
   ],
   "source": [
    "t = (1,2,'삼',4,'oh')\n",
    "t"
   ]
  },
  {
   "cell_type": "code",
   "execution_count": 12,
   "metadata": {},
   "outputs": [
    {
     "data": {
      "text/plain": [
       "tuple"
      ]
     },
     "execution_count": 12,
     "metadata": {},
     "output_type": "execute_result"
    }
   ],
   "source": [
    "type(t)"
   ]
  },
  {
   "cell_type": "code",
   "execution_count": 13,
   "metadata": {},
   "outputs": [
    {
     "data": {
      "text/plain": [
       "(1, 2, 3, 4, 5)"
      ]
     },
     "execution_count": 13,
     "metadata": {},
     "output_type": "execute_result"
    }
   ],
   "source": [
    "tuple([1,2,3,4,5])"
   ]
  },
  {
   "cell_type": "code",
   "execution_count": 14,
   "metadata": {},
   "outputs": [],
   "source": [
    "a = [3]\n",
    "b = []"
   ]
  },
  {
   "cell_type": "code",
   "execution_count": 16,
   "metadata": {},
   "outputs": [
    {
     "data": {
      "text/plain": [
       "(3,)"
      ]
     },
     "execution_count": 16,
     "metadata": {},
     "output_type": "execute_result"
    }
   ],
   "source": [
    "t = (3,)\n",
    "t"
   ]
  },
  {
   "cell_type": "code",
   "execution_count": 17,
   "metadata": {},
   "outputs": [],
   "source": [
    "t = (1,2,3,4,5)"
   ]
  },
  {
   "cell_type": "code",
   "execution_count": 18,
   "metadata": {},
   "outputs": [
    {
     "ename": "TypeError",
     "evalue": "'tuple' object does not support item assignment",
     "output_type": "error",
     "traceback": [
      "\u001b[1;31m---------------------------------------------------------------------------\u001b[0m",
      "\u001b[1;31mTypeError\u001b[0m                                 Traceback (most recent call last)",
      "\u001b[1;32m<ipython-input-18-de6d56bdc493>\u001b[0m in \u001b[0;36m<module>\u001b[1;34m()\u001b[0m\n\u001b[1;32m----> 1\u001b[1;33m \u001b[0mt\u001b[0m\u001b[1;33m[\u001b[0m\u001b[1;36m3\u001b[0m\u001b[1;33m]\u001b[0m \u001b[1;33m=\u001b[0m \u001b[1;36m0\u001b[0m\u001b[1;33m\u001b[0m\u001b[0m\n\u001b[0m",
      "\u001b[1;31mTypeError\u001b[0m: 'tuple' object does not support item assignment"
     ]
    }
   ],
   "source": [
    "t[3] = 0"
   ]
  },
  {
   "cell_type": "code",
   "execution_count": 22,
   "metadata": {},
   "outputs": [],
   "source": [
    "(a,b) = [1,2]"
   ]
  },
  {
   "cell_type": "code",
   "execution_count": 23,
   "metadata": {},
   "outputs": [
    {
     "data": {
      "text/plain": [
       "1"
      ]
     },
     "execution_count": 23,
     "metadata": {},
     "output_type": "execute_result"
    }
   ],
   "source": [
    "a"
   ]
  },
  {
   "cell_type": "code",
   "execution_count": 24,
   "metadata": {},
   "outputs": [
    {
     "data": {
      "text/plain": [
       "2"
      ]
     },
     "execution_count": 24,
     "metadata": {},
     "output_type": "execute_result"
    }
   ],
   "source": [
    "b"
   ]
  },
  {
   "cell_type": "code",
   "execution_count": 25,
   "metadata": {},
   "outputs": [
    {
     "data": {
      "text/plain": [
       "(1, 2)"
      ]
     },
     "execution_count": 25,
     "metadata": {},
     "output_type": "execute_result"
    }
   ],
   "source": [
    "1,2"
   ]
  },
  {
   "cell_type": "code",
   "execution_count": 26,
   "metadata": {},
   "outputs": [
    {
     "data": {
      "text/plain": [
       "(1, 2)"
      ]
     },
     "execution_count": 26,
     "metadata": {},
     "output_type": "execute_result"
    }
   ],
   "source": [
    "a, b"
   ]
  },
  {
   "cell_type": "code",
   "execution_count": 27,
   "metadata": {},
   "outputs": [],
   "source": [
    "a = 1\n",
    "b = 100"
   ]
  },
  {
   "cell_type": "code",
   "execution_count": 28,
   "metadata": {},
   "outputs": [],
   "source": [
    "(a,b) = (b,a)"
   ]
  },
  {
   "cell_type": "code",
   "execution_count": 29,
   "metadata": {},
   "outputs": [
    {
     "data": {
      "text/plain": [
       "(100, 1)"
      ]
     },
     "execution_count": 29,
     "metadata": {},
     "output_type": "execute_result"
    }
   ],
   "source": [
    "a,b"
   ]
  },
  {
   "cell_type": "code",
   "execution_count": 30,
   "metadata": {},
   "outputs": [
    {
     "data": {
      "text/plain": [
       "{1, 2, 3, 4, 5}"
      ]
     },
     "execution_count": 30,
     "metadata": {},
     "output_type": "execute_result"
    }
   ],
   "source": [
    "{1,2,3,4,5}"
   ]
  },
  {
   "cell_type": "code",
   "execution_count": 31,
   "metadata": {},
   "outputs": [
    {
     "data": {
      "text/plain": [
       "{1, 2, 3, 4, 5}"
      ]
     },
     "execution_count": 31,
     "metadata": {},
     "output_type": "execute_result"
    }
   ],
   "source": [
    "{1,2,3,3,3,3,4,5}"
   ]
  },
  {
   "cell_type": "code",
   "execution_count": 32,
   "metadata": {},
   "outputs": [],
   "source": [
    "a = [4,5,1,3,2,3,5]"
   ]
  },
  {
   "cell_type": "code",
   "execution_count": 33,
   "metadata": {},
   "outputs": [
    {
     "data": {
      "text/plain": [
       "[4, 5, 1, 3, 2, 3, 5]"
      ]
     },
     "execution_count": 33,
     "metadata": {},
     "output_type": "execute_result"
    }
   ],
   "source": [
    "a"
   ]
  },
  {
   "cell_type": "code",
   "execution_count": 36,
   "metadata": {},
   "outputs": [
    {
     "data": {
      "text/plain": [
       "[1, 2, 3, 4, 5]"
      ]
     },
     "execution_count": 36,
     "metadata": {},
     "output_type": "execute_result"
    }
   ],
   "source": [
    "list(set(a))"
   ]
  },
  {
   "cell_type": "code",
   "execution_count": 37,
   "metadata": {},
   "outputs": [
    {
     "data": {
      "text/plain": [
       "{6}"
      ]
     },
     "execution_count": 37,
     "metadata": {},
     "output_type": "execute_result"
    }
   ],
   "source": [
    "set([1,2,3,4,5,6,7,8,9,10]) - set([1,2,3,4,5,7,8,9,10,11])"
   ]
  },
  {
   "cell_type": "code",
   "execution_count": 38,
   "metadata": {},
   "outputs": [
    {
     "ename": "TypeError",
     "evalue": "'set' object does not support indexing",
     "output_type": "error",
     "traceback": [
      "\u001b[1;31m---------------------------------------------------------------------------\u001b[0m",
      "\u001b[1;31mTypeError\u001b[0m                                 Traceback (most recent call last)",
      "\u001b[1;32m<ipython-input-38-7bf80bf70831>\u001b[0m in \u001b[0;36m<module>\u001b[1;34m()\u001b[0m\n\u001b[0;32m      1\u001b[0m \u001b[0ms\u001b[0m \u001b[1;33m=\u001b[0m \u001b[1;33m{\u001b[0m\u001b[1;36m1\u001b[0m\u001b[1;33m,\u001b[0m\u001b[1;36m2\u001b[0m\u001b[1;33m,\u001b[0m\u001b[1;36m3\u001b[0m\u001b[1;33m}\u001b[0m\u001b[1;33m\u001b[0m\u001b[0m\n\u001b[1;32m----> 2\u001b[1;33m \u001b[0ms\u001b[0m\u001b[1;33m[\u001b[0m\u001b[1;36m0\u001b[0m\u001b[1;33m]\u001b[0m\u001b[1;33m\u001b[0m\u001b[0m\n\u001b[0m",
      "\u001b[1;31mTypeError\u001b[0m: 'set' object does not support indexing"
     ]
    }
   ],
   "source": [
    "s = {1,2,3}\n",
    "s[0]"
   ]
  },
  {
   "cell_type": "code",
   "execution_count": 39,
   "metadata": {},
   "outputs": [],
   "source": [
    "A = {1,2,3,4,5}\n",
    "B = {4,5,6,7,8}"
   ]
  },
  {
   "cell_type": "code",
   "execution_count": 40,
   "metadata": {},
   "outputs": [
    {
     "data": {
      "text/plain": [
       "{1, 2, 3, 4, 5, 6, 7, 8}"
      ]
     },
     "execution_count": 40,
     "metadata": {},
     "output_type": "execute_result"
    }
   ],
   "source": [
    "A | B"
   ]
  },
  {
   "cell_type": "code",
   "execution_count": 41,
   "metadata": {},
   "outputs": [
    {
     "data": {
      "text/plain": [
       "{4, 5}"
      ]
     },
     "execution_count": 41,
     "metadata": {},
     "output_type": "execute_result"
    }
   ],
   "source": [
    "A & B"
   ]
  },
  {
   "cell_type": "code",
   "execution_count": 42,
   "metadata": {},
   "outputs": [
    {
     "data": {
      "text/plain": [
       "{1, 2, 3}"
      ]
     },
     "execution_count": 42,
     "metadata": {},
     "output_type": "execute_result"
    }
   ],
   "source": [
    "A - B"
   ]
  },
  {
   "cell_type": "code",
   "execution_count": 43,
   "metadata": {},
   "outputs": [
    {
     "data": {
      "text/plain": [
       "{'나이': 22, '이름': '홍길동', '지역': '서울'}"
      ]
     },
     "execution_count": 43,
     "metadata": {},
     "output_type": "execute_result"
    }
   ],
   "source": [
    "d = {'이름':'홍길동', '나이':22, '지역':'서울'}\n",
    "d"
   ]
  },
  {
   "cell_type": "code",
   "execution_count": 44,
   "metadata": {},
   "outputs": [
    {
     "data": {
      "text/plain": [
       "'홍길동'"
      ]
     },
     "execution_count": 44,
     "metadata": {},
     "output_type": "execute_result"
    }
   ],
   "source": [
    "d['이름']"
   ]
  },
  {
   "cell_type": "code",
   "execution_count": 45,
   "metadata": {},
   "outputs": [
    {
     "data": {
      "text/plain": [
       "22"
      ]
     },
     "execution_count": 45,
     "metadata": {},
     "output_type": "execute_result"
    }
   ],
   "source": [
    "d['나이']"
   ]
  },
  {
   "cell_type": "code",
   "execution_count": 46,
   "metadata": {},
   "outputs": [
    {
     "data": {
      "text/plain": [
       "{'나이': 23, '이름': '홍길동', '지역': '서울'}"
      ]
     },
     "execution_count": 46,
     "metadata": {},
     "output_type": "execute_result"
    }
   ],
   "source": [
    "d['나이'] = 23\n",
    "d"
   ]
  },
  {
   "cell_type": "code",
   "execution_count": 48,
   "metadata": {},
   "outputs": [
    {
     "data": {
      "text/plain": [
       "{'나이': 23, '성별': '남', '이름': '홍길동', '지역': '서울'}"
      ]
     },
     "execution_count": 48,
     "metadata": {},
     "output_type": "execute_result"
    }
   ],
   "source": [
    "d['성별']='남'\n",
    "d"
   ]
  },
  {
   "cell_type": "code",
   "execution_count": 49,
   "metadata": {},
   "outputs": [
    {
     "data": {
      "text/plain": [
       "{'나이': 23, '성별': '남', '이름': '홍길동', '지역': '서울'}"
      ]
     },
     "execution_count": 49,
     "metadata": {},
     "output_type": "execute_result"
    }
   ],
   "source": [
    "d"
   ]
  },
  {
   "cell_type": "code",
   "execution_count": 51,
   "metadata": {},
   "outputs": [
    {
     "data": {
      "text/plain": [
       "['이름', '나이', '지역', '성별']"
      ]
     },
     "execution_count": 51,
     "metadata": {},
     "output_type": "execute_result"
    }
   ],
   "source": [
    "list(d.keys())"
   ]
  },
  {
   "cell_type": "code",
   "execution_count": 52,
   "metadata": {},
   "outputs": [
    {
     "data": {
      "text/plain": [
       "dict_values(['홍길동', 23, '서울', '남'])"
      ]
     },
     "execution_count": 52,
     "metadata": {},
     "output_type": "execute_result"
    }
   ],
   "source": [
    "d.values()"
   ]
  },
  {
   "cell_type": "code",
   "execution_count": 53,
   "metadata": {},
   "outputs": [
    {
     "data": {
      "text/plain": [
       "dict_items([('이름', '홍길동'), ('나이', 23), ('지역', '서울'), ('성별', '남')])"
      ]
     },
     "execution_count": 53,
     "metadata": {},
     "output_type": "execute_result"
    }
   ],
   "source": [
    "d.items()"
   ]
  },
  {
   "cell_type": "code",
   "execution_count": 54,
   "metadata": {},
   "outputs": [
    {
     "name": "stdout",
     "output_type": "stream",
     "text": [
      "1\n",
      "2\n",
      "3\n"
     ]
    }
   ],
   "source": [
    "l = [1,2,3]\n",
    "\n",
    "for i in l:\n",
    "    print(i)"
   ]
  },
  {
   "cell_type": "code",
   "execution_count": 56,
   "metadata": {},
   "outputs": [
    {
     "name": "stdout",
     "output_type": "stream",
     "text": [
      "이름 홍길동\n",
      "나이 23\n",
      "지역 서울\n",
      "성별 남\n"
     ]
    }
   ],
   "source": [
    "for i in d:\n",
    "    print(i, d[i])"
   ]
  },
  {
   "cell_type": "code",
   "execution_count": 57,
   "metadata": {},
   "outputs": [
    {
     "name": "stdout",
     "output_type": "stream",
     "text": [
      "이름 홍길동\n",
      "나이 23\n",
      "지역 서울\n",
      "성별 남\n"
     ]
    }
   ],
   "source": [
    "for i in d.keys():\n",
    "    print(i, d[i])"
   ]
  },
  {
   "cell_type": "code",
   "execution_count": 58,
   "metadata": {},
   "outputs": [
    {
     "name": "stdout",
     "output_type": "stream",
     "text": [
      "홍길동\n",
      "23\n",
      "서울\n",
      "남\n"
     ]
    }
   ],
   "source": [
    "for i in d.values():\n",
    "    print(i)"
   ]
  },
  {
   "cell_type": "code",
   "execution_count": 61,
   "metadata": {},
   "outputs": [
    {
     "name": "stdout",
     "output_type": "stream",
     "text": [
      "이름 => 홍길동\n",
      "나이 => 23\n",
      "지역 => 서울\n",
      "성별 => 남\n"
     ]
    }
   ],
   "source": [
    "for k,v in d.items():\n",
    "    print(k, '=>', v)"
   ]
  },
  {
   "cell_type": "code",
   "execution_count": 62,
   "metadata": {},
   "outputs": [
    {
     "data": {
      "text/plain": [
       "(True, False)"
      ]
     },
     "execution_count": 62,
     "metadata": {},
     "output_type": "execute_result"
    }
   ],
   "source": [
    "True, False"
   ]
  },
  {
   "cell_type": "code",
   "execution_count": 63,
   "metadata": {},
   "outputs": [
    {
     "data": {
      "text/plain": [
       "bool"
      ]
     },
     "execution_count": 63,
     "metadata": {},
     "output_type": "execute_result"
    }
   ],
   "source": [
    "type(True)"
   ]
  },
  {
   "cell_type": "code",
   "execution_count": 66,
   "metadata": {},
   "outputs": [
    {
     "data": {
      "text/plain": [
       "True"
      ]
     },
     "execution_count": 66,
     "metadata": {},
     "output_type": "execute_result"
    }
   ],
   "source": [
    "bool(10000)"
   ]
  },
  {
   "cell_type": "code",
   "execution_count": 67,
   "metadata": {},
   "outputs": [
    {
     "data": {
      "text/plain": [
       "2"
      ]
     },
     "execution_count": 67,
     "metadata": {},
     "output_type": "execute_result"
    }
   ],
   "source": [
    "True + 1"
   ]
  },
  {
   "cell_type": "code",
   "execution_count": 68,
   "metadata": {},
   "outputs": [
    {
     "data": {
      "text/plain": [
       "0"
      ]
     },
     "execution_count": 68,
     "metadata": {},
     "output_type": "execute_result"
    }
   ],
   "source": [
    "False * 10000000"
   ]
  },
  {
   "cell_type": "code",
   "execution_count": 73,
   "metadata": {},
   "outputs": [
    {
     "name": "stdout",
     "output_type": "stream",
     "text": [
      "큰수\n"
     ]
    }
   ],
   "source": [
    "n = 8\n",
    "\n",
    "if n!=5:\n",
    "    print('큰수')"
   ]
  },
  {
   "cell_type": "code",
   "execution_count": 71,
   "metadata": {},
   "outputs": [
    {
     "data": {
      "text/plain": [
       "True"
      ]
     },
     "execution_count": 71,
     "metadata": {},
     "output_type": "execute_result"
    }
   ],
   "source": [
    "n>5"
   ]
  },
  {
   "cell_type": "code",
   "execution_count": 75,
   "metadata": {},
   "outputs": [
    {
     "data": {
      "text/plain": [
       "False"
      ]
     },
     "execution_count": 75,
     "metadata": {},
     "output_type": "execute_result"
    }
   ],
   "source": [
    "0 in [1,2,3]"
   ]
  },
  {
   "cell_type": "code",
   "execution_count": 76,
   "metadata": {},
   "outputs": [
    {
     "data": {
      "text/plain": [
       "False"
      ]
     },
     "execution_count": 76,
     "metadata": {},
     "output_type": "execute_result"
    }
   ],
   "source": [
    "'a' in 'hello'"
   ]
  },
  {
   "cell_type": "code",
   "execution_count": 78,
   "metadata": {},
   "outputs": [
    {
     "data": {
      "text/plain": [
       "False"
      ]
     },
     "execution_count": 78,
     "metadata": {},
     "output_type": "execute_result"
    }
   ],
   "source": [
    "n = 11\n",
    "\n",
    "(n>0) and (n<10) or (n!=5)"
   ]
  },
  {
   "cell_type": "code",
   "execution_count": 79,
   "metadata": {},
   "outputs": [
    {
     "data": {
      "text/plain": [
       "True"
      ]
     },
     "execution_count": 79,
     "metadata": {},
     "output_type": "execute_result"
    }
   ],
   "source": [
    "n = 11\n",
    "\n",
    "(n>0) or (n<10)"
   ]
  },
  {
   "cell_type": "code",
   "execution_count": 80,
   "metadata": {},
   "outputs": [
    {
     "data": {
      "text/plain": [
       "False"
      ]
     },
     "execution_count": 80,
     "metadata": {},
     "output_type": "execute_result"
    }
   ],
   "source": [
    "not (n>0)"
   ]
  },
  {
   "cell_type": "code",
   "execution_count": 81,
   "metadata": {},
   "outputs": [],
   "source": [
    "data = [['홍길동',22,'서울'], ['장길산',35,'평양'], ['둘리',5,'우주']]"
   ]
  },
  {
   "cell_type": "code",
   "execution_count": 82,
   "metadata": {},
   "outputs": [
    {
     "data": {
      "text/plain": [
       "[['홍길동', 22, '서울'], ['장길산', 35, '평양'], ['둘리', 5, '우주']]"
      ]
     },
     "execution_count": 82,
     "metadata": {},
     "output_type": "execute_result"
    }
   ],
   "source": [
    "data"
   ]
  },
  {
   "cell_type": "code",
   "execution_count": null,
   "metadata": {},
   "outputs": [],
   "source": [
    "{'이름':'홍길동', '나이':22, '지역':'서울'}"
   ]
  },
  {
   "cell_type": "code",
   "execution_count": 86,
   "metadata": {},
   "outputs": [],
   "source": [
    "data2 = {0: {'이름':'홍길동', '나이':22, '지역':'서울'},\n",
    "         1: {'이름':'장길산', '나이':35, '지역':'평양'},\n",
    "         2: {'이름':'둘리', '나이':5, '지역':'우주'}}"
   ]
  },
  {
   "cell_type": "code",
   "execution_count": 87,
   "metadata": {},
   "outputs": [
    {
     "data": {
      "text/plain": [
       "{0: {'나이': 22, '이름': '홍길동', '지역': '서울'},\n",
       " 1: {'나이': 35, '이름': '장길산', '지역': '평양'},\n",
       " 2: {'나이': 5, '이름': '둘리', '지역': '우주'}}"
      ]
     },
     "execution_count": 87,
     "metadata": {},
     "output_type": "execute_result"
    }
   ],
   "source": [
    "data2"
   ]
  },
  {
   "cell_type": "code",
   "execution_count": 89,
   "metadata": {},
   "outputs": [
    {
     "data": {
      "text/plain": [
       "{'나이': 5, '이름': '둘리', '지역': '우주'}"
      ]
     },
     "execution_count": 89,
     "metadata": {},
     "output_type": "execute_result"
    }
   ],
   "source": [
    "data2[2]"
   ]
  },
  {
   "cell_type": "code",
   "execution_count": 90,
   "metadata": {},
   "outputs": [
    {
     "data": {
      "text/plain": [
       "5"
      ]
     },
     "execution_count": 90,
     "metadata": {},
     "output_type": "execute_result"
    }
   ],
   "source": [
    "data2[2]['나이']"
   ]
  },
  {
   "cell_type": "code",
   "execution_count": null,
   "metadata": {},
   "outputs": [],
   "source": [
    "data3 = {'이름': {0:'홍길동', 1:'장길산', 2:'둘리'},\n",
    "         '나이': {0:22, 1:35, 2:5}}"
   ]
  },
  {
   "cell_type": "code",
   "execution_count": null,
   "metadata": {},
   "outputs": [],
   "source": []
  },
  {
   "cell_type": "code",
   "execution_count": 91,
   "metadata": {},
   "outputs": [],
   "source": [
    "n = 1"
   ]
  },
  {
   "cell_type": "code",
   "execution_count": 92,
   "metadata": {},
   "outputs": [
    {
     "data": {
      "text/plain": [
       "2"
      ]
     },
     "execution_count": 92,
     "metadata": {},
     "output_type": "execute_result"
    }
   ],
   "source": [
    "n*2"
   ]
  },
  {
   "cell_type": "code",
   "execution_count": 93,
   "metadata": {},
   "outputs": [],
   "source": [
    "l = [1,2,3]"
   ]
  },
  {
   "cell_type": "code",
   "execution_count": 94,
   "metadata": {},
   "outputs": [
    {
     "data": {
      "text/plain": [
       "[1, 2, 3, 4, 5]"
      ]
     },
     "execution_count": 94,
     "metadata": {},
     "output_type": "execute_result"
    }
   ],
   "source": [
    "l + [4,5]"
   ]
  },
  {
   "cell_type": "code",
   "execution_count": 95,
   "metadata": {},
   "outputs": [],
   "source": [
    "n = 1\n",
    "n2 = n"
   ]
  },
  {
   "cell_type": "code",
   "execution_count": 96,
   "metadata": {},
   "outputs": [],
   "source": [
    "n2 = 999"
   ]
  },
  {
   "cell_type": "code",
   "execution_count": 97,
   "metadata": {},
   "outputs": [
    {
     "data": {
      "text/plain": [
       "(1, 999)"
      ]
     },
     "execution_count": 97,
     "metadata": {},
     "output_type": "execute_result"
    }
   ],
   "source": [
    "n, n2"
   ]
  },
  {
   "cell_type": "code",
   "execution_count": 98,
   "metadata": {},
   "outputs": [],
   "source": [
    "l = [1,2,3]\n",
    "l2 = l"
   ]
  },
  {
   "cell_type": "code",
   "execution_count": 99,
   "metadata": {},
   "outputs": [],
   "source": [
    "l2[0] = 999"
   ]
  },
  {
   "cell_type": "code",
   "execution_count": 100,
   "metadata": {},
   "outputs": [
    {
     "data": {
      "text/plain": [
       "[999, 2, 3]"
      ]
     },
     "execution_count": 100,
     "metadata": {},
     "output_type": "execute_result"
    }
   ],
   "source": [
    "l2"
   ]
  },
  {
   "cell_type": "code",
   "execution_count": 101,
   "metadata": {},
   "outputs": [
    {
     "data": {
      "text/plain": [
       "[999, 2, 3]"
      ]
     },
     "execution_count": 101,
     "metadata": {},
     "output_type": "execute_result"
    }
   ],
   "source": [
    "l"
   ]
  },
  {
   "cell_type": "code",
   "execution_count": null,
   "metadata": {},
   "outputs": [],
   "source": [
    "l = [1,2,3]\n",
    "m = [l,l,l]"
   ]
  },
  {
   "cell_type": "code",
   "execution_count": 102,
   "metadata": {},
   "outputs": [],
   "source": [
    "l = [1,2,3]\n",
    "m = l.copy()"
   ]
  },
  {
   "cell_type": "code",
   "execution_count": 103,
   "metadata": {},
   "outputs": [],
   "source": [
    "m[0] = 999999"
   ]
  },
  {
   "cell_type": "code",
   "execution_count": 104,
   "metadata": {},
   "outputs": [
    {
     "data": {
      "text/plain": [
       "[1, 2, 3]"
      ]
     },
     "execution_count": 104,
     "metadata": {},
     "output_type": "execute_result"
    }
   ],
   "source": [
    "l"
   ]
  },
  {
   "cell_type": "code",
   "execution_count": 105,
   "metadata": {},
   "outputs": [],
   "source": [
    "m = l[:]\n",
    "m[0]=-777"
   ]
  },
  {
   "cell_type": "code",
   "execution_count": 106,
   "metadata": {},
   "outputs": [
    {
     "data": {
      "text/plain": [
       "[1, 2, 3]"
      ]
     },
     "execution_count": 106,
     "metadata": {},
     "output_type": "execute_result"
    }
   ],
   "source": [
    "l"
   ]
  },
  {
   "cell_type": "code",
   "execution_count": 108,
   "metadata": {},
   "outputs": [],
   "source": [
    "l = []\n",
    "m = [l,l,l]"
   ]
  },
  {
   "cell_type": "code",
   "execution_count": 110,
   "metadata": {},
   "outputs": [],
   "source": [
    "a,(b,c) = (1,(2,3)) # a,b,c"
   ]
  },
  {
   "cell_type": "code",
   "execution_count": 111,
   "metadata": {},
   "outputs": [
    {
     "data": {
      "text/plain": [
       "(1, 2, 3)"
      ]
     },
     "execution_count": 111,
     "metadata": {},
     "output_type": "execute_result"
    }
   ],
   "source": [
    "(a,b,c)"
   ]
  },
  {
   "cell_type": "code",
   "execution_count": 112,
   "metadata": {},
   "outputs": [
    {
     "data": {
      "text/plain": [
       "(1, 2, 3)"
      ]
     },
     "execution_count": 112,
     "metadata": {},
     "output_type": "execute_result"
    }
   ],
   "source": [
    "1, 2, 3"
   ]
  },
  {
   "cell_type": "code",
   "execution_count": 113,
   "metadata": {},
   "outputs": [],
   "source": [
    "a=b=c=99"
   ]
  },
  {
   "cell_type": "code",
   "execution_count": 114,
   "metadata": {},
   "outputs": [
    {
     "data": {
      "text/plain": [
       "99"
      ]
     },
     "execution_count": 114,
     "metadata": {},
     "output_type": "execute_result"
    }
   ],
   "source": [
    "c"
   ]
  },
  {
   "cell_type": "code",
   "execution_count": 115,
   "metadata": {},
   "outputs": [],
   "source": [
    "l = [1,2,3]"
   ]
  },
  {
   "cell_type": "code",
   "execution_count": 116,
   "metadata": {},
   "outputs": [
    {
     "data": {
      "text/plain": [
       "[2, 3]"
      ]
     },
     "execution_count": 116,
     "metadata": {},
     "output_type": "execute_result"
    }
   ],
   "source": [
    "l2 = l[1:]\n",
    "l2"
   ]
  },
  {
   "cell_type": "code",
   "execution_count": 117,
   "metadata": {},
   "outputs": [],
   "source": [
    "l2[-1] = 999"
   ]
  },
  {
   "cell_type": "code",
   "execution_count": 118,
   "metadata": {},
   "outputs": [
    {
     "data": {
      "text/plain": [
       "[1, 2, 3]"
      ]
     },
     "execution_count": 118,
     "metadata": {},
     "output_type": "execute_result"
    }
   ],
   "source": [
    "l"
   ]
  },
  {
   "cell_type": "code",
   "execution_count": null,
   "metadata": {},
   "outputs": [],
   "source": [
    "l2 = l[:]"
   ]
  },
  {
   "cell_type": "code",
   "execution_count": 120,
   "metadata": {},
   "outputs": [],
   "source": [
    "n = 1\n",
    "\n",
    "if n>0:\n",
    "    #print('양수')\n",
    "    pass\n",
    "else:\n",
    "    print('음수')"
   ]
  },
  {
   "cell_type": "code",
   "execution_count": 122,
   "metadata": {},
   "outputs": [
    {
     "data": {
      "text/plain": [
       "-1"
      ]
     },
     "execution_count": 122,
     "metadata": {},
     "output_type": "execute_result"
    }
   ],
   "source": [
    "n = -3\n",
    "\n",
    "n2 = 0\n",
    "if n>=0:\n",
    "    n2 = 1\n",
    "else:\n",
    "    n2 = -1\n",
    "    \n",
    "n2"
   ]
  },
  {
   "cell_type": "code",
   "execution_count": 123,
   "metadata": {},
   "outputs": [
    {
     "data": {
      "text/plain": [
       "-1"
      ]
     },
     "execution_count": 123,
     "metadata": {},
     "output_type": "execute_result"
    }
   ],
   "source": [
    "n = -3\n",
    "n2 = 1 if n>=0 else -1\n",
    "n2"
   ]
  },
  {
   "cell_type": "code",
   "execution_count": 124,
   "metadata": {},
   "outputs": [
    {
     "name": "stdout",
     "output_type": "stream",
     "text": [
      "0\n",
      "1\n",
      "2\n",
      "3\n",
      "4\n",
      "5\n",
      "6\n",
      "7\n",
      "8\n",
      "9\n"
     ]
    }
   ],
   "source": [
    "n = 0\n",
    "while n<10:\n",
    "    print(n)\n",
    "    n= n+1"
   ]
  },
  {
   "cell_type": "code",
   "execution_count": 126,
   "metadata": {},
   "outputs": [
    {
     "name": "stdout",
     "output_type": "stream",
     "text": [
      "0\n",
      "1\n",
      "2\n",
      "3\n",
      "4\n",
      "5\n",
      "6\n",
      "7\n",
      "8\n",
      "9\n"
     ]
    }
   ],
   "source": [
    "for i in range(10):\n",
    "    print(i)"
   ]
  },
  {
   "cell_type": "code",
   "execution_count": 134,
   "metadata": {},
   "outputs": [
    {
     "name": "stdout",
     "output_type": "stream",
     "text": [
      "1\n",
      "3\n",
      "5\n",
      "7\n",
      "9\n",
      "11\n",
      "13\n",
      "15\n",
      "17\n",
      "19\n"
     ]
    }
   ],
   "source": [
    "for i in range(1,20,2):\n",
    "    print(i)"
   ]
  },
  {
   "cell_type": "code",
   "execution_count": 135,
   "metadata": {},
   "outputs": [
    {
     "name": "stdout",
     "output_type": "stream",
     "text": [
      "0 0\n",
      "0 1\n",
      "0 2\n",
      "1 0\n",
      "1 1\n",
      "1 2\n",
      "2 0\n",
      "2 1\n",
      "2 2\n"
     ]
    }
   ],
   "source": [
    "for i in range(3):\n",
    "    for j in range(3):\n",
    "        print(i, j)"
   ]
  },
  {
   "cell_type": "code",
   "execution_count": 3,
   "metadata": {},
   "outputs": [
    {
     "name": "stdout",
     "output_type": "stream",
     "text": [
      "2,4,6,8,10,12,14,16,18,\n",
      "3,6,9,12,15,18,21,24,27,\n",
      "4,8,12,16,20,24,28,32,36,\n",
      "5,10,15,20,25,30,35,40,45,\n",
      "6,12,18,24,30,36,42,48,54,\n",
      "7,14,21,28,35,42,49,56,63,\n",
      "8,16,24,32,40,48,56,64,72,\n",
      "9,18,27,36,45,54,63,72,81,\n"
     ]
    }
   ],
   "source": [
    "for i in range(2,10):\n",
    "    for j in range(1,10):\n",
    "        print(i*j, end=',')\n",
    "    print('')"
   ]
  },
  {
   "cell_type": "code",
   "execution_count": 4,
   "metadata": {},
   "outputs": [
    {
     "data": {
      "text/plain": [
       "[[2, 4, 6, 8, 10, 12, 14, 16, 18],\n",
       " [3, 6, 9, 12, 15, 18, 21, 24, 27],\n",
       " [4, 8, 12, 16, 20, 24, 28, 32, 36],\n",
       " [5, 10, 15, 20, 25, 30, 35, 40, 45],\n",
       " [6, 12, 18, 24, 30, 36, 42, 48, 54],\n",
       " [7, 14, 21, 28, 35, 42, 49, 56, 63],\n",
       " [8, 16, 24, 32, 40, 48, 56, 64, 72],\n",
       " [9, 18, 27, 36, 45, 54, 63, 72, 81]]"
      ]
     },
     "execution_count": 4,
     "metadata": {},
     "output_type": "execute_result"
    }
   ],
   "source": [
    "구구단 = []\n",
    "\n",
    "for i in range(2,10):\n",
    "    l=[]\n",
    "    for j in range(1,10):\n",
    "        l.append(i*j)\n",
    "        \n",
    "    구구단.append(l)\n",
    "\n",
    "구구단"
   ]
  },
  {
   "cell_type": "code",
   "execution_count": 5,
   "metadata": {},
   "outputs": [],
   "source": [
    "# [14,21,28,...,63] 리스트로 만드시오\n",
    "칼럼 = []\n",
    "\n",
    "for 한줄 in 구구단:\n",
    "    칼럼.append(한줄[-3])"
   ]
  },
  {
   "cell_type": "code",
   "execution_count": 6,
   "metadata": {},
   "outputs": [
    {
     "data": {
      "text/plain": [
       "[14, 21, 28, 35, 42, 49, 56, 63]"
      ]
     },
     "execution_count": 6,
     "metadata": {},
     "output_type": "execute_result"
    }
   ],
   "source": [
    "칼럼"
   ]
  },
  {
   "cell_type": "code",
   "execution_count": null,
   "metadata": {},
   "outputs": [],
   "source": [
    "l = [[1,2,3],[4,5,6],[7,8,9]]\n",
    "\n",
    "for i in l:\n",
    "    print(i[0],i[1],i[2])"
   ]
  },
  {
   "cell_type": "code",
   "execution_count": null,
   "metadata": {},
   "outputs": [],
   "source": [
    "iterator\n",
    "range(10)"
   ]
  },
  {
   "cell_type": "code",
   "execution_count": 10,
   "metadata": {},
   "outputs": [
    {
     "data": {
      "text/plain": [
       "dict_items([('a', 1), ('b', 2), ('c', 3)])"
      ]
     },
     "execution_count": 10,
     "metadata": {},
     "output_type": "execute_result"
    }
   ],
   "source": [
    "d = {'a':1, 'b':2, 'c':3}\n",
    "d.items()"
   ]
  },
  {
   "cell_type": "code",
   "execution_count": 11,
   "metadata": {},
   "outputs": [
    {
     "data": {
      "text/plain": [
       "[0, 2, 4, 6, 8, 10, 12, 14, 16, 18]"
      ]
     },
     "execution_count": 11,
     "metadata": {},
     "output_type": "execute_result"
    }
   ],
   "source": [
    "l = []\n",
    "for i in range(10):\n",
    "    l.append(i*2)\n",
    "    \n",
    "l"
   ]
  },
  {
   "cell_type": "code",
   "execution_count": 12,
   "metadata": {},
   "outputs": [
    {
     "data": {
      "text/plain": [
       "[0, 2, 4, 6, 8, 10, 12, 14, 16, 18]"
      ]
     },
     "execution_count": 12,
     "metadata": {},
     "output_type": "execute_result"
    }
   ],
   "source": [
    "l = [i*2 for i in range(10)]\n",
    "l"
   ]
  },
  {
   "cell_type": "code",
   "execution_count": 13,
   "metadata": {
    "collapsed": true
   },
   "outputs": [
    {
     "data": {
      "text/plain": [
       "[[2, 1, 2],\n",
       " [2, 2, 4],\n",
       " [2, 3, 6],\n",
       " [2, 4, 8],\n",
       " [2, 5, 10],\n",
       " [2, 6, 12],\n",
       " [2, 7, 14],\n",
       " [2, 8, 16],\n",
       " [2, 9, 18],\n",
       " [3, 1, 3],\n",
       " [3, 2, 6],\n",
       " [3, 3, 9],\n",
       " [3, 4, 12],\n",
       " [3, 5, 15],\n",
       " [3, 6, 18],\n",
       " [3, 7, 21],\n",
       " [3, 8, 24],\n",
       " [3, 9, 27],\n",
       " [4, 1, 4],\n",
       " [4, 2, 8],\n",
       " [4, 3, 12],\n",
       " [4, 4, 16],\n",
       " [4, 5, 20],\n",
       " [4, 6, 24],\n",
       " [4, 7, 28],\n",
       " [4, 8, 32],\n",
       " [4, 9, 36],\n",
       " [5, 1, 5],\n",
       " [5, 2, 10],\n",
       " [5, 3, 15],\n",
       " [5, 4, 20],\n",
       " [5, 5, 25],\n",
       " [5, 6, 30],\n",
       " [5, 7, 35],\n",
       " [5, 8, 40],\n",
       " [5, 9, 45],\n",
       " [6, 1, 6],\n",
       " [6, 2, 12],\n",
       " [6, 3, 18],\n",
       " [6, 4, 24],\n",
       " [6, 5, 30],\n",
       " [6, 6, 36],\n",
       " [6, 7, 42],\n",
       " [6, 8, 48],\n",
       " [6, 9, 54],\n",
       " [7, 1, 7],\n",
       " [7, 2, 14],\n",
       " [7, 3, 21],\n",
       " [7, 4, 28],\n",
       " [7, 5, 35],\n",
       " [7, 6, 42],\n",
       " [7, 7, 49],\n",
       " [7, 8, 56],\n",
       " [7, 9, 63],\n",
       " [8, 1, 8],\n",
       " [8, 2, 16],\n",
       " [8, 3, 24],\n",
       " [8, 4, 32],\n",
       " [8, 5, 40],\n",
       " [8, 6, 48],\n",
       " [8, 7, 56],\n",
       " [8, 8, 64],\n",
       " [8, 9, 72],\n",
       " [9, 1, 9],\n",
       " [9, 2, 18],\n",
       " [9, 3, 27],\n",
       " [9, 4, 36],\n",
       " [9, 5, 45],\n",
       " [9, 6, 54],\n",
       " [9, 7, 63],\n",
       " [9, 8, 72],\n",
       " [9, 9, 81]]"
      ]
     },
     "execution_count": 13,
     "metadata": {},
     "output_type": "execute_result"
    }
   ],
   "source": [
    "구구단 = [[i,j,i*j] for i in range(2,10) for j in range(1,10)]\n",
    "구구단"
   ]
  },
  {
   "cell_type": "code",
   "execution_count": 14,
   "metadata": {},
   "outputs": [
    {
     "data": {
      "text/plain": [
       "[[2, 4, 6, 8, 10, 12, 14, 16, 18],\n",
       " [3, 6, 9, 12, 15, 18, 21, 24, 27],\n",
       " [4, 8, 12, 16, 20, 24, 28, 32, 36],\n",
       " [5, 10, 15, 20, 25, 30, 35, 40, 45],\n",
       " [6, 12, 18, 24, 30, 36, 42, 48, 54],\n",
       " [7, 14, 21, 28, 35, 42, 49, 56, 63],\n",
       " [8, 16, 24, 32, 40, 48, 56, 64, 72],\n",
       " [9, 18, 27, 36, 45, 54, 63, 72, 81]]"
      ]
     },
     "execution_count": 14,
     "metadata": {},
     "output_type": "execute_result"
    }
   ],
   "source": [
    "구구단 = [[단*j for j in range(1,10)] for 단 in range(2,10)]\n",
    "구구단"
   ]
  },
  {
   "cell_type": "code",
   "execution_count": 15,
   "metadata": {},
   "outputs": [
    {
     "data": {
      "text/plain": [
       "[1, 3, 5, 7, 9]"
      ]
     },
     "execution_count": 15,
     "metadata": {},
     "output_type": "execute_result"
    }
   ],
   "source": [
    "l = []\n",
    "\n",
    "for i in range(10):\n",
    "    if i%2 == 1:\n",
    "        l.append(i)\n",
    "l"
   ]
  },
  {
   "cell_type": "code",
   "execution_count": 16,
   "metadata": {},
   "outputs": [
    {
     "data": {
      "text/plain": [
       "[-1, 1, -1, 1, -1, 1, -1, 1, -1, 1]"
      ]
     },
     "execution_count": 16,
     "metadata": {},
     "output_type": "execute_result"
    }
   ],
   "source": [
    "l = [(1 if i%2==1 else -1) for i in range(10)]\n",
    "l"
   ]
  },
  {
   "cell_type": "code",
   "execution_count": null,
   "metadata": {},
   "outputs": [],
   "source": []
  },
  {
   "cell_type": "code",
   "execution_count": 19,
   "metadata": {},
   "outputs": [],
   "source": [
    "def myadd(n1,n2):\n",
    "    n = n1+n2\n",
    "    return n"
   ]
  },
  {
   "cell_type": "code",
   "execution_count": 21,
   "metadata": {},
   "outputs": [
    {
     "name": "stdout",
     "output_type": "stream",
     "text": [
      "3\n"
     ]
    }
   ],
   "source": [
    "n = myadd(1,2)\n",
    "print(n)"
   ]
  },
  {
   "cell_type": "code",
   "execution_count": 22,
   "metadata": {},
   "outputs": [
    {
     "data": {
      "text/plain": [
       "'12'"
      ]
     },
     "execution_count": 22,
     "metadata": {},
     "output_type": "execute_result"
    }
   ],
   "source": [
    "myadd('1', '2')"
   ]
  },
  {
   "cell_type": "markdown",
   "metadata": {},
   "source": [
    "1. 함수는 만들지 않는다.\n",
    "2. 너무 자주 똑같은 코드를 쓰더라\n",
    "3. 함수를 꼭 인자로 넘겨야 하는 경우\n",
    "4. 그렇다하더라도 다른방법이 없는지 고민!"
   ]
  },
  {
   "cell_type": "code",
   "execution_count": 23,
   "metadata": {},
   "outputs": [],
   "source": [
    "f = lambda n1,n2: n1+n2"
   ]
  },
  {
   "cell_type": "code",
   "execution_count": 24,
   "metadata": {},
   "outputs": [
    {
     "data": {
      "text/plain": [
       "3"
      ]
     },
     "execution_count": 24,
     "metadata": {},
     "output_type": "execute_result"
    }
   ],
   "source": [
    "f(1,2)"
   ]
  },
  {
   "cell_type": "code",
   "execution_count": 25,
   "metadata": {},
   "outputs": [
    {
     "data": {
      "text/plain": [
       "888"
      ]
     },
     "execution_count": 25,
     "metadata": {},
     "output_type": "execute_result"
    }
   ],
   "source": [
    "f(999,-111)"
   ]
  },
  {
   "cell_type": "code",
   "execution_count": 26,
   "metadata": {},
   "outputs": [
    {
     "data": {
      "text/plain": [
       "'abcd'"
      ]
     },
     "execution_count": 26,
     "metadata": {},
     "output_type": "execute_result"
    }
   ],
   "source": [
    "f('a','bcd')"
   ]
  },
  {
   "cell_type": "code",
   "execution_count": 27,
   "metadata": {},
   "outputs": [
    {
     "name": "stdout",
     "output_type": "stream",
     "text": [
      "1 2 3 4 5 6 7\n"
     ]
    }
   ],
   "source": [
    "print(1,2,3,4,5,6,7)"
   ]
  },
  {
   "cell_type": "code",
   "execution_count": 28,
   "metadata": {},
   "outputs": [],
   "source": [
    "def myadd(n1,n2=0):\n",
    "    n = n1+n2\n",
    "    return n"
   ]
  },
  {
   "cell_type": "code",
   "execution_count": 29,
   "metadata": {},
   "outputs": [
    {
     "data": {
      "text/plain": [
       "3"
      ]
     },
     "execution_count": 29,
     "metadata": {},
     "output_type": "execute_result"
    }
   ],
   "source": [
    "myadd(1,2)"
   ]
  },
  {
   "cell_type": "code",
   "execution_count": 30,
   "metadata": {},
   "outputs": [
    {
     "data": {
      "text/plain": [
       "99"
      ]
     },
     "execution_count": 30,
     "metadata": {},
     "output_type": "execute_result"
    }
   ],
   "source": [
    "myadd(99)"
   ]
  },
  {
   "cell_type": "code",
   "execution_count": 33,
   "metadata": {},
   "outputs": [
    {
     "name": "stdout",
     "output_type": "stream",
     "text": [
      "Help on built-in function print in module builtins:\n",
      "\n",
      "print(...)\n",
      "    print(value, ..., sep=' ', end='\\n', file=sys.stdout, flush=False)\n",
      "    \n",
      "    Prints the values to a stream, or to sys.stdout by default.\n",
      "    Optional keyword arguments:\n",
      "    file:  a file-like object (stream); defaults to the current sys.stdout.\n",
      "    sep:   string inserted between values, default a space.\n",
      "    end:   string appended after the last value, default a newline.\n",
      "    flush: whether to forcibly flush the stream.\n",
      "\n"
     ]
    }
   ],
   "source": [
    "help(print)"
   ]
  },
  {
   "cell_type": "code",
   "execution_count": 34,
   "metadata": {},
   "outputs": [],
   "source": [
    "def f1(x):\n",
    "    return dslfjsldfjsdlf+x"
   ]
  },
  {
   "cell_type": "code",
   "execution_count": 35,
   "metadata": {},
   "outputs": [
    {
     "name": "stdout",
     "output_type": "stream",
     "text": [
      "Help on built-in function sorted in module builtins:\n",
      "\n",
      "sorted(iterable, /, *, key=None, reverse=False)\n",
      "    Return a new list containing all items from the iterable in ascending order.\n",
      "    \n",
      "    A custom key function can be supplied to customize the sort order, and the\n",
      "    reverse flag can be set to request the result in descending order.\n",
      "\n"
     ]
    }
   ],
   "source": [
    "help(sorted)"
   ]
  },
  {
   "cell_type": "code",
   "execution_count": 36,
   "metadata": {},
   "outputs": [
    {
     "name": "stdout",
     "output_type": "stream",
     "text": [
      "I love you\n",
      "*** I love you ***\n"
     ]
    }
   ],
   "source": [
    "s = input()\n",
    "print('***',s,'***')"
   ]
  },
  {
   "cell_type": "code",
   "execution_count": 38,
   "metadata": {},
   "outputs": [
    {
     "name": "stdout",
     "output_type": "stream",
     "text": [
      "1\n",
      "2\n",
      "3\n"
     ]
    }
   ],
   "source": [
    "n1 = input()\n",
    "n2 = input()\n",
    "print(int(n1)+int(n2))"
   ]
  },
  {
   "cell_type": "markdown",
   "metadata": {},
   "source": [
    "### 7일차"
   ]
  },
  {
   "cell_type": "markdown",
   "metadata": {},
   "source": [
    "### 연습문제 (20200714)\n",
    "```\n",
    "mat[i][j] 의 값이 i*j 가 되도록 리스트 mat를 만드시오.\n",
    "- i 와 j 는 0~9 의 값을 가진다.\n",
    "- 10분간\n",
    "- 리스트 내포를 이용해서도 구해보세요.\n",
    "- 5번째 열을 뽑아 리스트로 만들어 보세요.\n",
    "```"
   ]
  },
  {
   "cell_type": "code",
   "execution_count": 1,
   "metadata": {
    "collapsed": true
   },
   "outputs": [
    {
     "data": {
      "text/plain": [
       "[[0, 0, 0, 0, 0, 0, 0, 0, 0, 0],\n",
       " [0, 1, 2, 3, 4, 5, 6, 7, 8, 9],\n",
       " [0, 2, 4, 6, 8, 10, 12, 14, 16, 18],\n",
       " [0, 3, 6, 9, 12, 15, 18, 21, 24, 27],\n",
       " [0, 4, 8, 12, 16, 20, 24, 28, 32, 36],\n",
       " [0, 5, 10, 15, 20, 25, 30, 35, 40, 45],\n",
       " [0, 6, 12, 18, 24, 30, 36, 42, 48, 54],\n",
       " [0, 7, 14, 21, 28, 35, 42, 49, 56, 63],\n",
       " [0, 8, 16, 24, 32, 40, 48, 56, 64, 72],\n",
       " [0, 9, 18, 27, 36, 45, 54, 63, 72, 81]]"
      ]
     },
     "execution_count": 1,
     "metadata": {},
     "output_type": "execute_result"
    }
   ],
   "source": [
    "mat = [[i*j for j in range(10)] for i in range(10)]\n",
    "mat"
   ]
  },
  {
   "cell_type": "code",
   "execution_count": 2,
   "metadata": {},
   "outputs": [
    {
     "data": {
      "text/plain": [
       "[[0, 0, 0, 0, 0, 0, 0, 0, 0, 0],\n",
       " [0, 1, 2, 3, 4, 5, 6, 7, 8, 9],\n",
       " [0, 2, 4, 6, 8, 10, 12, 14, 16, 18],\n",
       " [0, 3, 6, 9, 12, 15, 18, 21, 24, 27],\n",
       " [0, 4, 8, 12, 16, 20, 24, 28, 32, 36],\n",
       " [0, 5, 10, 15, 20, 25, 30, 35, 40, 45],\n",
       " [0, 6, 12, 18, 24, 30, 36, 42, 48, 54],\n",
       " [0, 7, 14, 21, 28, 35, 42, 49, 56, 63],\n",
       " [0, 8, 16, 24, 32, 40, 48, 56, 64, 72],\n",
       " [0, 9, 18, 27, 36, 45, 54, 63, 72, 81]]"
      ]
     },
     "execution_count": 2,
     "metadata": {},
     "output_type": "execute_result"
    }
   ],
   "source": [
    "mat = []\n",
    "\n",
    "for i in range(10):\n",
    "    l = []\n",
    "    for j in range(10):\n",
    "        l.append(i*j)\n",
    "        \n",
    "    mat.append(l)\n",
    "    \n",
    "mat"
   ]
  },
  {
   "cell_type": "code",
   "execution_count": 4,
   "metadata": {},
   "outputs": [
    {
     "data": {
      "text/plain": [
       "[0, 4, 8, 12, 16, 20, 24, 28, 32, 36]"
      ]
     },
     "execution_count": 4,
     "metadata": {},
     "output_type": "execute_result"
    }
   ],
   "source": [
    "fifth = []\n",
    "for 행 in mat:\n",
    "    fifth.append(행[4])\n",
    "    \n",
    "fifth"
   ]
  },
  {
   "cell_type": "code",
   "execution_count": 6,
   "metadata": {},
   "outputs": [
    {
     "data": {
      "text/plain": [
       "[0, 4, 8, 12, 16, 20, 24, 28, 32, 36]"
      ]
     },
     "execution_count": 6,
     "metadata": {},
     "output_type": "execute_result"
    }
   ],
   "source": [
    "fifth = [i[4] for i in mat]\n",
    "fifth"
   ]
  },
  {
   "cell_type": "code",
   "execution_count": 7,
   "metadata": {},
   "outputs": [],
   "source": [
    "f = open('안녕.txt')"
   ]
  },
  {
   "cell_type": "code",
   "execution_count": 8,
   "metadata": {},
   "outputs": [
    {
     "data": {
      "text/plain": [
       "'안녕하세요\\n반가워요~'"
      ]
     },
     "execution_count": 8,
     "metadata": {},
     "output_type": "execute_result"
    }
   ],
   "source": [
    "f.read()"
   ]
  },
  {
   "cell_type": "code",
   "execution_count": 9,
   "metadata": {},
   "outputs": [],
   "source": [
    "f.close()"
   ]
  },
  {
   "cell_type": "code",
   "execution_count": null,
   "metadata": {},
   "outputs": [],
   "source": []
  },
  {
   "cell_type": "code",
   "execution_count": 10,
   "metadata": {},
   "outputs": [],
   "source": [
    "f = open('안녕.txt')"
   ]
  },
  {
   "cell_type": "code",
   "execution_count": 11,
   "metadata": {},
   "outputs": [
    {
     "data": {
      "text/plain": [
       "'안녕하세요\\n'"
      ]
     },
     "execution_count": 11,
     "metadata": {},
     "output_type": "execute_result"
    }
   ],
   "source": [
    "f.readline()"
   ]
  },
  {
   "cell_type": "code",
   "execution_count": 12,
   "metadata": {},
   "outputs": [
    {
     "data": {
      "text/plain": [
       "'반가워요~'"
      ]
     },
     "execution_count": 12,
     "metadata": {},
     "output_type": "execute_result"
    }
   ],
   "source": [
    "f.readline()"
   ]
  },
  {
   "cell_type": "code",
   "execution_count": 13,
   "metadata": {},
   "outputs": [
    {
     "data": {
      "text/plain": [
       "''"
      ]
     },
     "execution_count": 13,
     "metadata": {},
     "output_type": "execute_result"
    }
   ],
   "source": [
    "f.readline()"
   ]
  },
  {
   "cell_type": "code",
   "execution_count": 14,
   "metadata": {},
   "outputs": [],
   "source": [
    "f.close()"
   ]
  },
  {
   "cell_type": "code",
   "execution_count": 15,
   "metadata": {},
   "outputs": [
    {
     "name": "stdout",
     "output_type": "stream",
     "text": [
      "안녕하세요\n",
      "\n",
      "end!\n"
     ]
    }
   ],
   "source": [
    "with open('안녕.txt') as f:\n",
    "    s = f.readline()\n",
    "    print(s)\n",
    "    \n",
    "print('end!')"
   ]
  },
  {
   "cell_type": "code",
   "execution_count": 17,
   "metadata": {},
   "outputs": [],
   "source": [
    "import os # 모듈 또는 라이브러리"
   ]
  },
  {
   "cell_type": "code",
   "execution_count": 19,
   "metadata": {},
   "outputs": [
    {
     "data": {
      "text/plain": [
       "'D:\\\\python13'"
      ]
     },
     "execution_count": 19,
     "metadata": {},
     "output_type": "execute_result"
    }
   ],
   "source": [
    "os.getcwd()"
   ]
  },
  {
   "cell_type": "code",
   "execution_count": 21,
   "metadata": {},
   "outputs": [],
   "source": [
    "import math"
   ]
  },
  {
   "cell_type": "code",
   "execution_count": 22,
   "metadata": {},
   "outputs": [
    {
     "data": {
      "text/plain": [
       "0.9092974268256817"
      ]
     },
     "execution_count": 22,
     "metadata": {},
     "output_type": "execute_result"
    }
   ],
   "source": [
    "math.sin(2)"
   ]
  },
  {
   "cell_type": "code",
   "execution_count": 25,
   "metadata": {},
   "outputs": [
    {
     "data": {
      "text/plain": [
       "['DirEntry',\n",
       " 'F_OK',\n",
       " 'MutableMapping',\n",
       " 'O_APPEND',\n",
       " 'O_BINARY',\n",
       " 'O_CREAT',\n",
       " 'O_EXCL',\n",
       " 'O_NOINHERIT',\n",
       " 'O_RANDOM',\n",
       " 'O_RDONLY',\n",
       " 'O_RDWR',\n",
       " 'O_SEQUENTIAL',\n",
       " 'O_SHORT_LIVED',\n",
       " 'O_TEMPORARY',\n",
       " 'O_TEXT',\n",
       " 'O_TRUNC',\n",
       " 'O_WRONLY',\n",
       " 'P_DETACH',\n",
       " 'P_NOWAIT',\n",
       " 'P_NOWAITO',\n",
       " 'P_OVERLAY',\n",
       " 'P_WAIT',\n",
       " 'PathLike',\n",
       " 'R_OK',\n",
       " 'SEEK_CUR',\n",
       " 'SEEK_END',\n",
       " 'SEEK_SET',\n",
       " 'TMP_MAX',\n",
       " 'W_OK',\n",
       " 'X_OK',\n",
       " '_Environ',\n",
       " '__all__',\n",
       " '__builtins__',\n",
       " '__cached__',\n",
       " '__doc__',\n",
       " '__file__',\n",
       " '__loader__',\n",
       " '__name__',\n",
       " '__package__',\n",
       " '__spec__',\n",
       " '_execvpe',\n",
       " '_exists',\n",
       " '_exit',\n",
       " '_fspath',\n",
       " '_get_exports_list',\n",
       " '_putenv',\n",
       " '_unsetenv',\n",
       " '_wrap_close',\n",
       " 'abc',\n",
       " 'abort',\n",
       " 'access',\n",
       " 'altsep',\n",
       " 'chdir',\n",
       " 'chmod',\n",
       " 'close',\n",
       " 'closerange',\n",
       " 'cpu_count',\n",
       " 'curdir',\n",
       " 'defpath',\n",
       " 'device_encoding',\n",
       " 'devnull',\n",
       " 'dup',\n",
       " 'dup2',\n",
       " 'environ',\n",
       " 'errno',\n",
       " 'error',\n",
       " 'execl',\n",
       " 'execle',\n",
       " 'execlp',\n",
       " 'execlpe',\n",
       " 'execv',\n",
       " 'execve',\n",
       " 'execvp',\n",
       " 'execvpe',\n",
       " 'extsep',\n",
       " 'fdopen',\n",
       " 'fsdecode',\n",
       " 'fsencode',\n",
       " 'fspath',\n",
       " 'fstat',\n",
       " 'fsync',\n",
       " 'ftruncate',\n",
       " 'get_exec_path',\n",
       " 'get_handle_inheritable',\n",
       " 'get_inheritable',\n",
       " 'get_terminal_size',\n",
       " 'getcwd',\n",
       " 'getcwdb',\n",
       " 'getenv',\n",
       " 'getlogin',\n",
       " 'getpid',\n",
       " 'getppid',\n",
       " 'isatty',\n",
       " 'kill',\n",
       " 'linesep',\n",
       " 'link',\n",
       " 'listdir',\n",
       " 'lseek',\n",
       " 'lstat',\n",
       " 'makedirs',\n",
       " 'mkdir',\n",
       " 'name',\n",
       " 'open',\n",
       " 'pardir',\n",
       " 'path',\n",
       " 'pathsep',\n",
       " 'pipe',\n",
       " 'popen',\n",
       " 'putenv',\n",
       " 'read',\n",
       " 'readlink',\n",
       " 'remove',\n",
       " 'removedirs',\n",
       " 'rename',\n",
       " 'renames',\n",
       " 'replace',\n",
       " 'rmdir',\n",
       " 'scandir',\n",
       " 'sep',\n",
       " 'set_handle_inheritable',\n",
       " 'set_inheritable',\n",
       " 'spawnl',\n",
       " 'spawnle',\n",
       " 'spawnv',\n",
       " 'spawnve',\n",
       " 'st',\n",
       " 'startfile',\n",
       " 'stat',\n",
       " 'stat_float_times',\n",
       " 'stat_result',\n",
       " 'statvfs_result',\n",
       " 'strerror',\n",
       " 'supports_bytes_environ',\n",
       " 'supports_dir_fd',\n",
       " 'supports_effective_ids',\n",
       " 'supports_fd',\n",
       " 'supports_follow_symlinks',\n",
       " 'symlink',\n",
       " 'sys',\n",
       " 'system',\n",
       " 'terminal_size',\n",
       " 'times',\n",
       " 'times_result',\n",
       " 'truncate',\n",
       " 'umask',\n",
       " 'uname_result',\n",
       " 'unlink',\n",
       " 'urandom',\n",
       " 'utime',\n",
       " 'waitpid',\n",
       " 'walk',\n",
       " 'write']"
      ]
     },
     "execution_count": 25,
     "metadata": {},
     "output_type": "execute_result"
    }
   ],
   "source": [
    "dir(os)"
   ]
  },
  {
   "cell_type": "code",
   "execution_count": 24,
   "metadata": {},
   "outputs": [
    {
     "name": "stdout",
     "output_type": "stream",
     "text": [
      "Help on built-in function sin in module math:\n",
      "\n",
      "sin(...)\n",
      "    sin(x)\n",
      "    \n",
      "    Return the sine of x (measured in radians).\n",
      "\n"
     ]
    }
   ],
   "source": [
    "help(math.sin)"
   ]
  },
  {
   "cell_type": "markdown",
   "metadata": {},
   "source": [
    "### 텍스트파일(csv) 읽어오기\n",
    "- username.csv\n",
    "- https://support.staffbase.com/hc/en-us/articles/360007108391-CSV-File-Examples\n",
    "- 2차원 형태의 리스트로 만드시오."
   ]
  },
  {
   "cell_type": "code",
   "execution_count": null,
   "metadata": {},
   "outputs": [],
   "source": [
    "for line in f:   \n",
    "    if line != '\\n':\n",
    "        행=line.strip().split(';')\n",
    "        mat.append(행)\n"
   ]
  },
  {
   "cell_type": "code",
   "execution_count": 31,
   "metadata": {},
   "outputs": [
    {
     "data": {
      "text/plain": [
       "[['booker12', 9012, 'Rachel', 'Booker'],\n",
       " ['grey07', 2070, 'Laura', 'Grey'],\n",
       " ['johnson81', 4081, 'Craig', 'Johnson'],\n",
       " ['jenkins46', 9346, 'Mary', 'Jenkins']]"
      ]
     },
     "execution_count": 31,
     "metadata": {},
     "output_type": "execute_result"
    }
   ],
   "source": [
    "f = open('username.csv')\n",
    "l = []\n",
    "f.readline()\n",
    "\n",
    "for line in f:\n",
    "    temp = line.strip().split(';')\n",
    "    if len(temp)==4:\n",
    "        temp[1] = int(temp[1])\n",
    "        l.append(temp)\n",
    "\n",
    "l[:-1]"
   ]
  },
  {
   "cell_type": "markdown",
   "metadata": {},
   "source": [
    "### iris.csv 읽어오기"
   ]
  },
  {
   "cell_type": "code",
   "execution_count": 44,
   "metadata": {},
   "outputs": [
    {
     "data": {
      "text/plain": [
       "[[5.1, 3.5, 1.4, 0.2, 0],\n",
       " [4.9, 3.0, 1.4, 0.2, 0],\n",
       " [4.7, 3.2, 1.3, 0.2, 0],\n",
       " [4.6, 3.1, 1.5, 0.2, 0],\n",
       " [5.0, 3.6, 1.4, 0.2, 0],\n",
       " [5.4, 3.9, 1.7, 0.4, 0],\n",
       " [4.6, 3.4, 1.4, 0.3, 0],\n",
       " [5.0, 3.4, 1.5, 0.2, 0],\n",
       " [4.4, 2.9, 1.4, 0.2, 0],\n",
       " [4.9, 3.1, 1.5, 0.1, 0],\n",
       " [5.4, 3.7, 1.5, 0.2, 0],\n",
       " [4.8, 3.4, 1.6, 0.2, 0],\n",
       " [4.8, 3.0, 1.4, 0.1, 0],\n",
       " [4.3, 3.0, 1.1, 0.1, 0],\n",
       " [5.8, 4.0, 1.2, 0.2, 0],\n",
       " [5.7, 4.4, 1.5, 0.4, 0],\n",
       " [5.4, 3.9, 1.3, 0.4, 0],\n",
       " [5.1, 3.5, 1.4, 0.3, 0],\n",
       " [5.7, 3.8, 1.7, 0.3, 0],\n",
       " [5.1, 3.8, 1.5, 0.3, 0],\n",
       " [5.4, 3.4, 1.7, 0.2, 0],\n",
       " [5.1, 3.7, 1.5, 0.4, 0],\n",
       " [4.6, 3.6, 1.0, 0.2, 0],\n",
       " [5.1, 3.3, 1.7, 0.5, 0],\n",
       " [4.8, 3.4, 1.9, 0.2, 0],\n",
       " [5.0, 3.0, 1.6, 0.2, 0],\n",
       " [5.0, 3.4, 1.6, 0.4, 0],\n",
       " [5.2, 3.5, 1.5, 0.2, 0],\n",
       " [5.2, 3.4, 1.4, 0.2, 0],\n",
       " [4.7, 3.2, 1.6, 0.2, 0],\n",
       " [4.8, 3.1, 1.6, 0.2, 0],\n",
       " [5.4, 3.4, 1.5, 0.4, 0],\n",
       " [5.2, 4.1, 1.5, 0.1, 0],\n",
       " [5.5, 4.2, 1.4, 0.2, 0],\n",
       " [4.9, 3.1, 1.5, 0.1, 0],\n",
       " [5.0, 3.2, 1.2, 0.2, 0],\n",
       " [5.5, 3.5, 1.3, 0.2, 0],\n",
       " [4.9, 3.1, 1.5, 0.1, 0],\n",
       " [4.4, 3.0, 1.3, 0.2, 0],\n",
       " [5.1, 3.4, 1.5, 0.2, 0],\n",
       " [5.0, 3.5, 1.3, 0.3, 0],\n",
       " [4.5, 2.3, 1.3, 0.3, 0],\n",
       " [4.4, 3.2, 1.3, 0.2, 0],\n",
       " [5.0, 3.5, 1.6, 0.6, 0],\n",
       " [5.1, 3.8, 1.9, 0.4, 0],\n",
       " [4.8, 3.0, 1.4, 0.3, 0],\n",
       " [5.1, 3.8, 1.6, 0.2, 0],\n",
       " [4.6, 3.2, 1.4, 0.2, 0],\n",
       " [5.3, 3.7, 1.5, 0.2, 0],\n",
       " [5.0, 3.3, 1.4, 0.2, 0],\n",
       " [7.0, 3.2, 4.7, 1.4, 1],\n",
       " [6.4, 3.2, 4.5, 1.5, 1],\n",
       " [6.9, 3.1, 4.9, 1.5, 1],\n",
       " [5.5, 2.3, 4.0, 1.3, 1],\n",
       " [6.5, 2.8, 4.6, 1.5, 1],\n",
       " [5.7, 2.8, 4.5, 1.3, 1],\n",
       " [6.3, 3.3, 4.7, 1.6, 1],\n",
       " [4.9, 2.4, 3.3, 1.0, 1],\n",
       " [6.6, 2.9, 4.6, 1.3, 1],\n",
       " [5.2, 2.7, 3.9, 1.4, 1],\n",
       " [5.0, 2.0, 3.5, 1.0, 1],\n",
       " [5.9, 3.0, 4.2, 1.5, 1],\n",
       " [6.0, 2.2, 4.0, 1.0, 1],\n",
       " [6.1, 2.9, 4.7, 1.4, 1],\n",
       " [5.6, 2.9, 3.6, 1.3, 1],\n",
       " [6.7, 3.1, 4.4, 1.4, 1],\n",
       " [5.6, 3.0, 4.5, 1.5, 1],\n",
       " [5.8, 2.7, 4.1, 1.0, 1],\n",
       " [6.2, 2.2, 4.5, 1.5, 1],\n",
       " [5.6, 2.5, 3.9, 1.1, 1],\n",
       " [5.9, 3.2, 4.8, 1.8, 1],\n",
       " [6.1, 2.8, 4.0, 1.3, 1],\n",
       " [6.3, 2.5, 4.9, 1.5, 1],\n",
       " [6.1, 2.8, 4.7, 1.2, 1],\n",
       " [6.4, 2.9, 4.3, 1.3, 1],\n",
       " [6.6, 3.0, 4.4, 1.4, 1],\n",
       " [6.8, 2.8, 4.8, 1.4, 1],\n",
       " [6.7, 3.0, 5.0, 1.7, 1],\n",
       " [6.0, 2.9, 4.5, 1.5, 1],\n",
       " [5.7, 2.6, 3.5, 1.0, 1],\n",
       " [5.5, 2.4, 3.8, 1.1, 1],\n",
       " [5.5, 2.4, 3.7, 1.0, 1],\n",
       " [5.8, 2.7, 3.9, 1.2, 1],\n",
       " [6.0, 2.7, 5.1, 1.6, 1],\n",
       " [5.4, 3.0, 4.5, 1.5, 1],\n",
       " [6.0, 3.4, 4.5, 1.6, 1],\n",
       " [6.7, 3.1, 4.7, 1.5, 1],\n",
       " [6.3, 2.3, 4.4, 1.3, 1],\n",
       " [5.6, 3.0, 4.1, 1.3, 1],\n",
       " [5.5, 2.5, 4.0, 1.3, 1],\n",
       " [5.5, 2.6, 4.4, 1.2, 1],\n",
       " [6.1, 3.0, 4.6, 1.4, 1],\n",
       " [5.8, 2.6, 4.0, 1.2, 1],\n",
       " [5.0, 2.3, 3.3, 1.0, 1],\n",
       " [5.6, 2.7, 4.2, 1.3, 1],\n",
       " [5.7, 3.0, 4.2, 1.2, 1],\n",
       " [5.7, 2.9, 4.2, 1.3, 1],\n",
       " [6.2, 2.9, 4.3, 1.3, 1],\n",
       " [5.1, 2.5, 3.0, 1.1, 1],\n",
       " [5.7, 2.8, 4.1, 1.3, 1],\n",
       " [6.3, 3.3, 6.0, 2.5, 2],\n",
       " [5.8, 2.7, 5.1, 1.9, 2],\n",
       " [7.1, 3.0, 5.9, 2.1, 2],\n",
       " [6.3, 2.9, 5.6, 1.8, 2],\n",
       " [6.5, 3.0, 5.8, 2.2, 2],\n",
       " [7.6, 3.0, 6.6, 2.1, 2],\n",
       " [4.9, 2.5, 4.5, 1.7, 2],\n",
       " [7.3, 2.9, 6.3, 1.8, 2],\n",
       " [6.7, 2.5, 5.8, 1.8, 2],\n",
       " [7.2, 3.6, 6.1, 2.5, 2],\n",
       " [6.5, 3.2, 5.1, 2.0, 2],\n",
       " [6.4, 2.7, 5.3, 1.9, 2],\n",
       " [6.8, 3.0, 5.5, 2.1, 2],\n",
       " [5.7, 2.5, 5.0, 2.0, 2],\n",
       " [5.8, 2.8, 5.1, 2.4, 2],\n",
       " [6.4, 3.2, 5.3, 2.3, 2],\n",
       " [6.5, 3.0, 5.5, 1.8, 2],\n",
       " [7.7, 3.8, 6.7, 2.2, 2],\n",
       " [7.7, 2.6, 6.9, 2.3, 2],\n",
       " [6.0, 2.2, 5.0, 1.5, 2],\n",
       " [6.9, 3.2, 5.7, 2.3, 2],\n",
       " [5.6, 2.8, 4.9, 2.0, 2],\n",
       " [7.7, 2.8, 6.7, 2.0, 2],\n",
       " [6.3, 2.7, 4.9, 1.8, 2],\n",
       " [6.7, 3.3, 5.7, 2.1, 2],\n",
       " [7.2, 3.2, 6.0, 1.8, 2],\n",
       " [6.2, 2.8, 4.8, 1.8, 2],\n",
       " [6.1, 3.0, 4.9, 1.8, 2],\n",
       " [6.4, 2.8, 5.6, 2.1, 2],\n",
       " [7.2, 3.0, 5.8, 1.6, 2],\n",
       " [7.4, 2.8, 6.1, 1.9, 2],\n",
       " [7.9, 3.8, 6.4, 2.0, 2],\n",
       " [6.4, 2.8, 5.6, 2.2, 2],\n",
       " [6.3, 2.8, 5.1, 1.5, 2],\n",
       " [6.1, 2.6, 5.6, 1.4, 2],\n",
       " [7.7, 3.0, 6.1, 2.3, 2],\n",
       " [6.3, 3.4, 5.6, 2.4, 2],\n",
       " [6.4, 3.1, 5.5, 1.8, 2],\n",
       " [6.0, 3.0, 4.8, 1.8, 2],\n",
       " [6.9, 3.1, 5.4, 2.1, 2],\n",
       " [6.7, 3.1, 5.6, 2.4, 2],\n",
       " [6.9, 3.1, 5.1, 2.3, 2],\n",
       " [5.8, 2.7, 5.1, 1.9, 2],\n",
       " [6.8, 3.2, 5.9, 2.3, 2],\n",
       " [6.7, 3.3, 5.7, 2.5, 2],\n",
       " [6.7, 3.0, 5.2, 2.3, 2],\n",
       " [6.3, 2.5, 5.0, 1.9, 2],\n",
       " [6.5, 3.0, 5.2, 2.0, 2],\n",
       " [6.2, 3.4, 5.4, 2.3, 2],\n",
       " [5.9, 3.0, 5.1, 1.8, 2]]"
      ]
     },
     "execution_count": 44,
     "metadata": {},
     "output_type": "execute_result"
    }
   ],
   "source": [
    "f = open('iris.csv')\n",
    "\n",
    "s = f.readline()\n",
    "header = s.strip().split(',')\n",
    "\n",
    "labels = {'Iris-setosa' : 0, 'Iris-versicolor' : 1, 'Iris-virginica' : 2}\n",
    "iris = []\n",
    "\n",
    "for line in f:\n",
    "    l = line.strip().split(',')\n",
    "    l = [float(l[0]), float(l[1]), float(l[2]), float(l[3]), labels[l[4]]]\n",
    "    iris.append(l)\n",
    "\n",
    "f.close()\n",
    "\n",
    "iris"
   ]
  },
  {
   "cell_type": "code",
   "execution_count": 41,
   "metadata": {},
   "outputs": [
    {
     "data": {
      "text/plain": [
       "[[5.1, 3.5, 1.4, 0.2, 0.0],\n",
       " [4.9, 3.0, 1.4, 0.2, 0.0],\n",
       " [4.7, 3.2, 1.3, 0.2, 0.0],\n",
       " [4.6, 3.1, 1.5, 0.2, 0.0],\n",
       " [5.0, 3.6, 1.4, 0.2, 0.0],\n",
       " [5.4, 3.9, 1.7, 0.4, 0.0],\n",
       " [4.6, 3.4, 1.4, 0.3, 0.0],\n",
       " [5.0, 3.4, 1.5, 0.2, 0.0],\n",
       " [4.4, 2.9, 1.4, 0.2, 0.0],\n",
       " [4.9, 3.1, 1.5, 0.1, 0.0],\n",
       " [5.4, 3.7, 1.5, 0.2, 0.0],\n",
       " [4.8, 3.4, 1.6, 0.2, 0.0],\n",
       " [4.8, 3.0, 1.4, 0.1, 0.0],\n",
       " [4.3, 3.0, 1.1, 0.1, 0.0],\n",
       " [5.8, 4.0, 1.2, 0.2, 0.0],\n",
       " [5.7, 4.4, 1.5, 0.4, 0.0],\n",
       " [5.4, 3.9, 1.3, 0.4, 0.0],\n",
       " [5.1, 3.5, 1.4, 0.3, 0.0],\n",
       " [5.7, 3.8, 1.7, 0.3, 0.0],\n",
       " [5.1, 3.8, 1.5, 0.3, 0.0],\n",
       " [5.4, 3.4, 1.7, 0.2, 0.0],\n",
       " [5.1, 3.7, 1.5, 0.4, 0.0],\n",
       " [4.6, 3.6, 1.0, 0.2, 0.0],\n",
       " [5.1, 3.3, 1.7, 0.5, 0.0],\n",
       " [4.8, 3.4, 1.9, 0.2, 0.0],\n",
       " [5.0, 3.0, 1.6, 0.2, 0.0],\n",
       " [5.0, 3.4, 1.6, 0.4, 0.0],\n",
       " [5.2, 3.5, 1.5, 0.2, 0.0],\n",
       " [5.2, 3.4, 1.4, 0.2, 0.0],\n",
       " [4.7, 3.2, 1.6, 0.2, 0.0],\n",
       " [4.8, 3.1, 1.6, 0.2, 0.0],\n",
       " [5.4, 3.4, 1.5, 0.4, 0.0],\n",
       " [5.2, 4.1, 1.5, 0.1, 0.0],\n",
       " [5.5, 4.2, 1.4, 0.2, 0.0],\n",
       " [4.9, 3.1, 1.5, 0.1, 0.0],\n",
       " [5.0, 3.2, 1.2, 0.2, 0.0],\n",
       " [5.5, 3.5, 1.3, 0.2, 0.0],\n",
       " [4.9, 3.1, 1.5, 0.1, 0.0],\n",
       " [4.4, 3.0, 1.3, 0.2, 0.0],\n",
       " [5.1, 3.4, 1.5, 0.2, 0.0],\n",
       " [5.0, 3.5, 1.3, 0.3, 0.0],\n",
       " [4.5, 2.3, 1.3, 0.3, 0.0],\n",
       " [4.4, 3.2, 1.3, 0.2, 0.0],\n",
       " [5.0, 3.5, 1.6, 0.6, 0.0],\n",
       " [5.1, 3.8, 1.9, 0.4, 0.0],\n",
       " [4.8, 3.0, 1.4, 0.3, 0.0],\n",
       " [5.1, 3.8, 1.6, 0.2, 0.0],\n",
       " [4.6, 3.2, 1.4, 0.2, 0.0],\n",
       " [5.3, 3.7, 1.5, 0.2, 0.0],\n",
       " [5.0, 3.3, 1.4, 0.2, 0.0],\n",
       " [7.0, 3.2, 4.7, 1.4, 1.0],\n",
       " [6.4, 3.2, 4.5, 1.5, 1.0],\n",
       " [6.9, 3.1, 4.9, 1.5, 1.0],\n",
       " [5.5, 2.3, 4.0, 1.3, 1.0],\n",
       " [6.5, 2.8, 4.6, 1.5, 1.0],\n",
       " [5.7, 2.8, 4.5, 1.3, 1.0],\n",
       " [6.3, 3.3, 4.7, 1.6, 1.0],\n",
       " [4.9, 2.4, 3.3, 1.0, 1.0],\n",
       " [6.6, 2.9, 4.6, 1.3, 1.0],\n",
       " [5.2, 2.7, 3.9, 1.4, 1.0],\n",
       " [5.0, 2.0, 3.5, 1.0, 1.0],\n",
       " [5.9, 3.0, 4.2, 1.5, 1.0],\n",
       " [6.0, 2.2, 4.0, 1.0, 1.0],\n",
       " [6.1, 2.9, 4.7, 1.4, 1.0],\n",
       " [5.6, 2.9, 3.6, 1.3, 1.0],\n",
       " [6.7, 3.1, 4.4, 1.4, 1.0],\n",
       " [5.6, 3.0, 4.5, 1.5, 1.0],\n",
       " [5.8, 2.7, 4.1, 1.0, 1.0],\n",
       " [6.2, 2.2, 4.5, 1.5, 1.0],\n",
       " [5.6, 2.5, 3.9, 1.1, 1.0],\n",
       " [5.9, 3.2, 4.8, 1.8, 1.0],\n",
       " [6.1, 2.8, 4.0, 1.3, 1.0],\n",
       " [6.3, 2.5, 4.9, 1.5, 1.0],\n",
       " [6.1, 2.8, 4.7, 1.2, 1.0],\n",
       " [6.4, 2.9, 4.3, 1.3, 1.0],\n",
       " [6.6, 3.0, 4.4, 1.4, 1.0],\n",
       " [6.8, 2.8, 4.8, 1.4, 1.0],\n",
       " [6.7, 3.0, 5.0, 1.7, 1.0],\n",
       " [6.0, 2.9, 4.5, 1.5, 1.0],\n",
       " [5.7, 2.6, 3.5, 1.0, 1.0],\n",
       " [5.5, 2.4, 3.8, 1.1, 1.0],\n",
       " [5.5, 2.4, 3.7, 1.0, 1.0],\n",
       " [5.8, 2.7, 3.9, 1.2, 1.0],\n",
       " [6.0, 2.7, 5.1, 1.6, 1.0],\n",
       " [5.4, 3.0, 4.5, 1.5, 1.0],\n",
       " [6.0, 3.4, 4.5, 1.6, 1.0],\n",
       " [6.7, 3.1, 4.7, 1.5, 1.0],\n",
       " [6.3, 2.3, 4.4, 1.3, 1.0],\n",
       " [5.6, 3.0, 4.1, 1.3, 1.0],\n",
       " [5.5, 2.5, 4.0, 1.3, 1.0],\n",
       " [5.5, 2.6, 4.4, 1.2, 1.0],\n",
       " [6.1, 3.0, 4.6, 1.4, 1.0],\n",
       " [5.8, 2.6, 4.0, 1.2, 1.0],\n",
       " [5.0, 2.3, 3.3, 1.0, 1.0],\n",
       " [5.6, 2.7, 4.2, 1.3, 1.0],\n",
       " [5.7, 3.0, 4.2, 1.2, 1.0],\n",
       " [5.7, 2.9, 4.2, 1.3, 1.0],\n",
       " [6.2, 2.9, 4.3, 1.3, 1.0],\n",
       " [5.1, 2.5, 3.0, 1.1, 1.0],\n",
       " [5.7, 2.8, 4.1, 1.3, 1.0],\n",
       " [6.3, 3.3, 6.0, 2.5, 2.0],\n",
       " [5.8, 2.7, 5.1, 1.9, 2.0],\n",
       " [7.1, 3.0, 5.9, 2.1, 2.0],\n",
       " [6.3, 2.9, 5.6, 1.8, 2.0],\n",
       " [6.5, 3.0, 5.8, 2.2, 2.0],\n",
       " [7.6, 3.0, 6.6, 2.1, 2.0],\n",
       " [4.9, 2.5, 4.5, 1.7, 2.0],\n",
       " [7.3, 2.9, 6.3, 1.8, 2.0],\n",
       " [6.7, 2.5, 5.8, 1.8, 2.0],\n",
       " [7.2, 3.6, 6.1, 2.5, 2.0],\n",
       " [6.5, 3.2, 5.1, 2.0, 2.0],\n",
       " [6.4, 2.7, 5.3, 1.9, 2.0],\n",
       " [6.8, 3.0, 5.5, 2.1, 2.0],\n",
       " [5.7, 2.5, 5.0, 2.0, 2.0],\n",
       " [5.8, 2.8, 5.1, 2.4, 2.0],\n",
       " [6.4, 3.2, 5.3, 2.3, 2.0],\n",
       " [6.5, 3.0, 5.5, 1.8, 2.0],\n",
       " [7.7, 3.8, 6.7, 2.2, 2.0],\n",
       " [7.7, 2.6, 6.9, 2.3, 2.0],\n",
       " [6.0, 2.2, 5.0, 1.5, 2.0],\n",
       " [6.9, 3.2, 5.7, 2.3, 2.0],\n",
       " [5.6, 2.8, 4.9, 2.0, 2.0],\n",
       " [7.7, 2.8, 6.7, 2.0, 2.0],\n",
       " [6.3, 2.7, 4.9, 1.8, 2.0],\n",
       " [6.7, 3.3, 5.7, 2.1, 2.0],\n",
       " [7.2, 3.2, 6.0, 1.8, 2.0],\n",
       " [6.2, 2.8, 4.8, 1.8, 2.0],\n",
       " [6.1, 3.0, 4.9, 1.8, 2.0],\n",
       " [6.4, 2.8, 5.6, 2.1, 2.0],\n",
       " [7.2, 3.0, 5.8, 1.6, 2.0],\n",
       " [7.4, 2.8, 6.1, 1.9, 2.0],\n",
       " [7.9, 3.8, 6.4, 2.0, 2.0],\n",
       " [6.4, 2.8, 5.6, 2.2, 2.0],\n",
       " [6.3, 2.8, 5.1, 1.5, 2.0],\n",
       " [6.1, 2.6, 5.6, 1.4, 2.0],\n",
       " [7.7, 3.0, 6.1, 2.3, 2.0],\n",
       " [6.3, 3.4, 5.6, 2.4, 2.0],\n",
       " [6.4, 3.1, 5.5, 1.8, 2.0],\n",
       " [6.0, 3.0, 4.8, 1.8, 2.0],\n",
       " [6.9, 3.1, 5.4, 2.1, 2.0],\n",
       " [6.7, 3.1, 5.6, 2.4, 2.0],\n",
       " [6.9, 3.1, 5.1, 2.3, 2.0],\n",
       " [5.8, 2.7, 5.1, 1.9, 2.0],\n",
       " [6.8, 3.2, 5.9, 2.3, 2.0],\n",
       " [6.7, 3.3, 5.7, 2.5, 2.0],\n",
       " [6.7, 3.0, 5.2, 2.3, 2.0],\n",
       " [6.3, 2.5, 5.0, 1.9, 2.0],\n",
       " [6.5, 3.0, 5.2, 2.0, 2.0],\n",
       " [6.2, 3.4, 5.4, 2.3, 2.0],\n",
       " [5.9, 3.0, 5.1, 1.8, 2.0]]"
      ]
     },
     "execution_count": 41,
     "metadata": {},
     "output_type": "execute_result"
    }
   ],
   "source": [
    "iris = []\n",
    "spec = ['Iris-setosa', 'Iris-versicolor', 'Iris-virginica']\n",
    "\n",
    "f = open('iris.csv')\n",
    "s = f.readline()\n",
    "header = s.strip().split(',')\n",
    "\n",
    "for line in f:\n",
    "    l = line.strip().split(',')\n",
    "    l = [float(i) for i in l[:4]] + [float(spec.index(l[4]))]\n",
    "    iris.append(l)\n",
    "    \n",
    "f.close()\n",
    "\n",
    "iris"
   ]
  },
  {
   "cell_type": "code",
   "execution_count": 37,
   "metadata": {},
   "outputs": [
    {
     "data": {
      "text/plain": [
       "['SepalLength', 'SepalWidth', 'PetalLength', 'PetalWidth', 'Name']"
      ]
     },
     "execution_count": 37,
     "metadata": {},
     "output_type": "execute_result"
    }
   ],
   "source": [
    "header"
   ]
  },
  {
   "cell_type": "code",
   "execution_count": 45,
   "metadata": {},
   "outputs": [
    {
     "data": {
      "text/plain": [
       "'D:\\\\python13'"
      ]
     },
     "execution_count": 45,
     "metadata": {},
     "output_type": "execute_result"
    }
   ],
   "source": [
    "import os\n",
    "os.getcwd()"
   ]
  },
  {
   "cell_type": "code",
   "execution_count": 51,
   "metadata": {},
   "outputs": [],
   "source": [
    "import math as m"
   ]
  },
  {
   "cell_type": "code",
   "execution_count": 52,
   "metadata": {},
   "outputs": [
    {
     "data": {
      "text/plain": [
       "0.0"
      ]
     },
     "execution_count": 52,
     "metadata": {},
     "output_type": "execute_result"
    }
   ],
   "source": [
    "m.log(1)"
   ]
  },
  {
   "cell_type": "code",
   "execution_count": 53,
   "metadata": {},
   "outputs": [
    {
     "data": {
      "text/plain": [
       "1.0"
      ]
     },
     "execution_count": 53,
     "metadata": {},
     "output_type": "execute_result"
    }
   ],
   "source": [
    "m.log(m.e)"
   ]
  },
  {
   "cell_type": "code",
   "execution_count": 57,
   "metadata": {},
   "outputs": [],
   "source": [
    "from math import *"
   ]
  },
  {
   "cell_type": "code",
   "execution_count": 58,
   "metadata": {},
   "outputs": [
    {
     "data": {
      "text/plain": [
       "5.808142489980444"
      ]
     },
     "execution_count": 58,
     "metadata": {},
     "output_type": "execute_result"
    }
   ],
   "source": [
    "log(333)"
   ]
  },
  {
   "cell_type": "code",
   "execution_count": 59,
   "metadata": {},
   "outputs": [
    {
     "data": {
      "text/plain": [
       "7.3890560989306495"
      ]
     },
     "execution_count": 59,
     "metadata": {},
     "output_type": "execute_result"
    }
   ],
   "source": [
    "e**2"
   ]
  },
  {
   "cell_type": "code",
   "execution_count": 60,
   "metadata": {},
   "outputs": [
    {
     "data": {
      "text/plain": [
       "['__doc__',\n",
       " '__loader__',\n",
       " '__name__',\n",
       " '__package__',\n",
       " '__spec__',\n",
       " 'acos',\n",
       " 'acosh',\n",
       " 'asin',\n",
       " 'asinh',\n",
       " 'atan',\n",
       " 'atan2',\n",
       " 'atanh',\n",
       " 'ceil',\n",
       " 'copysign',\n",
       " 'cos',\n",
       " 'cosh',\n",
       " 'degrees',\n",
       " 'e',\n",
       " 'erf',\n",
       " 'erfc',\n",
       " 'exp',\n",
       " 'expm1',\n",
       " 'fabs',\n",
       " 'factorial',\n",
       " 'floor',\n",
       " 'fmod',\n",
       " 'frexp',\n",
       " 'fsum',\n",
       " 'gamma',\n",
       " 'gcd',\n",
       " 'hypot',\n",
       " 'inf',\n",
       " 'isclose',\n",
       " 'isfinite',\n",
       " 'isinf',\n",
       " 'isnan',\n",
       " 'ldexp',\n",
       " 'lgamma',\n",
       " 'log',\n",
       " 'log10',\n",
       " 'log1p',\n",
       " 'log2',\n",
       " 'modf',\n",
       " 'nan',\n",
       " 'pi',\n",
       " 'pow',\n",
       " 'radians',\n",
       " 'sin',\n",
       " 'sinh',\n",
       " 'sqrt',\n",
       " 'tan',\n",
       " 'tanh',\n",
       " 'tau',\n",
       " 'trunc']"
      ]
     },
     "execution_count": 60,
     "metadata": {},
     "output_type": "execute_result"
    }
   ],
   "source": [
    "dir(math)"
   ]
  },
  {
   "cell_type": "code",
   "execution_count": null,
   "metadata": {},
   "outputs": [],
   "source": []
  }
 ],
 "metadata": {
  "kernelspec": {
   "display_name": "Python 3",
   "language": "python",
   "name": "python3"
  },
  "language_info": {
   "codemirror_mode": {
    "name": "ipython",
    "version": 3
   },
   "file_extension": ".py",
   "mimetype": "text/x-python",
   "name": "python",
   "nbconvert_exporter": "python",
   "pygments_lexer": "ipython3",
   "version": "3.6.4"
  }
 },
 "nbformat": 4,
 "nbformat_minor": 2
}
