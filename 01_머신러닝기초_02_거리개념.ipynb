{
 "cells": [
  {
   "cell_type": "markdown",
   "metadata": {},
   "source": [
    "## 파이썬 머신러닝\n",
    "# 거리(distance) 개념"
   ]
  },
  {
   "cell_type": "code",
   "execution_count": 1,
   "metadata": {},
   "outputs": [],
   "source": [
    "import numpy as np\n",
    "import pandas as pd\n",
    "import matplotlib.pyplot as plt"
   ]
  },
  {
   "cell_type": "code",
   "execution_count": 2,
   "metadata": {},
   "outputs": [
    {
     "data": {
      "text/plain": [
       "['SepalLength', 'SepalWidth', 'PetalLength', 'PetalWidth']"
      ]
     },
     "execution_count": 2,
     "metadata": {},
     "output_type": "execute_result"
    }
   ],
   "source": [
    "s = open('iris.csv').readline()\n",
    "header = s.strip().split(',')[:-1]\n",
    "header"
   ]
  },
  {
   "cell_type": "code",
   "execution_count": 3,
   "metadata": {},
   "outputs": [
    {
     "data": {
      "text/plain": [
       "[5.9, 3.0, 5.1, 1.8, 2.0]"
      ]
     },
     "execution_count": 3,
     "metadata": {},
     "output_type": "execute_result"
    }
   ],
   "source": [
    "[5.9, 3. , 5.1, 1.8, 2. ]"
   ]
  },
  {
   "cell_type": "code",
   "execution_count": 4,
   "metadata": {},
   "outputs": [
    {
     "data": {
      "text/plain": [
       "array([[5.1, 3.5, 1.4, 0.2, 0. ],\n",
       "       [4.9, 3. , 1.4, 0.2, 0. ],\n",
       "       [4.7, 3.2, 1.3, 0.2, 0. ],\n",
       "       [4.6, 3.1, 1.5, 0.2, 0. ],\n",
       "       [5. , 3.6, 1.4, 0.2, 0. ],\n",
       "       [5.4, 3.9, 1.7, 0.4, 0. ],\n",
       "       [4.6, 3.4, 1.4, 0.3, 0. ],\n",
       "       [5. , 3.4, 1.5, 0.2, 0. ],\n",
       "       [4.4, 2.9, 1.4, 0.2, 0. ],\n",
       "       [4.9, 3.1, 1.5, 0.1, 0. ],\n",
       "       [5.4, 3.7, 1.5, 0.2, 0. ],\n",
       "       [4.8, 3.4, 1.6, 0.2, 0. ],\n",
       "       [4.8, 3. , 1.4, 0.1, 0. ],\n",
       "       [4.3, 3. , 1.1, 0.1, 0. ],\n",
       "       [5.8, 4. , 1.2, 0.2, 0. ],\n",
       "       [5.7, 4.4, 1.5, 0.4, 0. ],\n",
       "       [5.4, 3.9, 1.3, 0.4, 0. ],\n",
       "       [5.1, 3.5, 1.4, 0.3, 0. ],\n",
       "       [5.7, 3.8, 1.7, 0.3, 0. ],\n",
       "       [5.1, 3.8, 1.5, 0.3, 0. ],\n",
       "       [5.4, 3.4, 1.7, 0.2, 0. ],\n",
       "       [5.1, 3.7, 1.5, 0.4, 0. ],\n",
       "       [4.6, 3.6, 1. , 0.2, 0. ],\n",
       "       [5.1, 3.3, 1.7, 0.5, 0. ],\n",
       "       [4.8, 3.4, 1.9, 0.2, 0. ],\n",
       "       [5. , 3. , 1.6, 0.2, 0. ],\n",
       "       [5. , 3.4, 1.6, 0.4, 0. ],\n",
       "       [5.2, 3.5, 1.5, 0.2, 0. ],\n",
       "       [5.2, 3.4, 1.4, 0.2, 0. ],\n",
       "       [4.7, 3.2, 1.6, 0.2, 0. ],\n",
       "       [4.8, 3.1, 1.6, 0.2, 0. ],\n",
       "       [5.4, 3.4, 1.5, 0.4, 0. ],\n",
       "       [5.2, 4.1, 1.5, 0.1, 0. ],\n",
       "       [5.5, 4.2, 1.4, 0.2, 0. ],\n",
       "       [4.9, 3.1, 1.5, 0.1, 0. ],\n",
       "       [5. , 3.2, 1.2, 0.2, 0. ],\n",
       "       [5.5, 3.5, 1.3, 0.2, 0. ],\n",
       "       [4.9, 3.1, 1.5, 0.1, 0. ],\n",
       "       [4.4, 3. , 1.3, 0.2, 0. ],\n",
       "       [5.1, 3.4, 1.5, 0.2, 0. ],\n",
       "       [5. , 3.5, 1.3, 0.3, 0. ],\n",
       "       [4.5, 2.3, 1.3, 0.3, 0. ],\n",
       "       [4.4, 3.2, 1.3, 0.2, 0. ],\n",
       "       [5. , 3.5, 1.6, 0.6, 0. ],\n",
       "       [5.1, 3.8, 1.9, 0.4, 0. ],\n",
       "       [4.8, 3. , 1.4, 0.3, 0. ],\n",
       "       [5.1, 3.8, 1.6, 0.2, 0. ],\n",
       "       [4.6, 3.2, 1.4, 0.2, 0. ],\n",
       "       [5.3, 3.7, 1.5, 0.2, 0. ],\n",
       "       [5. , 3.3, 1.4, 0.2, 0. ],\n",
       "       [7. , 3.2, 4.7, 1.4, 1. ],\n",
       "       [6.4, 3.2, 4.5, 1.5, 1. ],\n",
       "       [6.9, 3.1, 4.9, 1.5, 1. ],\n",
       "       [5.5, 2.3, 4. , 1.3, 1. ],\n",
       "       [6.5, 2.8, 4.6, 1.5, 1. ],\n",
       "       [5.7, 2.8, 4.5, 1.3, 1. ],\n",
       "       [6.3, 3.3, 4.7, 1.6, 1. ],\n",
       "       [4.9, 2.4, 3.3, 1. , 1. ],\n",
       "       [6.6, 2.9, 4.6, 1.3, 1. ],\n",
       "       [5.2, 2.7, 3.9, 1.4, 1. ],\n",
       "       [5. , 2. , 3.5, 1. , 1. ],\n",
       "       [5.9, 3. , 4.2, 1.5, 1. ],\n",
       "       [6. , 2.2, 4. , 1. , 1. ],\n",
       "       [6.1, 2.9, 4.7, 1.4, 1. ],\n",
       "       [5.6, 2.9, 3.6, 1.3, 1. ],\n",
       "       [6.7, 3.1, 4.4, 1.4, 1. ],\n",
       "       [5.6, 3. , 4.5, 1.5, 1. ],\n",
       "       [5.8, 2.7, 4.1, 1. , 1. ],\n",
       "       [6.2, 2.2, 4.5, 1.5, 1. ],\n",
       "       [5.6, 2.5, 3.9, 1.1, 1. ],\n",
       "       [5.9, 3.2, 4.8, 1.8, 1. ],\n",
       "       [6.1, 2.8, 4. , 1.3, 1. ],\n",
       "       [6.3, 2.5, 4.9, 1.5, 1. ],\n",
       "       [6.1, 2.8, 4.7, 1.2, 1. ],\n",
       "       [6.4, 2.9, 4.3, 1.3, 1. ],\n",
       "       [6.6, 3. , 4.4, 1.4, 1. ],\n",
       "       [6.8, 2.8, 4.8, 1.4, 1. ],\n",
       "       [6.7, 3. , 5. , 1.7, 1. ],\n",
       "       [6. , 2.9, 4.5, 1.5, 1. ],\n",
       "       [5.7, 2.6, 3.5, 1. , 1. ],\n",
       "       [5.5, 2.4, 3.8, 1.1, 1. ],\n",
       "       [5.5, 2.4, 3.7, 1. , 1. ],\n",
       "       [5.8, 2.7, 3.9, 1.2, 1. ],\n",
       "       [6. , 2.7, 5.1, 1.6, 1. ],\n",
       "       [5.4, 3. , 4.5, 1.5, 1. ],\n",
       "       [6. , 3.4, 4.5, 1.6, 1. ],\n",
       "       [6.7, 3.1, 4.7, 1.5, 1. ],\n",
       "       [6.3, 2.3, 4.4, 1.3, 1. ],\n",
       "       [5.6, 3. , 4.1, 1.3, 1. ],\n",
       "       [5.5, 2.5, 4. , 1.3, 1. ],\n",
       "       [5.5, 2.6, 4.4, 1.2, 1. ],\n",
       "       [6.1, 3. , 4.6, 1.4, 1. ],\n",
       "       [5.8, 2.6, 4. , 1.2, 1. ],\n",
       "       [5. , 2.3, 3.3, 1. , 1. ],\n",
       "       [5.6, 2.7, 4.2, 1.3, 1. ],\n",
       "       [5.7, 3. , 4.2, 1.2, 1. ],\n",
       "       [5.7, 2.9, 4.2, 1.3, 1. ],\n",
       "       [6.2, 2.9, 4.3, 1.3, 1. ],\n",
       "       [5.1, 2.5, 3. , 1.1, 1. ],\n",
       "       [5.7, 2.8, 4.1, 1.3, 1. ],\n",
       "       [6.3, 3.3, 6. , 2.5, 2. ],\n",
       "       [5.8, 2.7, 5.1, 1.9, 2. ],\n",
       "       [7.1, 3. , 5.9, 2.1, 2. ],\n",
       "       [6.3, 2.9, 5.6, 1.8, 2. ],\n",
       "       [6.5, 3. , 5.8, 2.2, 2. ],\n",
       "       [7.6, 3. , 6.6, 2.1, 2. ],\n",
       "       [4.9, 2.5, 4.5, 1.7, 2. ],\n",
       "       [7.3, 2.9, 6.3, 1.8, 2. ],\n",
       "       [6.7, 2.5, 5.8, 1.8, 2. ],\n",
       "       [7.2, 3.6, 6.1, 2.5, 2. ],\n",
       "       [6.5, 3.2, 5.1, 2. , 2. ],\n",
       "       [6.4, 2.7, 5.3, 1.9, 2. ],\n",
       "       [6.8, 3. , 5.5, 2.1, 2. ],\n",
       "       [5.7, 2.5, 5. , 2. , 2. ],\n",
       "       [5.8, 2.8, 5.1, 2.4, 2. ],\n",
       "       [6.4, 3.2, 5.3, 2.3, 2. ],\n",
       "       [6.5, 3. , 5.5, 1.8, 2. ],\n",
       "       [7.7, 3.8, 6.7, 2.2, 2. ],\n",
       "       [7.7, 2.6, 6.9, 2.3, 2. ],\n",
       "       [6. , 2.2, 5. , 1.5, 2. ],\n",
       "       [6.9, 3.2, 5.7, 2.3, 2. ],\n",
       "       [5.6, 2.8, 4.9, 2. , 2. ],\n",
       "       [7.7, 2.8, 6.7, 2. , 2. ],\n",
       "       [6.3, 2.7, 4.9, 1.8, 2. ],\n",
       "       [6.7, 3.3, 5.7, 2.1, 2. ],\n",
       "       [7.2, 3.2, 6. , 1.8, 2. ],\n",
       "       [6.2, 2.8, 4.8, 1.8, 2. ],\n",
       "       [6.1, 3. , 4.9, 1.8, 2. ],\n",
       "       [6.4, 2.8, 5.6, 2.1, 2. ],\n",
       "       [7.2, 3. , 5.8, 1.6, 2. ],\n",
       "       [7.4, 2.8, 6.1, 1.9, 2. ],\n",
       "       [7.9, 3.8, 6.4, 2. , 2. ],\n",
       "       [6.4, 2.8, 5.6, 2.2, 2. ],\n",
       "       [6.3, 2.8, 5.1, 1.5, 2. ],\n",
       "       [6.1, 2.6, 5.6, 1.4, 2. ],\n",
       "       [7.7, 3. , 6.1, 2.3, 2. ],\n",
       "       [6.3, 3.4, 5.6, 2.4, 2. ],\n",
       "       [6.4, 3.1, 5.5, 1.8, 2. ],\n",
       "       [6. , 3. , 4.8, 1.8, 2. ],\n",
       "       [6.9, 3.1, 5.4, 2.1, 2. ],\n",
       "       [6.7, 3.1, 5.6, 2.4, 2. ],\n",
       "       [6.9, 3.1, 5.1, 2.3, 2. ],\n",
       "       [5.8, 2.7, 5.1, 1.9, 2. ],\n",
       "       [6.8, 3.2, 5.9, 2.3, 2. ],\n",
       "       [6.7, 3.3, 5.7, 2.5, 2. ],\n",
       "       [6.7, 3. , 5.2, 2.3, 2. ],\n",
       "       [6.3, 2.5, 5. , 1.9, 2. ],\n",
       "       [6.5, 3. , 5.2, 2. , 2. ],\n",
       "       [6.2, 3.4, 5.4, 2.3, 2. ],\n",
       "       [5.9, 3. , 5.1, 1.8, 2. ]])"
      ]
     },
     "execution_count": 4,
     "metadata": {},
     "output_type": "execute_result"
    }
   ],
   "source": [
    "labels = ['Iris-setosa', 'Iris-versicolor', 'Iris-virginica']\n",
    "\n",
    "iris = np.loadtxt('iris.csv', delimiter=',', skiprows=1, usecols=[0,1,2,3])\n",
    "iris = np.c_[iris, [0]*50+[1]*50+[2]*50]\n",
    "iris"
   ]
  },
  {
   "cell_type": "code",
   "execution_count": 10,
   "metadata": {},
   "outputs": [
    {
     "data": {
      "text/plain": [
       "(150, 5)"
      ]
     },
     "metadata": {},
     "output_type": "display_data"
    },
    {
     "data": {
      "text/plain": [
       "array([[5.1, 3.5, 1.4, 0.2, 0. ],\n",
       "       [4.9, 3. , 1.4, 0.2, 0. ],\n",
       "       [4.7, 3.2, 1.3, 0.2, 0. ],\n",
       "       [4.6, 3.1, 1.5, 0.2, 0. ],\n",
       "       [5. , 3.6, 1.4, 0.2, 0. ]])"
      ]
     },
     "metadata": {},
     "output_type": "display_data"
    }
   ],
   "source": [
    "display(iris.shape, iris[:5])"
   ]
  },
  {
   "cell_type": "code",
   "execution_count": 5,
   "metadata": {},
   "outputs": [],
   "source": [
    "X = iris[:,:4]\n",
    "y = iris[:,4]"
   ]
  },
  {
   "cell_type": "code",
   "execution_count": 9,
   "metadata": {},
   "outputs": [
    {
     "data": {
      "text/plain": [
       "0.5385164807134502"
      ]
     },
     "execution_count": 9,
     "metadata": {},
     "output_type": "execute_result"
    }
   ],
   "source": [
    "np.sqrt(((X[0] - X[1])**2).sum())"
   ]
  },
  {
   "cell_type": "code",
   "execution_count": 10,
   "metadata": {},
   "outputs": [
    {
     "data": {
      "text/plain": [
       "4.1400483088968905"
      ]
     },
     "execution_count": 10,
     "metadata": {},
     "output_type": "execute_result"
    }
   ],
   "source": [
    "np.sqrt(((X[0] - X[-1])**2).sum())"
   ]
  },
  {
   "cell_type": "code",
   "execution_count": 11,
   "metadata": {},
   "outputs": [
    {
     "data": {
      "text/plain": [
       "4.003748243833521"
      ]
     },
     "execution_count": 11,
     "metadata": {},
     "output_type": "execute_result"
    }
   ],
   "source": [
    "np.sqrt(((X[0] - X[50])**2).sum())"
   ]
  },
  {
   "cell_type": "code",
   "execution_count": 12,
   "metadata": {},
   "outputs": [
    {
     "data": {
      "text/plain": [
       "1.8439088914585773"
      ]
     },
     "execution_count": 12,
     "metadata": {},
     "output_type": "execute_result"
    }
   ],
   "source": [
    "np.sqrt(((X[50] - X[100])**2).sum())"
   ]
  },
  {
   "cell_type": "code",
   "execution_count": null,
   "metadata": {},
   "outputs": [],
   "source": []
  },
  {
   "cell_type": "code",
   "execution_count": 6,
   "metadata": {},
   "outputs": [
    {
     "data": {
      "text/plain": [
       "5.477225575051661"
      ]
     },
     "execution_count": 6,
     "metadata": {},
     "output_type": "execute_result"
    }
   ],
   "source": [
    "a = np.array([1,1,1,1])\n",
    "b = np.array([2,3,4,5])\n",
    "# root(1+4+9+16)\n",
    "np.sqrt(((a-b)**2).sum())"
   ]
  },
  {
   "cell_type": "code",
   "execution_count": null,
   "metadata": {},
   "outputs": [],
   "source": []
  },
  {
   "cell_type": "code",
   "execution_count": 6,
   "metadata": {},
   "outputs": [
    {
     "data": {
      "text/plain": [
       "array([[5.1, 3.5],\n",
       "       [4.9, 3. ]])"
      ]
     },
     "execution_count": 6,
     "metadata": {},
     "output_type": "execute_result"
    }
   ],
   "source": [
    "ps = iris[:2, :2]\n",
    "ps"
   ]
  },
  {
   "cell_type": "code",
   "execution_count": 7,
   "metadata": {},
   "outputs": [
    {
     "data": {
      "text/plain": [
       "0.5385164807134502"
      ]
     },
     "execution_count": 7,
     "metadata": {},
     "output_type": "execute_result"
    }
   ],
   "source": [
    "np.sqrt(((ps[0]-ps[1])**2).sum())"
   ]
  },
  {
   "cell_type": "code",
   "execution_count": 10,
   "metadata": {},
   "outputs": [
    {
     "data": {
      "text/plain": [
       "array([[5.1, 3.5, 1.4],\n",
       "       [4.9, 3. , 1.4]])"
      ]
     },
     "execution_count": 10,
     "metadata": {},
     "output_type": "execute_result"
    }
   ],
   "source": [
    "ps = iris[:2, :3]\n",
    "ps"
   ]
  },
  {
   "cell_type": "code",
   "execution_count": 11,
   "metadata": {
    "scrolled": true
   },
   "outputs": [
    {
     "data": {
      "text/plain": [
       "0.5385164807134502"
      ]
     },
     "execution_count": 11,
     "metadata": {},
     "output_type": "execute_result"
    }
   ],
   "source": [
    "np.sqrt(((ps[0]-ps[1])**2).sum())"
   ]
  },
  {
   "cell_type": "code",
   "execution_count": 12,
   "metadata": {},
   "outputs": [
    {
     "data": {
      "text/plain": [
       "array([[5.1, 3.5, 1.4, 0.2],\n",
       "       [4.9, 3. , 1.4, 0.2]])"
      ]
     },
     "execution_count": 12,
     "metadata": {},
     "output_type": "execute_result"
    }
   ],
   "source": [
    "ps = iris[:2, :4]\n",
    "ps"
   ]
  },
  {
   "cell_type": "code",
   "execution_count": 13,
   "metadata": {
    "scrolled": true
   },
   "outputs": [
    {
     "data": {
      "text/plain": [
       "0.5385164807134502"
      ]
     },
     "execution_count": 13,
     "metadata": {},
     "output_type": "execute_result"
    }
   ],
   "source": [
    "np.sqrt(((ps[0]-ps[1])**2).sum())"
   ]
  },
  {
   "cell_type": "code",
   "execution_count": null,
   "metadata": {},
   "outputs": [],
   "source": []
  },
  {
   "cell_type": "code",
   "execution_count": 14,
   "metadata": {},
   "outputs": [],
   "source": [
    "X = iris[:,:4]\n",
    "y = iris[:,4]"
   ]
  },
  {
   "cell_type": "markdown",
   "metadata": {},
   "source": [
    "### 두 점 간의 거리 계산 공식\n",
    "$$ distance(x_1, x_2) = \\sqrt {\\sum_{i=0}^{N-1} (x_{1i} - x_{2i})^2},\\quad N = \\#\\ of\\ features $$"
   ]
  },
  {
   "cell_type": "markdown",
   "metadata": {},
   "source": [
    "- (x,y) 좌표가 각각 (1,1) 과 (5,4) 인 두 점의 거리를 구하시오"
   ]
  },
  {
   "cell_type": "code",
   "execution_count": 12,
   "metadata": {},
   "outputs": [
    {
     "data": {
      "text/plain": [
       "5.0"
      ]
     },
     "execution_count": 12,
     "metadata": {},
     "output_type": "execute_result"
    }
   ],
   "source": [
    "np.sqrt(4**2 + 3**2)"
   ]
  },
  {
   "cell_type": "code",
   "execution_count": 14,
   "metadata": {},
   "outputs": [
    {
     "data": {
      "text/plain": [
       "5.0"
      ]
     },
     "execution_count": 14,
     "metadata": {},
     "output_type": "execute_result"
    }
   ],
   "source": [
    "p1 = np.array([1,1])\n",
    "p2 = np.array([5,4])\n",
    "np.sqrt(((p1-p2)**2).sum())"
   ]
  },
  {
   "cell_type": "code",
   "execution_count": 15,
   "metadata": {},
   "outputs": [
    {
     "data": {
      "text/plain": [
       "(0, 10)"
      ]
     },
     "execution_count": 15,
     "metadata": {},
     "output_type": "execute_result"
    },
    {
     "data": {
      "image/png": "[encoded data removed]",
      "text/plain": [
       "<matplotlib.figure.Figure at 0x17a9943f240>"
      ]
     },
     "metadata": {},
     "output_type": "display_data"
    }
   ],
   "source": [
    "plt.plot([1,5,8], [1,4,6], 'bs:')\n",
    "plt.axis('scaled')\n",
    "plt.xlim(0,10)\n",
    "plt.ylim(0,10)"
   ]
  },
  {
   "cell_type": "code",
   "execution_count": 17,
   "metadata": {},
   "outputs": [
    {
     "data": {
      "text/plain": [
       "[<matplotlib.lines.Line2D at 0x17a997f14e0>]"
      ]
     },
     "execution_count": 17,
     "metadata": {},
     "output_type": "execute_result"
    },
    {
     "data": {
      "image/png": "[encoded data removed]",
      "text/plain": [
       "<matplotlib.figure.Figure at 0x17a994690f0>"
      ]
     },
     "metadata": {},
     "output_type": "display_data"
    }
   ],
   "source": [
    "plt.plot([0,-1,2,-2,1,0], [1,-1,0,0,-1,1], 'ro-')"
   ]
  },
  {
   "cell_type": "markdown",
   "metadata": {},
   "source": [
    "- 아이리스 첫번째 샘플과 두번째 샘플 간의 거리를 구하시오"
   ]
  },
  {
   "cell_type": "code",
   "execution_count": 11,
   "metadata": {},
   "outputs": [],
   "source": [
    "X = iris[:,:4]\n",
    "y = iris[:,4]"
   ]
  },
  {
   "cell_type": "code",
   "execution_count": 12,
   "metadata": {},
   "outputs": [
    {
     "data": {
      "text/plain": [
       "array([5.1, 3.5, 1.4, 0.2])"
      ]
     },
     "execution_count": 12,
     "metadata": {},
     "output_type": "execute_result"
    }
   ],
   "source": [
    "X[0]"
   ]
  },
  {
   "cell_type": "code",
   "execution_count": 13,
   "metadata": {},
   "outputs": [
    {
     "data": {
      "text/plain": [
       "array([4.9, 3. , 1.4, 0.2])"
      ]
     },
     "execution_count": 13,
     "metadata": {},
     "output_type": "execute_result"
    }
   ],
   "source": [
    "X[1]"
   ]
  },
  {
   "cell_type": "code",
   "execution_count": 17,
   "metadata": {},
   "outputs": [
    {
     "data": {
      "text/plain": [
       "0.5385164807134505"
      ]
     },
     "execution_count": 17,
     "metadata": {},
     "output_type": "execute_result"
    }
   ],
   "source": [
    "np.sqrt(0.2**2 + 0.5**2 + 0 + 0)"
   ]
  },
  {
   "cell_type": "code",
   "execution_count": 18,
   "metadata": {},
   "outputs": [
    {
     "data": {
      "text/plain": [
       "0.5385164807134502"
      ]
     },
     "execution_count": 18,
     "metadata": {},
     "output_type": "execute_result"
    }
   ],
   "source": [
    "np.sqrt(((X[0]-X[1])**2).sum())"
   ]
  },
  {
   "cell_type": "code",
   "execution_count": 14,
   "metadata": {},
   "outputs": [
    {
     "data": {
      "text/plain": [
       "4.1400483088968905"
      ]
     },
     "execution_count": 14,
     "metadata": {},
     "output_type": "execute_result"
    }
   ],
   "source": [
    "np.sqrt(((X[0]-X[-1])**2).sum())"
   ]
  },
  {
   "cell_type": "code",
   "execution_count": 15,
   "metadata": {},
   "outputs": [
    {
     "data": {
      "text/plain": [
       "4.003748243833521"
      ]
     },
     "execution_count": 15,
     "metadata": {},
     "output_type": "execute_result"
    }
   ],
   "source": [
    "# 첫번째 샘플과 virsicolor의 첫번째 샘플간의 거리를 구하시오\n",
    "np.sqrt(((X[0]-X[50])**2).sum())"
   ]
  },
  {
   "cell_type": "code",
   "execution_count": 16,
   "metadata": {},
   "outputs": [
    {
     "data": {
      "text/plain": [
       "1.8439088914585773"
      ]
     },
     "execution_count": 16,
     "metadata": {},
     "output_type": "execute_result"
    }
   ],
   "source": [
    "np.sqrt(((X[50]-X[100])**2).sum())"
   ]
  },
  {
   "cell_type": "markdown",
   "metadata": {},
   "source": [
    "- 첫번째 샘플과 나머지 모든 샘플들 간의 거리를 구하시오"
   ]
  },
  {
   "cell_type": "code",
   "execution_count": 16,
   "metadata": {},
   "outputs": [
    {
     "data": {
      "text/plain": [
       "array([0.        , 0.53851648, 0.50990195, 0.64807407, 0.14142136,\n",
       "       0.6164414 , 0.51961524, 0.17320508, 0.92195445, 0.46904158,\n",
       "       0.37416574, 0.37416574, 0.59160798, 0.99498744, 0.88317609,\n",
       "       1.1045361 , 0.54772256, 0.1       , 0.74161985, 0.33166248,\n",
       "       0.43588989, 0.3       , 0.64807407, 0.46904158, 0.59160798,\n",
       "       0.54772256, 0.31622777, 0.14142136, 0.14142136, 0.53851648,\n",
       "       0.53851648, 0.38729833, 0.6244998 , 0.80622577, 0.46904158,\n",
       "       0.37416574, 0.41231056, 0.46904158, 0.8660254 , 0.14142136,\n",
       "       0.17320508, 1.34907376, 0.76811457, 0.45825757, 0.6164414 ,\n",
       "       0.59160798, 0.36055513, 0.58309519, 0.3       , 0.2236068 ,\n",
       "       4.00374824, 3.61662826, 4.16413256, 3.09354166, 3.79209705,\n",
       "       3.41613817, 3.78549865, 2.34520788, 3.74966665, 2.88790582,\n",
       "       2.70370117, 3.22800248, 3.14642654, 3.7       , 2.58069758,\n",
       "       3.62767143, 3.43511281, 3.00998339, 3.76828874, 2.88270706,\n",
       "       3.85356977, 3.0757113 , 4.04722127, 3.65786823, 3.41613817,\n",
       "       3.59722115, 4.04722127, 4.24499706, 3.53128872, 2.49399278,\n",
       "       2.81780056, 2.70185122, 2.89482297, 4.13521463, 3.41174442,\n",
       "       3.51994318, 3.91152144, 3.6180105 , 3.        , 3.02158899,\n",
       "       3.31209903, 3.59583092, 3.00998339, 2.38746728, 3.15277655,\n",
       "       3.07408523, 3.12569992, 3.34514574, 2.0904545 , 3.05777697,\n",
       "       5.2848841 , 4.20832508, 5.30188646, 4.69041576, 5.05667875,\n",
       "       6.09507998, 3.591657  , 5.63648827, 5.04777179, 5.63914887,\n",
       "       4.35660418, 4.51995575, 4.85386444, 4.19046537, 4.41701257,\n",
       "       4.6260134 , 4.64542786, 6.2401923 , 6.49846136, 4.14125585,\n",
       "       5.12152321, 4.02864742, 6.21128006, 4.10974452, 4.96990946,\n",
       "       5.31224999, 3.97743636, 4.00749298, 4.84045452, 5.09705797,\n",
       "       5.54616985, 6.01414998, 4.88057374, 4.16052881, 4.57055795,\n",
       "       5.78878226, 4.89182992, 4.60651712, 3.89615195, 4.79687398,\n",
       "       5.01996016, 4.63680925, 4.20832508, 5.25737577, 5.13614642,\n",
       "       4.65403051, 4.27668096, 4.45982062, 4.65080638, 4.14004831])"
      ]
     },
     "execution_count": 16,
     "metadata": {},
     "output_type": "execute_result"
    }
   ],
   "source": [
    "np.sqrt(((X - X[0])**2).sum(axis=1))"
   ]
  },
  {
   "cell_type": "code",
   "execution_count": 19,
   "metadata": {},
   "outputs": [
    {
     "data": {
      "text/plain": [
       "[<matplotlib.lines.Line2D at 0x1dade5be978>]"
      ]
     },
     "execution_count": 19,
     "metadata": {},
     "output_type": "execute_result"
    },
    {
     "data": {
      "image/png": "[encoded data removed]",
      "text/plain": [
       "<matplotlib.figure.Figure at 0x1dade4c9c18>"
      ]
     },
     "metadata": {},
     "output_type": "display_data"
    }
   ],
   "source": [
    "plt.plot(np.sqrt(((X - X[0])**2).sum(axis=1)))"
   ]
  },
  {
   "cell_type": "code",
   "execution_count": 17,
   "metadata": {},
   "outputs": [
    {
     "data": {
      "text/plain": [
       "118"
      ]
     },
     "execution_count": 17,
     "metadata": {},
     "output_type": "execute_result"
    }
   ],
   "source": [
    "np.sqrt(((X - X[0])**2).sum(axis=1)).argmax()"
   ]
  },
  {
   "cell_type": "code",
   "execution_count": 18,
   "metadata": {},
   "outputs": [
    {
     "data": {
      "text/plain": [
       "array([  0,  17,   4,  39,  27,  28,  40,   7,  49,  21,  48,  26,  19,\n",
       "        46,  35,  11,  10,  31,  36,  20,  43,  34,  37,   9,  23,   2,\n",
       "         6,  29,   1,  30,  25,  16,  47,  24,  12,  45,  44,   5,  32,\n",
       "        22,   3,  18,  42,  33,  38,  14,   8,  13,  15,  41,  98,  57,\n",
       "        93,  79,  64,  81,  60,  80,  69,  59,  82,  88,  67,  92,  89,\n",
       "        99,  95,  71,  53,  96,  62,  94,  61,  90,  97,  84,  74,  55,\n",
       "        66,  85,  78, 106,  91,  75,  51,  87,  65,  73,  63,  58,  68,\n",
       "        56,  54,  70, 138,  86, 126,  50, 127, 121,  76,  72, 123,  83,\n",
       "       149, 119, 133,  52, 113, 101, 142,  77, 146, 110, 114, 147, 111,\n",
       "       134, 137, 115, 141, 116, 148, 145, 103, 139, 128, 112, 132, 136,\n",
       "       124, 140, 108, 104, 129, 120, 144, 143, 100, 102, 125, 130, 107,\n",
       "       109, 135, 131, 105, 122, 117, 118], dtype=int64)"
      ]
     },
     "execution_count": 18,
     "metadata": {},
     "output_type": "execute_result"
    }
   ],
   "source": [
    "np.sqrt(((X - X[0])**2).sum(axis=1)).argsort()"
   ]
  },
  {
   "cell_type": "code",
   "execution_count": null,
   "metadata": {},
   "outputs": [],
   "source": []
  },
  {
   "cell_type": "code",
   "execution_count": 19,
   "metadata": {
    "collapsed": true
   },
   "outputs": [
    {
     "data": {
      "text/plain": [
       "[0.0,\n",
       " 0.5385164807134502,\n",
       " 0.509901951359278,\n",
       " 0.648074069840786,\n",
       " 0.1414213562373093,\n",
       " 0.6164414002968979,\n",
       " 0.5196152422706632,\n",
       " 0.17320508075688762,\n",
       " 0.9219544457292882,\n",
       " 0.4690415759823426,\n",
       " 0.37416573867739483,\n",
       " 0.3741657386773941,\n",
       " 0.5916079783099616,\n",
       " 0.9949874371066197,\n",
       " 0.8831760866327848,\n",
       " 1.1045361017187267,\n",
       " 0.5477225575051664,\n",
       " 0.09999999999999998,\n",
       " 0.7416198487095667,\n",
       " 0.33166247903553986,\n",
       " 0.4358898943540679,\n",
       " 0.30000000000000016,\n",
       " 0.648074069840786,\n",
       " 0.46904157598234303,\n",
       " 0.5916079783099616,\n",
       " 0.5477225575051662,\n",
       " 0.316227766016838,\n",
       " 0.14142135623730995,\n",
       " 0.14142135623730995,\n",
       " 0.53851648071345,\n",
       " 0.5385164807134504,\n",
       " 0.3872983346207423,\n",
       " 0.6244997998398396,\n",
       " 0.8062257748298554,\n",
       " 0.4690415759823426,\n",
       " 0.37416573867739383,\n",
       " 0.41231056256176635,\n",
       " 0.4690415759823426,\n",
       " 0.866025403784438,\n",
       " 0.14142135623730964,\n",
       " 0.17320508075688743,\n",
       " 1.3490737563232043,\n",
       " 0.7681145747868601,\n",
       " 0.45825756949558394,\n",
       " 0.6164414002968975,\n",
       " 0.5916079783099616,\n",
       " 0.3605551275463989,\n",
       " 0.58309518948453,\n",
       " 0.30000000000000027,\n",
       " 0.22360679774997896,\n",
       " 4.003748243833521,\n",
       " 3.6166282640050254,\n",
       " 4.164132562731403,\n",
       " 3.093541659651604,\n",
       " 3.792097045171708,\n",
       " 3.416138170507745,\n",
       " 3.7854986461495406,\n",
       " 2.345207879911715,\n",
       " 3.749666651850535,\n",
       " 2.8879058156387303,\n",
       " 2.703701166919155,\n",
       " 3.228002478313795,\n",
       " 3.146426544510455,\n",
       " 3.7,\n",
       " 2.5806975801127883,\n",
       " 3.627671429443412,\n",
       " 3.4351128074635335,\n",
       " 3.009983388658482,\n",
       " 3.7682887362833544,\n",
       " 2.882707061079915,\n",
       " 3.8535697735995385,\n",
       " 3.0757112998459397,\n",
       " 4.047221268969613,\n",
       " 3.6578682316343767,\n",
       " 3.416138170507745,\n",
       " 3.59722114972099,\n",
       " 4.047221268969612,\n",
       " 4.244997055358225,\n",
       " 3.531288716601915,\n",
       " 2.4939927826679855,\n",
       " 2.8178005607210745,\n",
       " 2.7018512172212596,\n",
       " 2.8948229652260253,\n",
       " 4.135214625627066,\n",
       " 3.411744421846396,\n",
       " 3.5199431813596087,\n",
       " 3.9115214431215897,\n",
       " 3.6180105030251095,\n",
       " 2.9999999999999996,\n",
       " 3.0215889859476257,\n",
       " 3.3120990323358397,\n",
       " 3.59583091927304,\n",
       " 3.0099833886584824,\n",
       " 2.387467277262665,\n",
       " 3.1527765540868895,\n",
       " 3.07408522978788,\n",
       " 3.1256999216175574,\n",
       " 3.3451457367355464,\n",
       " 2.0904544960366875,\n",
       " 3.057776970284131,\n",
       " 5.2848841046895245,\n",
       " 4.208325082500163,\n",
       " 5.301886456724625,\n",
       " 4.690415759823429,\n",
       " 5.056678751908213,\n",
       " 6.0950799830683104,\n",
       " 3.591656999213594,\n",
       " 5.636488268416782,\n",
       " 5.047771785649585,\n",
       " 5.639148871948673,\n",
       " 4.356604182158392,\n",
       " 4.519955751995809,\n",
       " 4.853864439804639,\n",
       " 4.190465367951393,\n",
       " 4.417012565071555,\n",
       " 4.626013402488151,\n",
       " 4.645427859734774,\n",
       " 6.240192304729079,\n",
       " 6.498461356351979,\n",
       " 4.141255848169732,\n",
       " 5.121523210920752,\n",
       " 4.028647415696738,\n",
       " 6.211280061307815,\n",
       " 4.109744517606904,\n",
       " 4.969909455915672,\n",
       " 5.31224999411737,\n",
       " 3.9774363602702683,\n",
       " 4.007492981902776,\n",
       " 4.840454524112379,\n",
       " 5.0970579749498635,\n",
       " 5.546169849544818,\n",
       " 6.014149981501959,\n",
       " 4.880573736764972,\n",
       " 4.160528812542944,\n",
       " 4.570557952810575,\n",
       " 5.788782255362521,\n",
       " 4.891829923454003,\n",
       " 4.606517122512408,\n",
       " 3.8961519477556315,\n",
       " 4.796873982084583,\n",
       " 5.0199601592044525,\n",
       " 4.636809247747852,\n",
       " 4.208325082500163,\n",
       " 5.2573757712379665,\n",
       " 5.136146415358503,\n",
       " 4.654030511288039,\n",
       " 4.27668095606862,\n",
       " 4.459820624195552,\n",
       " 4.650806381693394,\n",
       " 4.1400483088968905]"
      ]
     },
     "execution_count": 19,
     "metadata": {},
     "output_type": "execute_result"
    }
   ],
   "source": [
    "[np.sqrt(((X[0] - X[i])**2).sum()) for i in range(150)]\n",
    "\n",
    "d = []\n",
    "for i in range(150):\n",
    "    d.append(np.sqrt(((X[0] - X[i])**2).sum()))\n",
    "d"
   ]
  },
  {
   "cell_type": "code",
   "execution_count": 23,
   "metadata": {},
   "outputs": [
    {
     "data": {
      "text/plain": [
       "array([118, 117, 122, 105, 131], dtype=int64)"
      ]
     },
     "execution_count": 23,
     "metadata": {},
     "output_type": "execute_result"
    }
   ],
   "source": [
    "np.argsort(d)[-1:-6:-1]"
   ]
  },
  {
   "cell_type": "code",
   "execution_count": 27,
   "metadata": {},
   "outputs": [
    {
     "data": {
      "text/plain": [
       "array([[5.1, 3.5, 1.4, 0.2, 0. ],\n",
       "       [5.1, 3.5, 1.4, 0.3, 0. ],\n",
       "       [5. , 3.6, 1.4, 0.2, 0. ],\n",
       "       [5.1, 3.4, 1.5, 0.2, 0. ],\n",
       "       [5.2, 3.5, 1.5, 0.2, 0. ]])"
      ]
     },
     "execution_count": 27,
     "metadata": {},
     "output_type": "execute_result"
    }
   ],
   "source": [
    "iris[np.argsort(d)[:5]]"
   ]
  },
  {
   "cell_type": "code",
   "execution_count": null,
   "metadata": {},
   "outputs": [],
   "source": []
  },
  {
   "cell_type": "code",
   "execution_count": 20,
   "metadata": {},
   "outputs": [
    {
     "data": {
      "text/plain": [
       "array([[ 0. ,  0. ,  0. ,  0. ],\n",
       "       [-0.2, -0.5,  0. ,  0. ],\n",
       "       [-0.4, -0.3, -0.1,  0. ],\n",
       "       [-0.5, -0.4,  0.1,  0. ],\n",
       "       [-0.1,  0.1,  0. ,  0. ],\n",
       "       [ 0.3,  0.4,  0.3,  0.2],\n",
       "       [-0.5, -0.1,  0. ,  0.1],\n",
       "       [-0.1, -0.1,  0.1,  0. ],\n",
       "       [-0.7, -0.6,  0. ,  0. ],\n",
       "       [-0.2, -0.4,  0.1, -0.1],\n",
       "       [ 0.3,  0.2,  0.1,  0. ],\n",
       "       [-0.3, -0.1,  0.2,  0. ],\n",
       "       [-0.3, -0.5,  0. , -0.1],\n",
       "       [-0.8, -0.5, -0.3, -0.1],\n",
       "       [ 0.7,  0.5, -0.2,  0. ],\n",
       "       [ 0.6,  0.9,  0.1,  0.2],\n",
       "       [ 0.3,  0.4, -0.1,  0.2],\n",
       "       [ 0. ,  0. ,  0. ,  0.1],\n",
       "       [ 0.6,  0.3,  0.3,  0.1],\n",
       "       [ 0. ,  0.3,  0.1,  0.1],\n",
       "       [ 0.3, -0.1,  0.3,  0. ],\n",
       "       [ 0. ,  0.2,  0.1,  0.2],\n",
       "       [-0.5,  0.1, -0.4,  0. ],\n",
       "       [ 0. , -0.2,  0.3,  0.3],\n",
       "       [-0.3, -0.1,  0.5,  0. ],\n",
       "       [-0.1, -0.5,  0.2,  0. ],\n",
       "       [-0.1, -0.1,  0.2,  0.2],\n",
       "       [ 0.1,  0. ,  0.1,  0. ],\n",
       "       [ 0.1, -0.1,  0. ,  0. ],\n",
       "       [-0.4, -0.3,  0.2,  0. ],\n",
       "       [-0.3, -0.4,  0.2,  0. ],\n",
       "       [ 0.3, -0.1,  0.1,  0.2],\n",
       "       [ 0.1,  0.6,  0.1, -0.1],\n",
       "       [ 0.4,  0.7,  0. ,  0. ],\n",
       "       [-0.2, -0.4,  0.1, -0.1],\n",
       "       [-0.1, -0.3, -0.2,  0. ],\n",
       "       [ 0.4,  0. , -0.1,  0. ],\n",
       "       [-0.2, -0.4,  0.1, -0.1],\n",
       "       [-0.7, -0.5, -0.1,  0. ],\n",
       "       [ 0. , -0.1,  0.1,  0. ],\n",
       "       [-0.1,  0. , -0.1,  0.1],\n",
       "       [-0.6, -1.2, -0.1,  0.1],\n",
       "       [-0.7, -0.3, -0.1,  0. ],\n",
       "       [-0.1,  0. ,  0.2,  0.4],\n",
       "       [ 0. ,  0.3,  0.5,  0.2],\n",
       "       [-0.3, -0.5,  0. ,  0.1],\n",
       "       [ 0. ,  0.3,  0.2,  0. ],\n",
       "       [-0.5, -0.3,  0. ,  0. ],\n",
       "       [ 0.2,  0.2,  0.1,  0. ],\n",
       "       [-0.1, -0.2,  0. ,  0. ],\n",
       "       [ 1.9, -0.3,  3.3,  1.2],\n",
       "       [ 1.3, -0.3,  3.1,  1.3],\n",
       "       [ 1.8, -0.4,  3.5,  1.3],\n",
       "       [ 0.4, -1.2,  2.6,  1.1],\n",
       "       [ 1.4, -0.7,  3.2,  1.3],\n",
       "       [ 0.6, -0.7,  3.1,  1.1],\n",
       "       [ 1.2, -0.2,  3.3,  1.4],\n",
       "       [-0.2, -1.1,  1.9,  0.8],\n",
       "       [ 1.5, -0.6,  3.2,  1.1],\n",
       "       [ 0.1, -0.8,  2.5,  1.2],\n",
       "       [-0.1, -1.5,  2.1,  0.8],\n",
       "       [ 0.8, -0.5,  2.8,  1.3],\n",
       "       [ 0.9, -1.3,  2.6,  0.8],\n",
       "       [ 1. , -0.6,  3.3,  1.2],\n",
       "       [ 0.5, -0.6,  2.2,  1.1],\n",
       "       [ 1.6, -0.4,  3. ,  1.2],\n",
       "       [ 0.5, -0.5,  3.1,  1.3],\n",
       "       [ 0.7, -0.8,  2.7,  0.8],\n",
       "       [ 1.1, -1.3,  3.1,  1.3],\n",
       "       [ 0.5, -1. ,  2.5,  0.9],\n",
       "       [ 0.8, -0.3,  3.4,  1.6],\n",
       "       [ 1. , -0.7,  2.6,  1.1],\n",
       "       [ 1.2, -1. ,  3.5,  1.3],\n",
       "       [ 1. , -0.7,  3.3,  1. ],\n",
       "       [ 1.3, -0.6,  2.9,  1.1],\n",
       "       [ 1.5, -0.5,  3. ,  1.2],\n",
       "       [ 1.7, -0.7,  3.4,  1.2],\n",
       "       [ 1.6, -0.5,  3.6,  1.5],\n",
       "       [ 0.9, -0.6,  3.1,  1.3],\n",
       "       [ 0.6, -0.9,  2.1,  0.8],\n",
       "       [ 0.4, -1.1,  2.4,  0.9],\n",
       "       [ 0.4, -1.1,  2.3,  0.8],\n",
       "       [ 0.7, -0.8,  2.5,  1. ],\n",
       "       [ 0.9, -0.8,  3.7,  1.4],\n",
       "       [ 0.3, -0.5,  3.1,  1.3],\n",
       "       [ 0.9, -0.1,  3.1,  1.4],\n",
       "       [ 1.6, -0.4,  3.3,  1.3],\n",
       "       [ 1.2, -1.2,  3. ,  1.1],\n",
       "       [ 0.5, -0.5,  2.7,  1.1],\n",
       "       [ 0.4, -1. ,  2.6,  1.1],\n",
       "       [ 0.4, -0.9,  3. ,  1. ],\n",
       "       [ 1. , -0.5,  3.2,  1.2],\n",
       "       [ 0.7, -0.9,  2.6,  1. ],\n",
       "       [-0.1, -1.2,  1.9,  0.8],\n",
       "       [ 0.5, -0.8,  2.8,  1.1],\n",
       "       [ 0.6, -0.5,  2.8,  1. ],\n",
       "       [ 0.6, -0.6,  2.8,  1.1],\n",
       "       [ 1.1, -0.6,  2.9,  1.1],\n",
       "       [ 0. , -1. ,  1.6,  0.9],\n",
       "       [ 0.6, -0.7,  2.7,  1.1],\n",
       "       [ 1.2, -0.2,  4.6,  2.3],\n",
       "       [ 0.7, -0.8,  3.7,  1.7],\n",
       "       [ 2. , -0.5,  4.5,  1.9],\n",
       "       [ 1.2, -0.6,  4.2,  1.6],\n",
       "       [ 1.4, -0.5,  4.4,  2. ],\n",
       "       [ 2.5, -0.5,  5.2,  1.9],\n",
       "       [-0.2, -1. ,  3.1,  1.5],\n",
       "       [ 2.2, -0.6,  4.9,  1.6],\n",
       "       [ 1.6, -1. ,  4.4,  1.6],\n",
       "       [ 2.1,  0.1,  4.7,  2.3],\n",
       "       [ 1.4, -0.3,  3.7,  1.8],\n",
       "       [ 1.3, -0.8,  3.9,  1.7],\n",
       "       [ 1.7, -0.5,  4.1,  1.9],\n",
       "       [ 0.6, -1. ,  3.6,  1.8],\n",
       "       [ 0.7, -0.7,  3.7,  2.2],\n",
       "       [ 1.3, -0.3,  3.9,  2.1],\n",
       "       [ 1.4, -0.5,  4.1,  1.6],\n",
       "       [ 2.6,  0.3,  5.3,  2. ],\n",
       "       [ 2.6, -0.9,  5.5,  2.1],\n",
       "       [ 0.9, -1.3,  3.6,  1.3],\n",
       "       [ 1.8, -0.3,  4.3,  2.1],\n",
       "       [ 0.5, -0.7,  3.5,  1.8],\n",
       "       [ 2.6, -0.7,  5.3,  1.8],\n",
       "       [ 1.2, -0.8,  3.5,  1.6],\n",
       "       [ 1.6, -0.2,  4.3,  1.9],\n",
       "       [ 2.1, -0.3,  4.6,  1.6],\n",
       "       [ 1.1, -0.7,  3.4,  1.6],\n",
       "       [ 1. , -0.5,  3.5,  1.6],\n",
       "       [ 1.3, -0.7,  4.2,  1.9],\n",
       "       [ 2.1, -0.5,  4.4,  1.4],\n",
       "       [ 2.3, -0.7,  4.7,  1.7],\n",
       "       [ 2.8,  0.3,  5. ,  1.8],\n",
       "       [ 1.3, -0.7,  4.2,  2. ],\n",
       "       [ 1.2, -0.7,  3.7,  1.3],\n",
       "       [ 1. , -0.9,  4.2,  1.2],\n",
       "       [ 2.6, -0.5,  4.7,  2.1],\n",
       "       [ 1.2, -0.1,  4.2,  2.2],\n",
       "       [ 1.3, -0.4,  4.1,  1.6],\n",
       "       [ 0.9, -0.5,  3.4,  1.6],\n",
       "       [ 1.8, -0.4,  4. ,  1.9],\n",
       "       [ 1.6, -0.4,  4.2,  2.2],\n",
       "       [ 1.8, -0.4,  3.7,  2.1],\n",
       "       [ 0.7, -0.8,  3.7,  1.7],\n",
       "       [ 1.7, -0.3,  4.5,  2.1],\n",
       "       [ 1.6, -0.2,  4.3,  2.3],\n",
       "       [ 1.6, -0.5,  3.8,  2.1],\n",
       "       [ 1.2, -1. ,  3.6,  1.7],\n",
       "       [ 1.4, -0.5,  3.8,  1.8],\n",
       "       [ 1.1, -0.1,  4. ,  2.1],\n",
       "       [ 0.8, -0.5,  3.7,  1.6]])"
      ]
     },
     "execution_count": 20,
     "metadata": {},
     "output_type": "execute_result"
    }
   ],
   "source": [
    "X-X[0]"
   ]
  },
  {
   "cell_type": "code",
   "execution_count": 21,
   "metadata": {},
   "outputs": [
    {
     "data": {
      "text/plain": [
       "array([0.        , 0.53851648, 0.50990195, 0.64807407, 0.14142136,\n",
       "       0.6164414 , 0.51961524, 0.17320508, 0.92195445, 0.46904158,\n",
       "       0.37416574, 0.37416574, 0.59160798, 0.99498744, 0.88317609,\n",
       "       1.1045361 , 0.54772256, 0.1       , 0.74161985, 0.33166248,\n",
       "       0.43588989, 0.3       , 0.64807407, 0.46904158, 0.59160798,\n",
       "       0.54772256, 0.31622777, 0.14142136, 0.14142136, 0.53851648,\n",
       "       0.53851648, 0.38729833, 0.6244998 , 0.80622577, 0.46904158,\n",
       "       0.37416574, 0.41231056, 0.46904158, 0.8660254 , 0.14142136,\n",
       "       0.17320508, 1.34907376, 0.76811457, 0.45825757, 0.6164414 ,\n",
       "       0.59160798, 0.36055513, 0.58309519, 0.3       , 0.2236068 ,\n",
       "       4.00374824, 3.61662826, 4.16413256, 3.09354166, 3.79209705,\n",
       "       3.41613817, 3.78549865, 2.34520788, 3.74966665, 2.88790582,\n",
       "       2.70370117, 3.22800248, 3.14642654, 3.7       , 2.58069758,\n",
       "       3.62767143, 3.43511281, 3.00998339, 3.76828874, 2.88270706,\n",
       "       3.85356977, 3.0757113 , 4.04722127, 3.65786823, 3.41613817,\n",
       "       3.59722115, 4.04722127, 4.24499706, 3.53128872, 2.49399278,\n",
       "       2.81780056, 2.70185122, 2.89482297, 4.13521463, 3.41174442,\n",
       "       3.51994318, 3.91152144, 3.6180105 , 3.        , 3.02158899,\n",
       "       3.31209903, 3.59583092, 3.00998339, 2.38746728, 3.15277655,\n",
       "       3.07408523, 3.12569992, 3.34514574, 2.0904545 , 3.05777697,\n",
       "       5.2848841 , 4.20832508, 5.30188646, 4.69041576, 5.05667875,\n",
       "       6.09507998, 3.591657  , 5.63648827, 5.04777179, 5.63914887,\n",
       "       4.35660418, 4.51995575, 4.85386444, 4.19046537, 4.41701257,\n",
       "       4.6260134 , 4.64542786, 6.2401923 , 6.49846136, 4.14125585,\n",
       "       5.12152321, 4.02864742, 6.21128006, 4.10974452, 4.96990946,\n",
       "       5.31224999, 3.97743636, 4.00749298, 4.84045452, 5.09705797,\n",
       "       5.54616985, 6.01414998, 4.88057374, 4.16052881, 4.57055795,\n",
       "       5.78878226, 4.89182992, 4.60651712, 3.89615195, 4.79687398,\n",
       "       5.01996016, 4.63680925, 4.20832508, 5.25737577, 5.13614642,\n",
       "       4.65403051, 4.27668096, 4.45982062, 4.65080638, 4.14004831])"
      ]
     },
     "execution_count": 21,
     "metadata": {},
     "output_type": "execute_result"
    }
   ],
   "source": [
    "np.sqrt(((X-X[0])**2).sum(axis=1))"
   ]
  },
  {
   "cell_type": "markdown",
   "metadata": {},
   "source": [
    "- 모든 점과 모든 점들 간의 거리를 구하시오.\n",
    "- ```np.sqrt(((X-X[0])**2).sum(axis=1))``` 를 활용\n",
    "- 결과는 150X150"
   ]
  },
  {
   "cell_type": "code",
   "execution_count": 20,
   "metadata": {},
   "outputs": [
    {
     "data": {
      "text/plain": [
       "array([[1, 2],\n",
       "       [3, 4]])"
      ]
     },
     "execution_count": 20,
     "metadata": {},
     "output_type": "execute_result"
    }
   ],
   "source": [
    "l = [np.array([1,2]), np.array([3,4])]\n",
    "np.array(l)"
   ]
  },
  {
   "cell_type": "code",
   "execution_count": null,
   "metadata": {},
   "outputs": [],
   "source": []
  },
  {
   "cell_type": "code",
   "execution_count": null,
   "metadata": {},
   "outputs": [],
   "source": []
  },
  {
   "cell_type": "code",
   "execution_count": null,
   "metadata": {},
   "outputs": [],
   "source": []
  },
  {
   "cell_type": "code",
   "execution_count": null,
   "metadata": {},
   "outputs": [],
   "source": []
  },
  {
   "cell_type": "code",
   "execution_count": 20,
   "metadata": {},
   "outputs": [
    {
     "data": {
      "text/plain": [
       "array([[0.        , 0.53851648, 0.50990195, ..., 4.45982062, 4.65080638,\n",
       "        4.14004831],\n",
       "       [0.53851648, 0.        , 0.3       , ..., 4.49888875, 4.71805044,\n",
       "        4.15331193],\n",
       "       [0.50990195, 0.3       , 0.        , ..., 4.66154481, 4.84871117,\n",
       "        4.29883705],\n",
       "       ...,\n",
       "       [4.45982062, 4.49888875, 4.66154481, ..., 0.        , 0.6164414 ,\n",
       "        0.64031242],\n",
       "       [4.65080638, 4.71805044, 4.84871117, ..., 0.6164414 , 0.        ,\n",
       "        0.76811457],\n",
       "       [4.14004831, 4.15331193, 4.29883705, ..., 0.64031242, 0.76811457,\n",
       "        0.        ]])"
      ]
     },
     "execution_count": 20,
     "metadata": {},
     "output_type": "execute_result"
    }
   ],
   "source": [
    "dist_table = np.zeros([150,150])\n",
    "for row in range(150):\n",
    "    dist_table[row] = np.sqrt(((X-X[row])**2).sum(axis=1))\n",
    "    \n",
    "dist_table"
   ]
  },
  {
   "cell_type": "code",
   "execution_count": 21,
   "metadata": {},
   "outputs": [
    {
     "data": {
      "text/plain": [
       "array([[0.        , 0.53851648, 0.50990195, ..., 4.45982062, 4.65080638,\n",
       "        4.14004831],\n",
       "       [0.53851648, 0.        , 0.3       , ..., 4.49888875, 4.71805044,\n",
       "        4.15331193],\n",
       "       [0.50990195, 0.3       , 0.        , ..., 4.66154481, 4.84871117,\n",
       "        4.29883705],\n",
       "       ...,\n",
       "       [4.45982062, 4.49888875, 4.66154481, ..., 0.        , 0.6164414 ,\n",
       "        0.64031242],\n",
       "       [4.65080638, 4.71805044, 4.84871117, ..., 0.6164414 , 0.        ,\n",
       "        0.76811457],\n",
       "       [4.14004831, 4.15331193, 4.29883705, ..., 0.64031242, 0.76811457,\n",
       "        0.        ]])"
      ]
     },
     "execution_count": 21,
     "metadata": {},
     "output_type": "execute_result"
    }
   ],
   "source": [
    "l=[]\n",
    "for i in range(150):\n",
    "    l.append(np.sqrt(((X-X[i])**2).sum(axis=1)))\n",
    "np.array(l)"
   ]
  },
  {
   "cell_type": "code",
   "execution_count": 30,
   "metadata": {},
   "outputs": [
    {
     "data": {
      "text/plain": [
       "array([[0.        , 0.53851648, 0.50990195, ..., 4.45982062, 4.65080638,\n",
       "        4.14004831],\n",
       "       [0.53851648, 0.        , 0.3       , ..., 4.49888875, 4.71805044,\n",
       "        4.15331193],\n",
       "       [0.50990195, 0.3       , 0.        , ..., 4.66154481, 4.84871117,\n",
       "        4.29883705],\n",
       "       ...,\n",
       "       [4.45982062, 4.49888875, 4.66154481, ..., 0.        , 0.6164414 ,\n",
       "        0.64031242],\n",
       "       [4.65080638, 4.71805044, 4.84871117, ..., 0.6164414 , 0.        ,\n",
       "        0.76811457],\n",
       "       [4.14004831, 4.15331193, 4.29883705, ..., 0.64031242, 0.76811457,\n",
       "        0.        ]])"
      ]
     },
     "execution_count": 30,
     "metadata": {},
     "output_type": "execute_result"
    }
   ],
   "source": [
    "dtable = np.zeros([150,150])\n",
    "for i in range(150):\n",
    "    for j in range(150):\n",
    "        dtable[i,j] = np.sqrt(((X[i]-X[j])**2).sum())\n",
    "        \n",
    "dtable"
   ]
  },
  {
   "cell_type": "code",
   "execution_count": 28,
   "metadata": {},
   "outputs": [
    {
     "data": {
      "text/plain": [
       "array([[0.        , 0.53851648, 0.50990195, ..., 4.45982062, 4.65080638,\n",
       "        4.14004831],\n",
       "       [0.53851648, 0.        , 0.3       , ..., 4.49888875, 4.71805044,\n",
       "        4.15331193],\n",
       "       [0.50990195, 0.3       , 0.        , ..., 4.66154481, 4.84871117,\n",
       "        4.29883705],\n",
       "       ...,\n",
       "       [4.45982062, 4.49888875, 4.66154481, ..., 0.        , 0.6164414 ,\n",
       "        0.64031242],\n",
       "       [4.65080638, 4.71805044, 4.84871117, ..., 0.6164414 , 0.        ,\n",
       "        0.76811457],\n",
       "       [4.14004831, 4.15331193, 4.29883705, ..., 0.64031242, 0.76811457,\n",
       "        0.        ]])"
      ]
     },
     "execution_count": 28,
     "metadata": {},
     "output_type": "execute_result"
    }
   ],
   "source": [
    "np.sqrt(((X.reshape(150,1,4) - X)**2).sum(axis=2))"
   ]
  },
  {
   "cell_type": "code",
   "execution_count": 26,
   "metadata": {},
   "outputs": [
    {
     "data": {
      "text/plain": [
       "<matplotlib.colorbar.Colorbar at 0x1dadf941d68>"
      ]
     },
     "execution_count": 26,
     "metadata": {},
     "output_type": "execute_result"
    },
    {
     "data": {
      "image/png": "[encoded data removed]",
      "text/plain": [
       "<matplotlib.figure.Figure at 0x1dade4c9940>"
      ]
     },
     "metadata": {},
     "output_type": "display_data"
    }
   ],
   "source": [
    "fig = plt.figure(figsize=[10,8])\n",
    "plt.imshow(dist_table, cmap='gray_r')\n",
    "plt.colorbar()"
   ]
  },
  {
   "cell_type": "code",
   "execution_count": 25,
   "metadata": {},
   "outputs": [
    {
     "data": {
      "text/plain": [
       "[<matplotlib.lines.Line2D at 0x1d1ba213fd0>]"
      ]
     },
     "execution_count": 25,
     "metadata": {},
     "output_type": "execute_result"
    },
    {
     "data": {
      "image/png": "[encoded data removed]",
      "text/plain": [
       "<Figure size 432x288 with 1 Axes>"
      ]
     },
     "metadata": {
      "needs_background": "light"
     },
     "output_type": "display_data"
    }
   ],
   "source": [
    "plt.plot(dist_table[0])"
   ]
  },
  {
   "cell_type": "code",
   "execution_count": 26,
   "metadata": {},
   "outputs": [
    {
     "data": {
      "text/plain": [
       "[<matplotlib.lines.Line2D at 0x1d1ba26c048>]"
      ]
     },
     "execution_count": 26,
     "metadata": {},
     "output_type": "execute_result"
    },
    {
     "data": {
      "image/png": "[encoded data removed]",
      "text/plain": [
       "<Figure size 432x288 with 1 Axes>"
      ]
     },
     "metadata": {
      "needs_background": "light"
     },
     "output_type": "display_data"
    }
   ],
   "source": [
    "plt.plot(dist_table[50])"
   ]
  },
  {
   "cell_type": "code",
   "execution_count": 27,
   "metadata": {},
   "outputs": [
    {
     "data": {
      "text/plain": [
       "[<matplotlib.lines.Line2D at 0x1d1ba2c66a0>]"
      ]
     },
     "execution_count": 27,
     "metadata": {},
     "output_type": "execute_result"
    },
    {
     "data": {
      "image/png": "[encoded data removed]",
      "text/plain": [
       "<Figure size 432x288 with 1 Axes>"
      ]
     },
     "metadata": {
      "needs_background": "light"
     },
     "output_type": "display_data"
    }
   ],
   "source": [
    "plt.plot(dist_table[100])"
   ]
  },
  {
   "cell_type": "code",
   "execution_count": 27,
   "metadata": {},
   "outputs": [
    {
     "data": {
      "text/plain": [
       "[<matplotlib.lines.Line2D at 0x1dadfb6d518>]"
      ]
     },
     "execution_count": 27,
     "metadata": {},
     "output_type": "execute_result"
    },
    {
     "data": {
      "image/png": "[encoded data removed]",
      "text/plain": [
       "<matplotlib.figure.Figure at 0x1dade66cc18>"
      ]
     },
     "metadata": {},
     "output_type": "display_data"
    }
   ],
   "source": [
    "plt.plot(dist_table[-1])"
   ]
  },
  {
   "cell_type": "markdown",
   "metadata": {},
   "source": [
    "- Setosa 의 평균점을 구한 다음, 이 평균점과 모든 점들 간의 거리를 구해보자"
   ]
  },
  {
   "cell_type": "code",
   "execution_count": 35,
   "metadata": {},
   "outputs": [
    {
     "data": {
      "text/plain": [
       "array([5.006, 3.418, 1.464, 0.244])"
      ]
     },
     "execution_count": 35,
     "metadata": {},
     "output_type": "execute_result"
    }
   ],
   "source": [
    "setosa = X[:50]\n",
    "sm = setosa.mean(axis=0)\n",
    "sm"
   ]
  },
  {
   "cell_type": "code",
   "execution_count": 25,
   "metadata": {},
   "outputs": [],
   "source": [
    "d = np.sqrt(((X - sm)**2).sum(axis=1))"
   ]
  },
  {
   "cell_type": "code",
   "execution_count": 26,
   "metadata": {},
   "outputs": [
    {
     "data": {
      "text/plain": [
       "[<matplotlib.lines.Line2D at 0x15419ded240>]"
      ]
     },
     "execution_count": 26,
     "metadata": {},
     "output_type": "execute_result"
    },
    {
     "data": {
      "image/png": "[encoded data removed]",
      "text/plain": [
       "<Figure size 432x288 with 1 Axes>"
      ]
     },
     "metadata": {
      "needs_background": "light"
     },
     "output_type": "display_data"
    }
   ],
   "source": [
    "plt.plot(d, 'ro-')"
   ]
  },
  {
   "cell_type": "code",
   "execution_count": 21,
   "metadata": {},
   "outputs": [
    {
     "data": {
      "text/plain": [
       "[<matplotlib.lines.Line2D at 0x15419d310b8>]"
      ]
     },
     "execution_count": 21,
     "metadata": {},
     "output_type": "execute_result"
    },
    {
     "data": {
      "image/png": "[encoded data removed]",
      "text/plain": [
       "<Figure size 432x288 with 1 Axes>"
      ]
     },
     "metadata": {
      "needs_background": "light"
     },
     "output_type": "display_data"
    }
   ],
   "source": [
    "plt.plot(X[:,0], 'ro-')"
   ]
  },
  {
   "cell_type": "markdown",
   "metadata": {},
   "source": [
    "### 한점과 다른 모든 점들 간의 거리 계산"
   ]
  },
  {
   "cell_type": "code",
   "execution_count": 9,
   "metadata": {},
   "outputs": [
    {
     "data": {
      "text/plain": [
       "[0.0,\n",
       " 0.5385164807134502,\n",
       " 0.509901951359278,\n",
       " 0.648074069840786,\n",
       " 0.1414213562373093,\n",
       " 0.6164414002968979,\n",
       " 0.5196152422706632,\n",
       " 0.17320508075688762,\n",
       " 0.9219544457292882,\n",
       " 0.4690415759823426,\n",
       " 0.37416573867739483,\n",
       " 0.3741657386773941,\n",
       " 0.5916079783099616,\n",
       " 0.9949874371066197,\n",
       " 0.8831760866327848,\n",
       " 1.1045361017187267,\n",
       " 0.5477225575051664,\n",
       " 0.09999999999999998,\n",
       " 0.7416198487095667,\n",
       " 0.33166247903553986,\n",
       " 0.4358898943540679,\n",
       " 0.30000000000000016,\n",
       " 0.648074069840786,\n",
       " 0.46904157598234303,\n",
       " 0.5916079783099616,\n",
       " 0.5477225575051662,\n",
       " 0.316227766016838,\n",
       " 0.14142135623730995,\n",
       " 0.14142135623730995,\n",
       " 0.53851648071345,\n",
       " 0.5385164807134504,\n",
       " 0.3872983346207423,\n",
       " 0.6244997998398396,\n",
       " 0.8062257748298554,\n",
       " 0.4690415759823426,\n",
       " 0.37416573867739383,\n",
       " 0.41231056256176635,\n",
       " 0.4690415759823426,\n",
       " 0.866025403784438,\n",
       " 0.14142135623730964,\n",
       " 0.17320508075688743,\n",
       " 1.3490737563232043,\n",
       " 0.7681145747868601,\n",
       " 0.45825756949558394,\n",
       " 0.6164414002968975,\n",
       " 0.5916079783099616,\n",
       " 0.3605551275463989,\n",
       " 0.58309518948453,\n",
       " 0.30000000000000027,\n",
       " 0.22360679774997896,\n",
       " 4.003748243833521,\n",
       " 3.6166282640050254,\n",
       " 4.164132562731403,\n",
       " 3.093541659651604,\n",
       " 3.792097045171708,\n",
       " 3.416138170507745,\n",
       " 3.7854986461495406,\n",
       " 2.345207879911715,\n",
       " 3.749666651850535,\n",
       " 2.8879058156387303,\n",
       " 2.703701166919155,\n",
       " 3.228002478313795,\n",
       " 3.146426544510455,\n",
       " 3.7,\n",
       " 2.5806975801127883,\n",
       " 3.627671429443412,\n",
       " 3.4351128074635335,\n",
       " 3.009983388658482,\n",
       " 3.7682887362833544,\n",
       " 2.882707061079915,\n",
       " 3.8535697735995385,\n",
       " 3.0757112998459397,\n",
       " 4.047221268969613,\n",
       " 3.6578682316343767,\n",
       " 3.416138170507745,\n",
       " 3.59722114972099,\n",
       " 4.047221268969612,\n",
       " 4.244997055358225,\n",
       " 3.531288716601915,\n",
       " 2.4939927826679855,\n",
       " 2.8178005607210745,\n",
       " 2.7018512172212596,\n",
       " 2.8948229652260253,\n",
       " 4.135214625627066,\n",
       " 3.411744421846396,\n",
       " 3.5199431813596087,\n",
       " 3.9115214431215897,\n",
       " 3.6180105030251095,\n",
       " 2.9999999999999996,\n",
       " 3.0215889859476257,\n",
       " 3.3120990323358397,\n",
       " 3.59583091927304,\n",
       " 3.0099833886584824,\n",
       " 2.387467277262665,\n",
       " 3.1527765540868895,\n",
       " 3.07408522978788,\n",
       " 3.1256999216175574,\n",
       " 3.3451457367355464,\n",
       " 2.0904544960366875,\n",
       " 3.057776970284131,\n",
       " 5.2848841046895245,\n",
       " 4.208325082500163,\n",
       " 5.301886456724625,\n",
       " 4.690415759823429,\n",
       " 5.056678751908213,\n",
       " 6.0950799830683104,\n",
       " 3.591656999213594,\n",
       " 5.636488268416782,\n",
       " 5.047771785649585,\n",
       " 5.639148871948673,\n",
       " 4.356604182158392,\n",
       " 4.519955751995809,\n",
       " 4.853864439804639,\n",
       " 4.190465367951393,\n",
       " 4.417012565071555,\n",
       " 4.626013402488151,\n",
       " 4.645427859734774,\n",
       " 6.240192304729079,\n",
       " 6.498461356351979,\n",
       " 4.141255848169732,\n",
       " 5.121523210920752,\n",
       " 4.028647415696738,\n",
       " 6.211280061307815,\n",
       " 4.109744517606904,\n",
       " 4.969909455915672,\n",
       " 5.31224999411737,\n",
       " 3.9774363602702683,\n",
       " 4.007492981902776,\n",
       " 4.840454524112379,\n",
       " 5.0970579749498635,\n",
       " 5.546169849544818,\n",
       " 6.014149981501959,\n",
       " 4.880573736764972,\n",
       " 4.160528812542944,\n",
       " 4.570557952810575,\n",
       " 5.788782255362521,\n",
       " 4.891829923454003,\n",
       " 4.606517122512408,\n",
       " 3.8961519477556315,\n",
       " 4.796873982084583,\n",
       " 5.0199601592044525,\n",
       " 4.636809247747852,\n",
       " 4.208325082500163,\n",
       " 5.2573757712379665,\n",
       " 5.136146415358503,\n",
       " 4.654030511288039,\n",
       " 4.27668095606862,\n",
       " 4.459820624195552,\n",
       " 4.650806381693394,\n",
       " 4.1400483088968905]"
      ]
     },
     "execution_count": 9,
     "metadata": {},
     "output_type": "execute_result"
    }
   ],
   "source": [
    "distances = []\n",
    "for i in range(150):\n",
    "    n = np.sqrt(((X[0]-X[i])**2).sum()) # x0 와 X[i] 간의 거리\n",
    "    distances.append(n)\n",
    "distances"
   ]
  },
  {
   "cell_type": "code",
   "execution_count": 10,
   "metadata": {},
   "outputs": [
    {
     "data": {
      "text/plain": [
       "[<matplotlib.lines.Line2D at 0x1a3bd00c0f0>]"
      ]
     },
     "execution_count": 10,
     "metadata": {},
     "output_type": "execute_result"
    },
    {
     "data": {
      "image/png": "[encoded data removed]",
      "text/plain": [
       "<Figure size 432x288 with 1 Axes>"
      ]
     },
     "metadata": {
      "needs_background": "light"
     },
     "output_type": "display_data"
    }
   ],
   "source": [
    "plt.plot(distances)"
   ]
  },
  {
   "cell_type": "markdown",
   "metadata": {},
   "source": [
    "- 상세 그래프 그리기"
   ]
  },
  {
   "cell_type": "code",
   "execution_count": 39,
   "metadata": {},
   "outputs": [
    {
     "data": {
      "text/plain": [
       "Text(0.5,1,'distances from X[0]')"
      ]
     },
     "execution_count": 39,
     "metadata": {},
     "output_type": "execute_result"
    },
    {
     "data": {
      "image/png": "[encoded data removed]",
      "text/plain": [
       "<Figure size 720x288 with 1 Axes>"
      ]
     },
     "metadata": {
      "needs_background": "light"
     },
     "output_type": "display_data"
    }
   ],
   "source": [
    "plt.figure(figsize=[10,4])\n",
    "plt.plot(dist_table[0], 'bo-')\n",
    "plt.xlabel('samples', fontsize=15)\n",
    "plt.ylabel('distance', fontsize=15)\n",
    "plt.xticks(range(0,151,25), [0, 'Setosa', 50, 'Versicolor', 100, 'Virginica', 150])\n",
    "plt.yticks(range(0,8))\n",
    "plt.grid()\n",
    "plt.title('distances from X[0]', fontsize=20)"
   ]
  }
 ],
 "metadata": {
  "kernelspec": {
   "display_name": "Python 3",
   "language": "python",
   "name": "python3"
  },
  "language_info": {
   "codemirror_mode": {
    "name": "ipython",
    "version": 3
   },
   "file_extension": ".py",
   "mimetype": "text/x-python",
   "name": "python",
   "nbconvert_exporter": "python",
   "pygments_lexer": "ipython3",
   "version": "3.6.4"
  }
 },
 "nbformat": 4,
 "nbformat_minor": 2
}
