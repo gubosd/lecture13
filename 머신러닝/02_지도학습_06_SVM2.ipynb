{
 "cells": [
  {
   "cell_type": "markdown",
   "metadata": {},
   "source": [
    "## 파이썬 지도학습\n",
    "# 커널 서포트벡터 머신 (2)"
   ]
  },
  {
   "cell_type": "markdown",
   "metadata": {},
   "source": [
    "- 유방암 데이터에 커널 SVM 을 적용해 보겠습니다."
   ]
  },
  {
   "cell_type": "code",
   "execution_count": 1,
   "metadata": {},
   "outputs": [],
   "source": [
    "import numpy as np\n",
    "import pandas as pd\n",
    "import matplotlib.pyplot as plt\n",
    "from sklearn.datasets import load_breast_cancer\n",
    "\n",
    "cancer = load_breast_cancer()"
   ]
  },
  {
   "cell_type": "code",
   "execution_count": 2,
   "metadata": {},
   "outputs": [
    {
     "data": {
      "text/plain": [
       "((212, 30), (357, 30))"
      ]
     },
     "execution_count": 2,
     "metadata": {},
     "output_type": "execute_result"
    }
   ],
   "source": [
    "malignant = cancer.data[cancer.target==0] # 37%\n",
    "benign = cancer.data[cancer.target==1]    # 63%\n",
    "\n",
    "malignant.shape, benign.shape"
   ]
  },
  {
   "cell_type": "code",
   "execution_count": 3,
   "metadata": {},
   "outputs": [
    {
     "data": {
      "text/plain": [
       "1.0"
      ]
     },
     "metadata": {},
     "output_type": "display_data"
    },
    {
     "data": {
      "text/plain": [
       "0.6363636363636364"
      ]
     },
     "metadata": {},
     "output_type": "display_data"
    }
   ],
   "source": [
    "from sklearn.model_selection import train_test_split\n",
    "\n",
    "X_train, X_test, y_train, y_test = train_test_split(cancer.data, cancer.target)\n",
    "\n",
    "from sklearn.svm import SVC\n",
    "\n",
    "model = SVC()\n",
    "model.fit(X_train, y_train)\n",
    "\n",
    "train_score = model.score(X_train, y_train)\n",
    "test_score = model.score(X_test, y_test)\n",
    "display(train_score, test_score)"
   ]
  },
  {
   "cell_type": "code",
   "execution_count": 4,
   "metadata": {},
   "outputs": [
    {
     "data": {
      "text/plain": [
       "array([1, 1, 1, 1, 1, 1, 1, 1, 1, 1, 1, 1, 1, 1, 1, 1, 1, 1, 1, 1, 1, 1,\n",
       "       1, 1, 1, 1, 1, 1, 1, 1, 1, 1, 1, 1, 1, 1, 1, 1, 1, 1, 1, 1, 1, 1,\n",
       "       1, 1, 1, 1, 1, 1, 1, 1, 1, 1, 1, 1, 1, 1, 1, 1, 1, 1, 1, 1, 1, 1,\n",
       "       1, 1, 1, 1, 1, 1, 1, 1, 1, 1, 1, 1, 1, 1, 1, 1, 1, 1, 1, 1, 1, 1,\n",
       "       1, 1, 1, 1, 1, 1, 1, 1, 1, 1, 1, 1, 1, 1, 1, 1, 1, 1, 1, 1, 1, 1,\n",
       "       1, 1, 1, 1, 1, 1, 1, 1, 1, 1, 1, 1, 1, 1, 1, 1, 1, 1, 1, 1, 1, 1,\n",
       "       1, 1, 1, 1, 1, 1, 1, 1, 1, 1, 1])"
      ]
     },
     "execution_count": 4,
     "metadata": {},
     "output_type": "execute_result"
    }
   ],
   "source": [
    "pred_y = model.predict(X_test)\n",
    "pred_y"
   ]
  },
  {
   "cell_type": "code",
   "execution_count": 7,
   "metadata": {},
   "outputs": [
    {
     "data": {
      "image/png": "[encoded data removed]",
      "text/plain": [
       "<matplotlib.figure.Figure at 0x263afc68358>"
      ]
     },
     "metadata": {},
     "output_type": "display_data"
    }
   ],
   "source": [
    "plt.boxplot(cancer.data)\n",
    "pass"
   ]
  },
  {
   "cell_type": "markdown",
   "metadata": {},
   "source": [
    "### 정규화 적용"
   ]
  },
  {
   "cell_type": "code",
   "execution_count": 8,
   "metadata": {},
   "outputs": [],
   "source": [
    "X = cancer.data\n",
    "y = cancer.target"
   ]
  },
  {
   "cell_type": "code",
   "execution_count": 9,
   "metadata": {},
   "outputs": [],
   "source": [
    "X_norm = (X - X.mean(axis=0))/X.std(axis=0)"
   ]
  },
  {
   "cell_type": "code",
   "execution_count": 10,
   "metadata": {},
   "outputs": [
    {
     "data": {
      "text/plain": [
       "0.9859154929577465"
      ]
     },
     "metadata": {},
     "output_type": "display_data"
    },
    {
     "data": {
      "text/plain": [
       "0.9790209790209791"
      ]
     },
     "metadata": {},
     "output_type": "display_data"
    }
   ],
   "source": [
    "X_train, X_test, y_train, y_test = train_test_split(X_norm, y)\n",
    "\n",
    "model = SVC()\n",
    "model.fit(X_train, y_train)\n",
    "\n",
    "train_score = model.score(X_train, y_train)\n",
    "test_score = model.score(X_test, y_test)\n",
    "display(train_score, test_score)"
   ]
  },
  {
   "cell_type": "markdown",
   "metadata": {},
   "source": [
    "- 학습/테스트셋을 분리후 정규화를 적용하여야 한다"
   ]
  },
  {
   "cell_type": "code",
   "execution_count": 8,
   "metadata": {},
   "outputs": [],
   "source": [
    "X = cancer.data\n",
    "y = cancer.target"
   ]
  },
  {
   "cell_type": "code",
   "execution_count": 9,
   "metadata": {},
   "outputs": [
    {
     "data": {
      "text/plain": [
       "0.9906103286384976"
      ]
     },
     "metadata": {},
     "output_type": "display_data"
    },
    {
     "data": {
      "text/plain": [
       "0.965034965034965"
      ]
     },
     "metadata": {},
     "output_type": "display_data"
    }
   ],
   "source": [
    "X_train, X_test, y_train, y_test = train_test_split(X, y)\n",
    "m = X_train.mean(axis=0)\n",
    "s = X_train.std(axis=0)\n",
    "\n",
    "X_train_norm = (X_train-m)/s\n",
    "X_test_norm = (X_test-m)/s\n",
    "\n",
    "model = SVC()\n",
    "model.fit(X_train_norm, y_train)\n",
    "\n",
    "train_score = model.score(X_train_norm, y_train)\n",
    "test_score = model.score(X_test_norm, y_test)\n",
    "display(train_score, test_score)"
   ]
  },
  {
   "cell_type": "markdown",
   "metadata": {},
   "source": [
    "- 틀린 샘플 분석"
   ]
  },
  {
   "cell_type": "code",
   "execution_count": 10,
   "metadata": {},
   "outputs": [
    {
     "data": {
      "text/plain": [
       "(array([ 62,  71, 106, 109, 128], dtype=int64),)"
      ]
     },
     "execution_count": 10,
     "metadata": {},
     "output_type": "execute_result"
    }
   ],
   "source": [
    "pred_y = model.predict(X_test_norm)\n",
    "np.where(pred_y!=y_test)"
   ]
  },
  {
   "cell_type": "code",
   "execution_count": 11,
   "metadata": {},
   "outputs": [
    {
     "data": {
      "text/plain": [
       "array([ 62,  71, 106, 109, 128], dtype=int64)"
      ]
     },
     "execution_count": 11,
     "metadata": {},
     "output_type": "execute_result"
    }
   ],
   "source": [
    "idx = np.where(pred_y!=y_test)[0]\n",
    "idx"
   ]
  },
  {
   "cell_type": "code",
   "execution_count": 12,
   "metadata": {},
   "outputs": [
    {
     "data": {
      "text/plain": [
       "array([0, 0, 1, 0, 0])"
      ]
     },
     "metadata": {},
     "output_type": "display_data"
    },
    {
     "data": {
      "text/plain": [
       "array([1, 1, 0, 1, 1])"
      ]
     },
     "metadata": {},
     "output_type": "display_data"
    }
   ],
   "source": [
    "display(y_test[idx], pred_y[idx])"
   ]
  },
  {
   "cell_type": "code",
   "execution_count": 13,
   "metadata": {},
   "outputs": [
    {
     "data": {
      "text/plain": [
       "<matplotlib.colorbar.Colorbar at 0x1a890e60e10>"
      ]
     },
     "execution_count": 13,
     "metadata": {},
     "output_type": "execute_result"
    },
    {
     "data": {
      "image/png": "[encoded data removed]",
      "text/plain": [
       "<matplotlib.figure.Figure at 0x1a890d39240>"
      ]
     },
     "metadata": {},
     "output_type": "display_data"
    }
   ],
   "source": [
    "plt.imshow(X_test_norm[idx], cmap='RdBu')\n",
    "plt.colorbar()"
   ]
  },
  {
   "cell_type": "code",
   "execution_count": 16,
   "metadata": {},
   "outputs": [
    {
     "data": {
      "text/plain": [
       "<matplotlib.collections.PathCollection at 0x1a8911dda58>"
      ]
     },
     "execution_count": 16,
     "metadata": {},
     "output_type": "execute_result"
    },
    {
     "data": {
      "image/png": "[encoded data removed]",
      "text/plain": [
       "<matplotlib.figure.Figure at 0x1a890e96e10>"
      ]
     },
     "metadata": {},
     "output_type": "display_data"
    }
   ],
   "source": [
    "col1=0\n",
    "col2=9\n",
    "plt.scatter(X_test_norm[:,col1], X_test_norm[:,col2], c=y_test, alpha=0.2)\n",
    "plt.scatter(X_test_norm[idx,col1], X_test_norm[idx,col2], c=y_test[idx], s=200)"
   ]
  },
  {
   "cell_type": "markdown",
   "metadata": {},
   "source": [
    "- 속성을 2개로 제한"
   ]
  },
  {
   "cell_type": "code",
   "execution_count": 35,
   "metadata": {},
   "outputs": [
    {
     "data": {
      "text/plain": [
       "0.9178403755868545"
      ]
     },
     "metadata": {},
     "output_type": "display_data"
    },
    {
     "data": {
      "text/plain": [
       "0.8951048951048951"
      ]
     },
     "metadata": {},
     "output_type": "display_data"
    }
   ],
   "source": [
    "X = cancer.data[:,[0,1]]\n",
    "\n",
    "X_train, X_test, y_train, y_test = train_test_split(X, y)\n",
    "m = X_train.mean(axis=0)\n",
    "s = X_train.std(axis=0)\n",
    "\n",
    "X_train_norm = (X_train-m)/s\n",
    "X_test_norm = (X_test-m)/s\n",
    "\n",
    "model = SVC(C=1, gamma=1)\n",
    "model.fit(X_train_norm, y_train)\n",
    "\n",
    "train_score = model.score(X_train_norm, y_train)\n",
    "test_score = model.score(X_test_norm, y_test)\n",
    "display(train_score, test_score)"
   ]
  },
  {
   "cell_type": "code",
   "execution_count": 36,
   "metadata": {},
   "outputs": [
    {
     "data": {
      "text/plain": [
       "(-2.410419736841454, 4.403012287274412, -2.7090626299912404, 5.165338749161179)"
      ]
     },
     "execution_count": 36,
     "metadata": {},
     "output_type": "execute_result"
    },
    {
     "data": {
      "image/png": "[encoded data removed]",
      "text/plain": [
       "<matplotlib.figure.Figure at 0x1a891aca588>"
      ]
     },
     "metadata": {},
     "output_type": "display_data"
    }
   ],
   "source": [
    "import mglearn\n",
    "\n",
    "plt.figure(figsize=[12,12])\n",
    "mglearn.plots.plot_2d_classification(model, X_train_norm, eps=0.5, alpha=0.5)\n",
    "mglearn.discrete_scatter(X_train_norm[:,0], X_train_norm[:,1], y_train)\n",
    "plt.axis('scaled')"
   ]
  },
  {
   "cell_type": "markdown",
   "metadata": {},
   "source": [
    "### 정규화 적용 이유"
   ]
  },
  {
   "cell_type": "markdown",
   "metadata": {},
   "source": [
    "- 위의 결과를 보면, 테스트세트에 대한 점수가 60% 를 잘 넘지 못합니다.\n",
    "- 모든 데이터를 양성이라고 판단하더라도 최소한 63% 는 맞출수 있습니다.\n",
    "- 문제의 원인은 유방암 데이터의 스케일이 아주 차이가 크기 때문입니다."
   ]
  },
  {
   "cell_type": "code",
   "execution_count": 5,
   "metadata": {},
   "outputs": [
    {
     "name": "stdout",
     "output_type": "stream",
     "text": [
      "\n"
     ]
    },
    {
     "data": {
      "image/png": "[encoded data removed]",
      "text/plain": [
       "<Figure size 720x576 with 1 Axes>"
      ]
     },
     "metadata": {
      "needs_background": "light"
     },
     "output_type": "display_data"
    }
   ],
   "source": [
    "fig=plt.figure(figsize=[10,8])\n",
    "plt.title('Cancer - boxplot for features',fontsize=15)\n",
    "plt.boxplot(cancer.data)\n",
    "plt.xticks(np.arange(30)+1,cancer.feature_names,rotation=90)\n",
    "plt.xlabel('features')\n",
    "plt.ylabel('scale')\n",
    "print('')"
   ]
  },
  {
   "cell_type": "markdown",
   "metadata": {},
   "source": [
    "- 커널 SVM 은 스케일에 아주 민감합니다. 많은 차원과 큰 차원의 다항식, 복잡한 곡선함수를 사용하기 때문에 조금만 스케일이 차이가 나도 훈련데이터에 과대적합 되어 버립니다.\n",
    "- <font color=\"red\">커널 SVM 을 적용할 때는 반드시 **정규화(normalization)**을 해 주어야 합니다.</font>\n",
    "- 머신러닝 알고리즘 중에서 **거리(distance)** 를 사용하는 함수는 반드시 정규화를 해 주어야 한다고 알아두면 좋습니다.\n",
    "    1. k-NN 은 점들 사이의 거리에 기반하므로 정규화가 반드시 필요합니다.<br>\n",
    "    2. 선형회귀와 로지스틱회귀는 높이값을 비교하므로 정규화가 꼭 필요한 것은 아니지만, 적용하면 좋습니다.<br>\n",
    "    3. 선형 SVM 도 직선과 점들 사이의 거리를 사용하기 때문에 정규화가 꼭 필요합니다."
   ]
  },
  {
   "cell_type": "markdown",
   "metadata": {},
   "source": [
    "- 정규화의 방법은 대표적으로 2가지 방법을 사용합니다.\n",
    "    1. 0과 1사이의 값으로 균등하게 비율을 조정하는 방법\n",
    "    2. 평균 0, 표준편차 1의 정규분포로 변환하는 방법\n",
    "- 데이터의 특성에 맞게 적당한 변환 방법을 선택합니다.\n",
    "- 훈련세트와 테스트세트로 분리되었을 때에는, 훈련세트의 값을 기준으로 테스트세트를 변환해야 합니다."
   ]
  },
  {
   "cell_type": "code",
   "execution_count": 6,
   "metadata": {},
   "outputs": [
    {
     "name": "stdout",
     "output_type": "stream",
     "text": [
      "\n"
     ]
    },
    {
     "data": {
      "image/png": "[encoded data removed]",
      "text/plain": [
       "<Figure size 432x288 with 1 Axes>"
      ]
     },
     "metadata": {
      "needs_background": "light"
     },
     "output_type": "display_data"
    }
   ],
   "source": [
    "# 균등 비율\n",
    "X_max = X_train.max(axis=0)\n",
    "X_min = X_train.min(axis=0)\n",
    "X_train_uni = (X_train - X_min) / (X_max - X_min)\n",
    "X_test_uni = (X_test - X_min) / (X_max - X_min) # 학습데이터 값을 기준으로 변환\n",
    "\n",
    "plt.boxplot(X_train_uni)\n",
    "print('')"
   ]
  },
  {
   "cell_type": "code",
   "execution_count": 10,
   "metadata": {},
   "outputs": [
    {
     "name": "stdout",
     "output_type": "stream",
     "text": [
      "\n"
     ]
    },
    {
     "data": {
      "image/png": "[encoded data removed]",
      "text/plain": [
       "<Figure size 432x288 with 1 Axes>"
      ]
     },
     "metadata": {
      "needs_background": "light"
     },
     "output_type": "display_data"
    }
   ],
   "source": [
    "# 정규분포\n",
    "X_mean = X_train.mean(axis=0)\n",
    "X_std = X_train.std(axis=0)\n",
    "\n",
    "X_train_norm = (X_train - X_mean) / X_std\n",
    "X_test_norm = (X_test - X_mean) / X_std # 학습데이터 값을 기준으로 변환\n",
    "\n",
    "plt.boxplot(X_train_norm)\n",
    "print('')"
   ]
  },
  {
   "cell_type": "code",
   "execution_count": 8,
   "metadata": {},
   "outputs": [
    {
     "data": {
      "text/plain": [
       "0.9553990610328639"
      ]
     },
     "metadata": {},
     "output_type": "display_data"
    },
    {
     "data": {
      "text/plain": [
       "0.9300699300699301"
      ]
     },
     "metadata": {},
     "output_type": "display_data"
    }
   ],
   "source": [
    "model = SVC()\n",
    "model.fit(X_train_uni, y_train)\n",
    "\n",
    "train_score = model.score(X_train_uni, y_train)\n",
    "test_score = model.score(X_test_uni, y_test)\n",
    "display(train_score, test_score)"
   ]
  },
  {
   "cell_type": "code",
   "execution_count": 11,
   "metadata": {},
   "outputs": [
    {
     "data": {
      "text/plain": [
       "0.9906103286384976"
      ]
     },
     "metadata": {},
     "output_type": "display_data"
    },
    {
     "data": {
      "text/plain": [
       "0.965034965034965"
      ]
     },
     "metadata": {},
     "output_type": "display_data"
    }
   ],
   "source": [
    "model = SVC()\n",
    "model.fit(X_train_norm, y_train)\n",
    "\n",
    "train_score = model.score(X_train_norm, y_train)\n",
    "test_score = model.score(X_test_norm, y_test)\n",
    "display(train_score, test_score)"
   ]
  },
  {
   "cell_type": "code",
   "execution_count": 14,
   "metadata": {},
   "outputs": [
    {
     "data": {
      "text/plain": [
       "array([1, 1, 1, 1, 0, 0, 1, 1, 1, 1, 1, 1, 0, 1, 0, 0, 1, 0, 1, 1, 1, 0,\n",
       "       0, 1, 1, 0, 1, 1, 1, 1, 0, 1, 0, 1, 1, 1, 1, 1, 1, 0, 0, 0, 1, 1,\n",
       "       0, 1, 1, 1, 1, 1, 0, 0, 1, 1, 0, 1, 1, 1, 0, 0, 1, 1, 0, 0, 0, 0,\n",
       "       1, 1, 0, 1, 0, 1, 0, 1, 1, 1, 0, 1, 1, 0, 1, 1, 1, 0, 1, 1, 1, 0,\n",
       "       0, 0, 1, 1, 1, 1, 1, 0, 1, 1, 0, 1, 1, 1, 1, 1, 1, 0, 1, 0, 1, 1,\n",
       "       1, 1, 0, 0, 1, 0, 1, 0, 1, 1, 0, 1, 1, 1, 0, 1, 0, 0, 1, 1, 1, 0,\n",
       "       1, 1, 1, 1, 1, 1, 1, 1, 1, 1, 1])"
      ]
     },
     "metadata": {},
     "output_type": "display_data"
    },
    {
     "data": {
      "text/plain": [
       "array([1, 1, 1, 1, 0, 0, 1, 1, 1, 1, 1, 1, 0, 1, 0, 1, 1, 0, 1, 1, 1, 1,\n",
       "       0, 1, 1, 0, 1, 1, 1, 1, 0, 1, 0, 1, 1, 1, 0, 1, 1, 0, 0, 0, 1, 1,\n",
       "       0, 1, 1, 1, 1, 1, 0, 0, 1, 1, 0, 1, 1, 1, 0, 0, 1, 1, 0, 0, 0, 0,\n",
       "       1, 1, 0, 1, 0, 1, 0, 1, 1, 1, 0, 1, 1, 0, 1, 1, 1, 1, 1, 1, 1, 0,\n",
       "       0, 0, 1, 1, 1, 1, 1, 0, 1, 1, 0, 1, 1, 1, 1, 1, 1, 0, 1, 0, 1, 1,\n",
       "       1, 1, 0, 0, 1, 0, 1, 0, 1, 1, 0, 1, 1, 1, 0, 1, 0, 1, 1, 1, 1, 0,\n",
       "       1, 1, 1, 1, 1, 1, 1, 1, 1, 1, 1])"
      ]
     },
     "metadata": {},
     "output_type": "display_data"
    }
   ],
   "source": [
    "pred_y = model.predict(X_test_norm)\n",
    "display(y_test, pred_y)"
   ]
  },
  {
   "cell_type": "code",
   "execution_count": 15,
   "metadata": {},
   "outputs": [
    {
     "data": {
      "text/plain": [
       "(array([ 15,  21,  36,  83, 127], dtype=int64),)"
      ]
     },
     "execution_count": 15,
     "metadata": {},
     "output_type": "execute_result"
    }
   ],
   "source": [
    "np.where(y_test != pred_y)"
   ]
  },
  {
   "cell_type": "markdown",
   "metadata": {},
   "source": [
    "- 이제 SVC 의 중요 옵션인 C 와 gamma 값을 바꿔가며 적용해 보자.\n",
    "- C 와 gamma 는 값이 커질수록 훈련데이터에 맞추는 경향이 있다."
   ]
  },
  {
   "cell_type": "code",
   "execution_count": 25,
   "metadata": {},
   "outputs": [
    {
     "name": "stdout",
     "output_type": "stream",
     "text": [
      "Help on class SVC in module sklearn.svm.classes:\n",
      "\n",
      "class SVC(sklearn.svm.base.BaseSVC)\n",
      " |  C-Support Vector Classification.\n",
      " |  \n",
      " |  The implementation is based on libsvm. The fit time complexity\n",
      " |  is more than quadratic with the number of samples which makes it hard\n",
      " |  to scale to dataset with more than a couple of 10000 samples.\n",
      " |  \n",
      " |  The multiclass support is handled according to a one-vs-one scheme.\n",
      " |  \n",
      " |  For details on the precise mathematical formulation of the provided\n",
      " |  kernel functions and how `gamma`, `coef0` and `degree` affect each\n",
      " |  other, see the corresponding section in the narrative documentation:\n",
      " |  :ref:`svm_kernels`.\n",
      " |  \n",
      " |  Read more in the :ref:`User Guide <svm_classification>`.\n",
      " |  \n",
      " |  Parameters\n",
      " |  ----------\n",
      " |  C : float, optional (default=1.0)\n",
      " |      Penalty parameter C of the error term.\n",
      " |  \n",
      " |  kernel : string, optional (default='rbf')\n",
      " |       Specifies the kernel type to be used in the algorithm.\n",
      " |       It must be one of 'linear', 'poly', 'rbf', 'sigmoid', 'precomputed' or\n",
      " |       a callable.\n",
      " |       If none is given, 'rbf' will be used. If a callable is given it is\n",
      " |       used to pre-compute the kernel matrix from data matrices; that matrix\n",
      " |       should be an array of shape ``(n_samples, n_samples)``.\n",
      " |  \n",
      " |  degree : int, optional (default=3)\n",
      " |      Degree of the polynomial kernel function ('poly').\n",
      " |      Ignored by all other kernels.\n",
      " |  \n",
      " |  gamma : float, optional (default='auto')\n",
      " |      Kernel coefficient for 'rbf', 'poly' and 'sigmoid'.\n",
      " |      If gamma is 'auto' then 1/n_features will be used instead.\n",
      " |  \n",
      " |  coef0 : float, optional (default=0.0)\n",
      " |      Independent term in kernel function.\n",
      " |      It is only significant in 'poly' and 'sigmoid'.\n",
      " |  \n",
      " |  probability : boolean, optional (default=False)\n",
      " |      Whether to enable probability estimates. This must be enabled prior\n",
      " |      to calling `fit`, and will slow down that method.\n",
      " |  \n",
      " |  shrinking : boolean, optional (default=True)\n",
      " |      Whether to use the shrinking heuristic.\n",
      " |  \n",
      " |  tol : float, optional (default=1e-3)\n",
      " |      Tolerance for stopping criterion.\n",
      " |  \n",
      " |  cache_size : float, optional\n",
      " |      Specify the size of the kernel cache (in MB).\n",
      " |  \n",
      " |  class_weight : {dict, 'balanced'}, optional\n",
      " |      Set the parameter C of class i to class_weight[i]*C for\n",
      " |      SVC. If not given, all classes are supposed to have\n",
      " |      weight one.\n",
      " |      The \"balanced\" mode uses the values of y to automatically adjust\n",
      " |      weights inversely proportional to class frequencies in the input data\n",
      " |      as ``n_samples / (n_classes * np.bincount(y))``\n",
      " |  \n",
      " |  verbose : bool, default: False\n",
      " |      Enable verbose output. Note that this setting takes advantage of a\n",
      " |      per-process runtime setting in libsvm that, if enabled, may not work\n",
      " |      properly in a multithreaded context.\n",
      " |  \n",
      " |  max_iter : int, optional (default=-1)\n",
      " |      Hard limit on iterations within solver, or -1 for no limit.\n",
      " |  \n",
      " |  decision_function_shape : 'ovo', 'ovr', default='ovr'\n",
      " |      Whether to return a one-vs-rest ('ovr') decision function of shape\n",
      " |      (n_samples, n_classes) as all other classifiers, or the original\n",
      " |      one-vs-one ('ovo') decision function of libsvm which has shape\n",
      " |      (n_samples, n_classes * (n_classes - 1) / 2).\n",
      " |  \n",
      " |      .. versionchanged:: 0.19\n",
      " |          decision_function_shape is 'ovr' by default.\n",
      " |  \n",
      " |      .. versionadded:: 0.17\n",
      " |         *decision_function_shape='ovr'* is recommended.\n",
      " |  \n",
      " |      .. versionchanged:: 0.17\n",
      " |         Deprecated *decision_function_shape='ovo' and None*.\n",
      " |  \n",
      " |  random_state : int, RandomState instance or None, optional (default=None)\n",
      " |      The seed of the pseudo random number generator to use when shuffling\n",
      " |      the data.  If int, random_state is the seed used by the random number\n",
      " |      generator; If RandomState instance, random_state is the random number\n",
      " |      generator; If None, the random number generator is the RandomState\n",
      " |      instance used by `np.random`.\n",
      " |  \n",
      " |  Attributes\n",
      " |  ----------\n",
      " |  support_ : array-like, shape = [n_SV]\n",
      " |      Indices of support vectors.\n",
      " |  \n",
      " |  support_vectors_ : array-like, shape = [n_SV, n_features]\n",
      " |      Support vectors.\n",
      " |  \n",
      " |  n_support_ : array-like, dtype=int32, shape = [n_class]\n",
      " |      Number of support vectors for each class.\n",
      " |  \n",
      " |  dual_coef_ : array, shape = [n_class-1, n_SV]\n",
      " |      Coefficients of the support vector in the decision function.\n",
      " |      For multiclass, coefficient for all 1-vs-1 classifiers.\n",
      " |      The layout of the coefficients in the multiclass case is somewhat\n",
      " |      non-trivial. See the section about multi-class classification in the\n",
      " |      SVM section of the User Guide for details.\n",
      " |  \n",
      " |  coef_ : array, shape = [n_class-1, n_features]\n",
      " |      Weights assigned to the features (coefficients in the primal\n",
      " |      problem). This is only available in the case of a linear kernel.\n",
      " |  \n",
      " |      `coef_` is a readonly property derived from `dual_coef_` and\n",
      " |      `support_vectors_`.\n",
      " |  \n",
      " |  intercept_ : array, shape = [n_class * (n_class-1) / 2]\n",
      " |      Constants in decision function.\n",
      " |  \n",
      " |  Examples\n",
      " |  --------\n",
      " |  >>> import numpy as np\n",
      " |  >>> X = np.array([[-1, -1], [-2, -1], [1, 1], [2, 1]])\n",
      " |  >>> y = np.array([1, 1, 2, 2])\n",
      " |  >>> from sklearn.svm import SVC\n",
      " |  >>> clf = SVC()\n",
      " |  >>> clf.fit(X, y) #doctest: +NORMALIZE_WHITESPACE\n",
      " |  SVC(C=1.0, cache_size=200, class_weight=None, coef0=0.0,\n",
      " |      decision_function_shape='ovr', degree=3, gamma='auto', kernel='rbf',\n",
      " |      max_iter=-1, probability=False, random_state=None, shrinking=True,\n",
      " |      tol=0.001, verbose=False)\n",
      " |  >>> print(clf.predict([[-0.8, -1]]))\n",
      " |  [1]\n",
      " |  \n",
      " |  See also\n",
      " |  --------\n",
      " |  SVR\n",
      " |      Support Vector Machine for Regression implemented using libsvm.\n",
      " |  \n",
      " |  LinearSVC\n",
      " |      Scalable Linear Support Vector Machine for classification\n",
      " |      implemented using liblinear. Check the See also section of\n",
      " |      LinearSVC for more comparison element.\n",
      " |  \n",
      " |  Method resolution order:\n",
      " |      SVC\n",
      " |      sklearn.svm.base.BaseSVC\n",
      " |      abc.NewBase\n",
      " |      sklearn.svm.base.BaseLibSVM\n",
      " |      abc.NewBase\n",
      " |      sklearn.base.BaseEstimator\n",
      " |      sklearn.base.ClassifierMixin\n",
      " |      builtins.object\n",
      " |  \n",
      " |  Methods defined here:\n",
      " |  \n",
      " |  __init__(self, C=1.0, kernel='rbf', degree=3, gamma='auto', coef0=0.0, shrinking=True, probability=False, tol=0.001, cache_size=200, class_weight=None, verbose=False, max_iter=-1, decision_function_shape='ovr', random_state=None)\n",
      " |      Initialize self.  See help(type(self)) for accurate signature.\n",
      " |  \n",
      " |  ----------------------------------------------------------------------\n",
      " |  Data and other attributes defined here:\n",
      " |  \n",
      " |  __abstractmethods__ = frozenset()\n",
      " |  \n",
      " |  ----------------------------------------------------------------------\n",
      " |  Methods inherited from sklearn.svm.base.BaseSVC:\n",
      " |  \n",
      " |  decision_function(self, X)\n",
      " |      Distance of the samples X to the separating hyperplane.\n",
      " |      \n",
      " |      Parameters\n",
      " |      ----------\n",
      " |      X : array-like, shape (n_samples, n_features)\n",
      " |      \n",
      " |      Returns\n",
      " |      -------\n",
      " |      X : array-like, shape (n_samples, n_classes * (n_classes-1) / 2)\n",
      " |          Returns the decision function of the sample for each class\n",
      " |          in the model.\n",
      " |          If decision_function_shape='ovr', the shape is (n_samples,\n",
      " |          n_classes)\n",
      " |  \n",
      " |  predict(self, X)\n",
      " |      Perform classification on samples in X.\n",
      " |      \n",
      " |      For an one-class model, +1 or -1 is returned.\n",
      " |      \n",
      " |      Parameters\n",
      " |      ----------\n",
      " |      X : {array-like, sparse matrix}, shape (n_samples, n_features)\n",
      " |          For kernel=\"precomputed\", the expected shape of X is\n",
      " |          [n_samples_test, n_samples_train]\n",
      " |      \n",
      " |      Returns\n",
      " |      -------\n",
      " |      y_pred : array, shape (n_samples,)\n",
      " |          Class labels for samples in X.\n",
      " |  \n",
      " |  ----------------------------------------------------------------------\n",
      " |  Data descriptors inherited from sklearn.svm.base.BaseSVC:\n",
      " |  \n",
      " |  predict_log_proba\n",
      " |      Compute log probabilities of possible outcomes for samples in X.\n",
      " |      \n",
      " |      The model need to have probability information computed at training\n",
      " |      time: fit with attribute `probability` set to True.\n",
      " |      \n",
      " |      Parameters\n",
      " |      ----------\n",
      " |      X : array-like, shape (n_samples, n_features)\n",
      " |          For kernel=\"precomputed\", the expected shape of X is\n",
      " |          [n_samples_test, n_samples_train]\n",
      " |      \n",
      " |      Returns\n",
      " |      -------\n",
      " |      T : array-like, shape (n_samples, n_classes)\n",
      " |          Returns the log-probabilities of the sample for each class in\n",
      " |          the model. The columns correspond to the classes in sorted\n",
      " |          order, as they appear in the attribute `classes_`.\n",
      " |      \n",
      " |      Notes\n",
      " |      -----\n",
      " |      The probability model is created using cross validation, so\n",
      " |      the results can be slightly different than those obtained by\n",
      " |      predict. Also, it will produce meaningless results on very small\n",
      " |      datasets.\n",
      " |  \n",
      " |  predict_proba\n",
      " |      Compute probabilities of possible outcomes for samples in X.\n",
      " |      \n",
      " |      The model need to have probability information computed at training\n",
      " |      time: fit with attribute `probability` set to True.\n",
      " |      \n",
      " |      Parameters\n",
      " |      ----------\n",
      " |      X : array-like, shape (n_samples, n_features)\n",
      " |          For kernel=\"precomputed\", the expected shape of X is\n",
      " |          [n_samples_test, n_samples_train]\n",
      " |      \n",
      " |      Returns\n",
      " |      -------\n",
      " |      T : array-like, shape (n_samples, n_classes)\n",
      " |          Returns the probability of the sample for each class in\n",
      " |          the model. The columns correspond to the classes in sorted\n",
      " |          order, as they appear in the attribute `classes_`.\n",
      " |      \n",
      " |      Notes\n",
      " |      -----\n",
      " |      The probability model is created using cross validation, so\n",
      " |      the results can be slightly different than those obtained by\n",
      " |      predict. Also, it will produce meaningless results on very small\n",
      " |      datasets.\n",
      " |  \n",
      " |  ----------------------------------------------------------------------\n",
      " |  Methods inherited from sklearn.svm.base.BaseLibSVM:\n",
      " |  \n",
      " |  fit(self, X, y, sample_weight=None)\n",
      " |      Fit the SVM model according to the given training data.\n",
      " |      \n",
      " |      Parameters\n",
      " |      ----------\n",
      " |      X : {array-like, sparse matrix}, shape (n_samples, n_features)\n",
      " |          Training vectors, where n_samples is the number of samples\n",
      " |          and n_features is the number of features.\n",
      " |          For kernel=\"precomputed\", the expected shape of X is\n",
      " |          (n_samples, n_samples).\n",
      " |      \n",
      " |      y : array-like, shape (n_samples,)\n",
      " |          Target values (class labels in classification, real numbers in\n",
      " |          regression)\n",
      " |      \n",
      " |      sample_weight : array-like, shape (n_samples,)\n",
      " |          Per-sample weights. Rescale C per sample. Higher weights\n",
      " |          force the classifier to put more emphasis on these points.\n",
      " |      \n",
      " |      Returns\n",
      " |      -------\n",
      " |      self : object\n",
      " |          Returns self.\n",
      " |      \n",
      " |      Notes\n",
      " |      ------\n",
      " |      If X and y are not C-ordered and contiguous arrays of np.float64 and\n",
      " |      X is not a scipy.sparse.csr_matrix, X and/or y may be copied.\n",
      " |      \n",
      " |      If X is a dense array, then the other methods will not support sparse\n",
      " |      matrices as input.\n",
      " |  \n",
      " |  ----------------------------------------------------------------------\n",
      " |  Data descriptors inherited from sklearn.svm.base.BaseLibSVM:\n",
      " |  \n",
      " |  coef_\n",
      " |  \n",
      " |  ----------------------------------------------------------------------\n",
      " |  Methods inherited from sklearn.base.BaseEstimator:\n",
      " |  \n",
      " |  __getstate__(self)\n",
      " |  \n",
      " |  __repr__(self)\n",
      " |      Return repr(self).\n",
      " |  \n",
      " |  __setstate__(self, state)\n",
      " |  \n",
      " |  get_params(self, deep=True)\n",
      " |      Get parameters for this estimator.\n",
      " |      \n",
      " |      Parameters\n",
      " |      ----------\n",
      " |      deep : boolean, optional\n",
      " |          If True, will return the parameters for this estimator and\n",
      " |          contained subobjects that are estimators.\n",
      " |      \n",
      " |      Returns\n",
      " |      -------\n",
      " |      params : mapping of string to any\n",
      " |          Parameter names mapped to their values.\n",
      " |  \n",
      " |  set_params(self, **params)\n",
      " |      Set the parameters of this estimator.\n",
      " |      \n",
      " |      The method works on simple estimators as well as on nested objects\n",
      " |      (such as pipelines). The latter have parameters of the form\n",
      " |      ``<component>__<parameter>`` so that it's possible to update each\n",
      " |      component of a nested object.\n",
      " |      \n",
      " |      Returns\n",
      " |      -------\n",
      " |      self\n",
      " |  \n",
      " |  ----------------------------------------------------------------------\n",
      " |  Data descriptors inherited from sklearn.base.BaseEstimator:\n",
      " |  \n",
      " |  __dict__\n",
      " |      dictionary for instance variables (if defined)\n",
      " |  \n",
      " |  __weakref__\n",
      " |      list of weak references to the object (if defined)\n",
      " |  \n",
      " |  ----------------------------------------------------------------------\n",
      " |  Methods inherited from sklearn.base.ClassifierMixin:\n",
      " |  \n",
      " |  score(self, X, y, sample_weight=None)\n",
      " |      Returns the mean accuracy on the given test data and labels.\n",
      " |      \n",
      " |      In multi-label classification, this is the subset accuracy\n",
      " |      which is a harsh metric since you require for each sample that\n",
      " |      each label set be correctly predicted.\n",
      " |      \n",
      " |      Parameters\n",
      " |      ----------\n",
      " |      X : array-like, shape = (n_samples, n_features)\n",
      " |          Test samples.\n",
      " |      \n",
      " |      y : array-like, shape = (n_samples) or (n_samples, n_outputs)\n",
      " |          True labels for X.\n",
      " |      \n",
      " |      sample_weight : array-like, shape = [n_samples], optional\n",
      " |          Sample weights.\n",
      " |      \n",
      " |      Returns\n",
      " |      -------\n",
      " |      score : float\n",
      " |          Mean accuracy of self.predict(X) wrt. y.\n",
      "\n"
     ]
    }
   ],
   "source": [
    "help(SVC)"
   ]
  },
  {
   "cell_type": "code",
   "execution_count": 16,
   "metadata": {},
   "outputs": [
    {
     "data": {
      "image/png": "[encoded data removed]",
      "text/plain": [
       "<Figure size 864x576 with 4 Axes>"
      ]
     },
     "metadata": {
      "needs_background": "light"
     },
     "output_type": "display_data"
    }
   ],
   "source": [
    "C = [0.1, 1, 10, 100]\n",
    "gamma = [0.001, 0.01, 0.1, 1, 10]\n",
    "s_train=[]\n",
    "s_test=[]\n",
    "\n",
    "for c in C:\n",
    "    s1=[]\n",
    "    s2=[]\n",
    "    \n",
    "    for g in gamma:\n",
    "        model=SVC(C=c,gamma=g)\n",
    "        model.fit(X_train_norm,y_train)\n",
    "\n",
    "        pred_y=model.predict(X_test_norm)\n",
    "        s1.append(model.score(X_train_norm,y_train))\n",
    "        s2.append(model.score(X_test_norm,y_test))\n",
    "        \n",
    "    s_train.append(s1)\n",
    "    s_test.append(s2)\n",
    "    \n",
    "fig = plt.figure(figsize=[12,8])\n",
    "for i in range(len(C)):\n",
    "    plt.subplot(1,len(C),i+1)\n",
    "    plt.plot(s_train[i],'gs--',label='train')\n",
    "    plt.plot(s_test[i],'ro-',label='test')\n",
    "    plt.title('C= %f' % (C[i]))\n",
    "    plt.xticks(range(len(gamma)),gamma)\n",
    "    plt.ylim(0,1)\n",
    "    plt.xlabel('gamma')\n",
    "    plt.ylabel('score')\n",
    "    plt.legend(loc='lower right')"
   ]
  },
  {
   "cell_type": "code",
   "execution_count": 20,
   "metadata": {},
   "outputs": [
    {
     "name": "stdout",
     "output_type": "stream",
     "text": [
      "[0.8111888111888111, 0.9440559440559441, 0.9300699300699301, 0.6783216783216783, 0.6783216783216783]\n",
      "[0.9370629370629371, 0.965034965034965, 0.951048951048951, 0.6853146853146853, 0.6783216783216783]\n",
      "[0.951048951048951, 0.972027972027972, 0.951048951048951, 0.6853146853146853, 0.6783216783216783]\n",
      "[0.972027972027972, 0.965034965034965, 0.951048951048951, 0.6853146853146853, 0.6783216783216783]\n"
     ]
    }
   ],
   "source": [
    "for i in s_test:\n",
    "    print(i)"
   ]
  },
  {
   "cell_type": "code",
   "execution_count": 24,
   "metadata": {},
   "outputs": [
    {
     "data": {
      "text/plain": [
       "<matplotlib.colorbar.Colorbar at 0x2616ee61c50>"
      ]
     },
     "execution_count": 24,
     "metadata": {},
     "output_type": "execute_result"
    },
    {
     "data": {
      "image/png": "[encoded data removed]",
      "text/plain": [
       "<Figure size 432x288 with 2 Axes>"
      ]
     },
     "metadata": {
      "needs_background": "light"
     },
     "output_type": "display_data"
    }
   ],
   "source": [
    "plt.imshow(s_test,vmin=0.5, vmax=1,origin='lower', cmap='Reds')\n",
    "plt.xticks(range(5),gamma)\n",
    "plt.yticks(range(4),C)\n",
    "plt.ylabel('C')\n",
    "plt.xlabel('gamma')\n",
    "plt.colorbar()"
   ]
  },
  {
   "cell_type": "markdown",
   "metadata": {},
   "source": [
    "- 마지막으로, 시각화를 위해 속성 2개를 선택해 SVC 를 적용해 보겠습니다."
   ]
  },
  {
   "cell_type": "code",
   "execution_count": 27,
   "metadata": {},
   "outputs": [
    {
     "name": "stdout",
     "output_type": "stream",
     "text": [
      "Help on class SVC in module sklearn.svm.classes:\n",
      "\n",
      "class SVC(sklearn.svm.base.BaseSVC)\n",
      " |  C-Support Vector Classification.\n",
      " |  \n",
      " |  The implementation is based on libsvm. The fit time complexity\n",
      " |  is more than quadratic with the number of samples which makes it hard\n",
      " |  to scale to dataset with more than a couple of 10000 samples.\n",
      " |  \n",
      " |  The multiclass support is handled according to a one-vs-one scheme.\n",
      " |  \n",
      " |  For details on the precise mathematical formulation of the provided\n",
      " |  kernel functions and how `gamma`, `coef0` and `degree` affect each\n",
      " |  other, see the corresponding section in the narrative documentation:\n",
      " |  :ref:`svm_kernels`.\n",
      " |  \n",
      " |  Read more in the :ref:`User Guide <svm_classification>`.\n",
      " |  \n",
      " |  Parameters\n",
      " |  ----------\n",
      " |  C : float, optional (default=1.0)\n",
      " |      Penalty parameter C of the error term.\n",
      " |  \n",
      " |  kernel : string, optional (default='rbf')\n",
      " |       Specifies the kernel type to be used in the algorithm.\n",
      " |       It must be one of 'linear', 'poly', 'rbf', 'sigmoid', 'precomputed' or\n",
      " |       a callable.\n",
      " |       If none is given, 'rbf' will be used. If a callable is given it is\n",
      " |       used to pre-compute the kernel matrix from data matrices; that matrix\n",
      " |       should be an array of shape ``(n_samples, n_samples)``.\n",
      " |  \n",
      " |  degree : int, optional (default=3)\n",
      " |      Degree of the polynomial kernel function ('poly').\n",
      " |      Ignored by all other kernels.\n",
      " |  \n",
      " |  gamma : float, optional (default='auto')\n",
      " |      Kernel coefficient for 'rbf', 'poly' and 'sigmoid'.\n",
      " |      If gamma is 'auto' then 1/n_features will be used instead.\n",
      " |  \n",
      " |  coef0 : float, optional (default=0.0)\n",
      " |      Independent term in kernel function.\n",
      " |      It is only significant in 'poly' and 'sigmoid'.\n",
      " |  \n",
      " |  probability : boolean, optional (default=False)\n",
      " |      Whether to enable probability estimates. This must be enabled prior\n",
      " |      to calling `fit`, and will slow down that method.\n",
      " |  \n",
      " |  shrinking : boolean, optional (default=True)\n",
      " |      Whether to use the shrinking heuristic.\n",
      " |  \n",
      " |  tol : float, optional (default=1e-3)\n",
      " |      Tolerance for stopping criterion.\n",
      " |  \n",
      " |  cache_size : float, optional\n",
      " |      Specify the size of the kernel cache (in MB).\n",
      " |  \n",
      " |  class_weight : {dict, 'balanced'}, optional\n",
      " |      Set the parameter C of class i to class_weight[i]*C for\n",
      " |      SVC. If not given, all classes are supposed to have\n",
      " |      weight one.\n",
      " |      The \"balanced\" mode uses the values of y to automatically adjust\n",
      " |      weights inversely proportional to class frequencies in the input data\n",
      " |      as ``n_samples / (n_classes * np.bincount(y))``\n",
      " |  \n",
      " |  verbose : bool, default: False\n",
      " |      Enable verbose output. Note that this setting takes advantage of a\n",
      " |      per-process runtime setting in libsvm that, if enabled, may not work\n",
      " |      properly in a multithreaded context.\n",
      " |  \n",
      " |  max_iter : int, optional (default=-1)\n",
      " |      Hard limit on iterations within solver, or -1 for no limit.\n",
      " |  \n",
      " |  decision_function_shape : 'ovo', 'ovr', default='ovr'\n",
      " |      Whether to return a one-vs-rest ('ovr') decision function of shape\n",
      " |      (n_samples, n_classes) as all other classifiers, or the original\n",
      " |      one-vs-one ('ovo') decision function of libsvm which has shape\n",
      " |      (n_samples, n_classes * (n_classes - 1) / 2).\n",
      " |  \n",
      " |      .. versionchanged:: 0.19\n",
      " |          decision_function_shape is 'ovr' by default.\n",
      " |  \n",
      " |      .. versionadded:: 0.17\n",
      " |         *decision_function_shape='ovr'* is recommended.\n",
      " |  \n",
      " |      .. versionchanged:: 0.17\n",
      " |         Deprecated *decision_function_shape='ovo' and None*.\n",
      " |  \n",
      " |  random_state : int, RandomState instance or None, optional (default=None)\n",
      " |      The seed of the pseudo random number generator to use when shuffling\n",
      " |      the data.  If int, random_state is the seed used by the random number\n",
      " |      generator; If RandomState instance, random_state is the random number\n",
      " |      generator; If None, the random number generator is the RandomState\n",
      " |      instance used by `np.random`.\n",
      " |  \n",
      " |  Attributes\n",
      " |  ----------\n",
      " |  support_ : array-like, shape = [n_SV]\n",
      " |      Indices of support vectors.\n",
      " |  \n",
      " |  support_vectors_ : array-like, shape = [n_SV, n_features]\n",
      " |      Support vectors.\n",
      " |  \n",
      " |  n_support_ : array-like, dtype=int32, shape = [n_class]\n",
      " |      Number of support vectors for each class.\n",
      " |  \n",
      " |  dual_coef_ : array, shape = [n_class-1, n_SV]\n",
      " |      Coefficients of the support vector in the decision function.\n",
      " |      For multiclass, coefficient for all 1-vs-1 classifiers.\n",
      " |      The layout of the coefficients in the multiclass case is somewhat\n",
      " |      non-trivial. See the section about multi-class classification in the\n",
      " |      SVM section of the User Guide for details.\n",
      " |  \n",
      " |  coef_ : array, shape = [n_class-1, n_features]\n",
      " |      Weights assigned to the features (coefficients in the primal\n",
      " |      problem). This is only available in the case of a linear kernel.\n",
      " |  \n",
      " |      `coef_` is a readonly property derived from `dual_coef_` and\n",
      " |      `support_vectors_`.\n",
      " |  \n",
      " |  intercept_ : array, shape = [n_class * (n_class-1) / 2]\n",
      " |      Constants in decision function.\n",
      " |  \n",
      " |  Examples\n",
      " |  --------\n",
      " |  >>> import numpy as np\n",
      " |  >>> X = np.array([[-1, -1], [-2, -1], [1, 1], [2, 1]])\n",
      " |  >>> y = np.array([1, 1, 2, 2])\n",
      " |  >>> from sklearn.svm import SVC\n",
      " |  >>> clf = SVC()\n",
      " |  >>> clf.fit(X, y) #doctest: +NORMALIZE_WHITESPACE\n",
      " |  SVC(C=1.0, cache_size=200, class_weight=None, coef0=0.0,\n",
      " |      decision_function_shape='ovr', degree=3, gamma='auto', kernel='rbf',\n",
      " |      max_iter=-1, probability=False, random_state=None, shrinking=True,\n",
      " |      tol=0.001, verbose=False)\n",
      " |  >>> print(clf.predict([[-0.8, -1]]))\n",
      " |  [1]\n",
      " |  \n",
      " |  See also\n",
      " |  --------\n",
      " |  SVR\n",
      " |      Support Vector Machine for Regression implemented using libsvm.\n",
      " |  \n",
      " |  LinearSVC\n",
      " |      Scalable Linear Support Vector Machine for classification\n",
      " |      implemented using liblinear. Check the See also section of\n",
      " |      LinearSVC for more comparison element.\n",
      " |  \n",
      " |  Method resolution order:\n",
      " |      SVC\n",
      " |      sklearn.svm.base.BaseSVC\n",
      " |      abc.NewBase\n",
      " |      sklearn.svm.base.BaseLibSVM\n",
      " |      abc.NewBase\n",
      " |      sklearn.base.BaseEstimator\n",
      " |      sklearn.base.ClassifierMixin\n",
      " |      builtins.object\n",
      " |  \n",
      " |  Methods defined here:\n",
      " |  \n",
      " |  __init__(self, C=1.0, kernel='rbf', degree=3, gamma='auto', coef0=0.0, shrinking=True, probability=False, tol=0.001, cache_size=200, class_weight=None, verbose=False, max_iter=-1, decision_function_shape='ovr', random_state=None)\n",
      " |      Initialize self.  See help(type(self)) for accurate signature.\n",
      " |  \n",
      " |  ----------------------------------------------------------------------\n",
      " |  Data and other attributes defined here:\n",
      " |  \n",
      " |  __abstractmethods__ = frozenset()\n",
      " |  \n",
      " |  ----------------------------------------------------------------------\n",
      " |  Methods inherited from sklearn.svm.base.BaseSVC:\n",
      " |  \n",
      " |  decision_function(self, X)\n",
      " |      Distance of the samples X to the separating hyperplane.\n",
      " |      \n",
      " |      Parameters\n",
      " |      ----------\n",
      " |      X : array-like, shape (n_samples, n_features)\n",
      " |      \n",
      " |      Returns\n",
      " |      -------\n",
      " |      X : array-like, shape (n_samples, n_classes * (n_classes-1) / 2)\n",
      " |          Returns the decision function of the sample for each class\n",
      " |          in the model.\n",
      " |          If decision_function_shape='ovr', the shape is (n_samples,\n",
      " |          n_classes)\n",
      " |  \n",
      " |  predict(self, X)\n",
      " |      Perform classification on samples in X.\n",
      " |      \n",
      " |      For an one-class model, +1 or -1 is returned.\n",
      " |      \n",
      " |      Parameters\n",
      " |      ----------\n",
      " |      X : {array-like, sparse matrix}, shape (n_samples, n_features)\n",
      " |          For kernel=\"precomputed\", the expected shape of X is\n",
      " |          [n_samples_test, n_samples_train]\n",
      " |      \n",
      " |      Returns\n",
      " |      -------\n",
      " |      y_pred : array, shape (n_samples,)\n",
      " |          Class labels for samples in X.\n",
      " |  \n",
      " |  ----------------------------------------------------------------------\n",
      " |  Data descriptors inherited from sklearn.svm.base.BaseSVC:\n",
      " |  \n",
      " |  predict_log_proba\n",
      " |      Compute log probabilities of possible outcomes for samples in X.\n",
      " |      \n",
      " |      The model need to have probability information computed at training\n",
      " |      time: fit with attribute `probability` set to True.\n",
      " |      \n",
      " |      Parameters\n",
      " |      ----------\n",
      " |      X : array-like, shape (n_samples, n_features)\n",
      " |          For kernel=\"precomputed\", the expected shape of X is\n",
      " |          [n_samples_test, n_samples_train]\n",
      " |      \n",
      " |      Returns\n",
      " |      -------\n",
      " |      T : array-like, shape (n_samples, n_classes)\n",
      " |          Returns the log-probabilities of the sample for each class in\n",
      " |          the model. The columns correspond to the classes in sorted\n",
      " |          order, as they appear in the attribute `classes_`.\n",
      " |      \n",
      " |      Notes\n",
      " |      -----\n",
      " |      The probability model is created using cross validation, so\n",
      " |      the results can be slightly different than those obtained by\n",
      " |      predict. Also, it will produce meaningless results on very small\n",
      " |      datasets.\n",
      " |  \n",
      " |  predict_proba\n",
      " |      Compute probabilities of possible outcomes for samples in X.\n",
      " |      \n",
      " |      The model need to have probability information computed at training\n",
      " |      time: fit with attribute `probability` set to True.\n",
      " |      \n",
      " |      Parameters\n",
      " |      ----------\n",
      " |      X : array-like, shape (n_samples, n_features)\n",
      " |          For kernel=\"precomputed\", the expected shape of X is\n",
      " |          [n_samples_test, n_samples_train]\n",
      " |      \n",
      " |      Returns\n",
      " |      -------\n",
      " |      T : array-like, shape (n_samples, n_classes)\n",
      " |          Returns the probability of the sample for each class in\n",
      " |          the model. The columns correspond to the classes in sorted\n",
      " |          order, as they appear in the attribute `classes_`.\n",
      " |      \n",
      " |      Notes\n",
      " |      -----\n",
      " |      The probability model is created using cross validation, so\n",
      " |      the results can be slightly different than those obtained by\n",
      " |      predict. Also, it will produce meaningless results on very small\n",
      " |      datasets.\n",
      " |  \n",
      " |  ----------------------------------------------------------------------\n",
      " |  Methods inherited from sklearn.svm.base.BaseLibSVM:\n",
      " |  \n",
      " |  fit(self, X, y, sample_weight=None)\n",
      " |      Fit the SVM model according to the given training data.\n",
      " |      \n",
      " |      Parameters\n",
      " |      ----------\n",
      " |      X : {array-like, sparse matrix}, shape (n_samples, n_features)\n",
      " |          Training vectors, where n_samples is the number of samples\n",
      " |          and n_features is the number of features.\n",
      " |          For kernel=\"precomputed\", the expected shape of X is\n",
      " |          (n_samples, n_samples).\n",
      " |      \n",
      " |      y : array-like, shape (n_samples,)\n",
      " |          Target values (class labels in classification, real numbers in\n",
      " |          regression)\n",
      " |      \n",
      " |      sample_weight : array-like, shape (n_samples,)\n",
      " |          Per-sample weights. Rescale C per sample. Higher weights\n",
      " |          force the classifier to put more emphasis on these points.\n",
      " |      \n",
      " |      Returns\n",
      " |      -------\n",
      " |      self : object\n",
      " |          Returns self.\n",
      " |      \n",
      " |      Notes\n",
      " |      ------\n",
      " |      If X and y are not C-ordered and contiguous arrays of np.float64 and\n",
      " |      X is not a scipy.sparse.csr_matrix, X and/or y may be copied.\n",
      " |      \n",
      " |      If X is a dense array, then the other methods will not support sparse\n",
      " |      matrices as input.\n",
      " |  \n",
      " |  ----------------------------------------------------------------------\n",
      " |  Data descriptors inherited from sklearn.svm.base.BaseLibSVM:\n",
      " |  \n",
      " |  coef_\n",
      " |  \n",
      " |  ----------------------------------------------------------------------\n",
      " |  Methods inherited from sklearn.base.BaseEstimator:\n",
      " |  \n",
      " |  __getstate__(self)\n",
      " |  \n",
      " |  __repr__(self)\n",
      " |      Return repr(self).\n",
      " |  \n",
      " |  __setstate__(self, state)\n",
      " |  \n",
      " |  get_params(self, deep=True)\n",
      " |      Get parameters for this estimator.\n",
      " |      \n",
      " |      Parameters\n",
      " |      ----------\n",
      " |      deep : boolean, optional\n",
      " |          If True, will return the parameters for this estimator and\n",
      " |          contained subobjects that are estimators.\n",
      " |      \n",
      " |      Returns\n",
      " |      -------\n",
      " |      params : mapping of string to any\n",
      " |          Parameter names mapped to their values.\n",
      " |  \n",
      " |  set_params(self, **params)\n",
      " |      Set the parameters of this estimator.\n",
      " |      \n",
      " |      The method works on simple estimators as well as on nested objects\n",
      " |      (such as pipelines). The latter have parameters of the form\n",
      " |      ``<component>__<parameter>`` so that it's possible to update each\n",
      " |      component of a nested object.\n",
      " |      \n",
      " |      Returns\n",
      " |      -------\n",
      " |      self\n",
      " |  \n",
      " |  ----------------------------------------------------------------------\n",
      " |  Data descriptors inherited from sklearn.base.BaseEstimator:\n",
      " |  \n",
      " |  __dict__\n",
      " |      dictionary for instance variables (if defined)\n",
      " |  \n",
      " |  __weakref__\n",
      " |      list of weak references to the object (if defined)\n",
      " |  \n",
      " |  ----------------------------------------------------------------------\n",
      " |  Methods inherited from sklearn.base.ClassifierMixin:\n",
      " |  \n",
      " |  score(self, X, y, sample_weight=None)\n",
      " |      Returns the mean accuracy on the given test data and labels.\n",
      " |      \n",
      " |      In multi-label classification, this is the subset accuracy\n",
      " |      which is a harsh metric since you require for each sample that\n",
      " |      each label set be correctly predicted.\n",
      " |      \n",
      " |      Parameters\n",
      " |      ----------\n",
      " |      X : array-like, shape = (n_samples, n_features)\n",
      " |          Test samples.\n",
      " |      \n",
      " |      y : array-like, shape = (n_samples) or (n_samples, n_outputs)\n",
      " |          True labels for X.\n",
      " |      \n",
      " |      sample_weight : array-like, shape = [n_samples], optional\n",
      " |          Sample weights.\n",
      " |      \n",
      " |      Returns\n",
      " |      -------\n",
      " |      score : float\n",
      " |          Mean accuracy of self.predict(X) wrt. y.\n",
      "\n"
     ]
    }
   ],
   "source": [
    "help(SVC)"
   ]
  },
  {
   "cell_type": "code",
   "execution_count": 37,
   "metadata": {},
   "outputs": [
    {
     "data": {
      "text/plain": [
       "0.9131455399061033"
      ]
     },
     "metadata": {},
     "output_type": "display_data"
    },
    {
     "data": {
      "text/plain": [
       "0.8741258741258742"
      ]
     },
     "metadata": {},
     "output_type": "display_data"
    }
   ],
   "source": [
    "col1 = 0 #20\n",
    "col2 = 1 #27\n",
    "\n",
    "X = cancer.data[:,[col1,col2]]\n",
    "y = cancer.target\n",
    "\n",
    "X_train,X_test,y_train,y_test = train_test_split(X, y)\n",
    "\n",
    "X_mean = X_train.mean(axis=0)\n",
    "X_std = X_train.std(axis=0)\n",
    "\n",
    "X_train_norm = (X_train-X_mean)/X_std\n",
    "X_test_norm = (X_test-X_mean)/X_std\n",
    "\n",
    "model = SVC(C=0.1, gamma='auto', probability=True) # 확률 점수를 얻기 위해 probability=True\n",
    "#model = SVC(probability=True)\n",
    "model.fit(X_train_norm, y_train)\n",
    "\n",
    "# 점수를 출력\n",
    "train_score = model.score(X_train_norm, y_train)\n",
    "test_score = model.score(X_test_norm, y_test)\n",
    "display(train_score, test_score)"
   ]
  },
  {
   "cell_type": "code",
   "execution_count": 39,
   "metadata": {},
   "outputs": [
    {
     "data": {
      "text/plain": [
       "(183, 2)"
      ]
     },
     "execution_count": 39,
     "metadata": {},
     "output_type": "execute_result"
    }
   ],
   "source": [
    "model.support_vectors_.shape"
   ]
  },
  {
   "cell_type": "code",
   "execution_count": 40,
   "metadata": {},
   "outputs": [
    {
     "data": {
      "text/plain": [
       "array([[ 4.50574936e-01, -1.35328370e-03],\n",
       "       [ 1.40786487e-01,  1.87284219e+00],\n",
       "       [ 3.94538173e-02,  1.01613274e+00],\n",
       "       [ 1.15121797e+00, -5.82445754e-01],\n",
       "       [ 4.07146649e-01,  1.04828806e+00],\n",
       "       [-8.98597185e-01,  4.51117929e-01],\n",
       "       [ 2.10271747e-01,  1.04599125e+00],\n",
       "       [ 2.61619886e+00,  1.02003085e-01],\n",
       "       [-4.61419095e-01,  1.06895933e+00],\n",
       "       [-9.95167016e-02,  3.31683903e-01],\n",
       "       [ 1.14729515e-01,  1.91578604e-01],\n",
       "       [ 1.28439805e+00, -4.28559606e-01],\n",
       "       [-3.71667301e-01,  7.08360445e-01],\n",
       "       [ 2.88442664e-01, -7.25543374e-02],\n",
       "       [ 4.65051031e-01,  8.76027443e-01],\n",
       "       [ 7.37201631e-01,  1.99686984e+00],\n",
       "       [ 5.83755016e-01,  6.06605373e-02],\n",
       "       [ 8.76172150e-01,  1.78326668e+00],\n",
       "       [ 4.07146649e-01, -1.72166261e+00],\n",
       "       [-4.96161724e-01,  1.71665924e+00],\n",
       "       [ 2.59490472e-01, -4.17075565e-01],\n",
       "       [ 1.59129128e+00,  2.15534960e+00],\n",
       "       [ 1.01803789e+00, -9.95871228e-01],\n",
       "       [ 3.02918759e-01,  6.05004077e-01],\n",
       "       [ 6.01126331e-01, -3.45874511e-01],\n",
       "       [ 4.99793661e-01, -3.43577703e-01],\n",
       "       [ 5.72174140e-01, -8.90218051e-01],\n",
       "       [ 2.97128321e-01,  1.45941672e+00],\n",
       "       [-7.05645102e-02,  1.00235189e+00],\n",
       "       [-6.64084435e-01, -2.86157499e-01],\n",
       "       [-9.37262633e-02,  7.40515760e-01],\n",
       "       [ 3.23288053e+00,  1.26878164e+00],\n",
       "       [ 4.76631908e-01,  2.12249877e-01],\n",
       "       [ 4.27413183e-01,  3.25552072e+00],\n",
       "       [ 8.93543465e-01, -6.85802123e-01],\n",
       "       [-5.60884144e-02, -5.64071289e-01],\n",
       "       [ 3.86982874e+00,  1.58114756e+00],\n",
       "       [ 3.55032704e-01,  6.94579596e-01],\n",
       "       [ 1.89528929e+00,  2.28397086e+00],\n",
       "       [-6.76692910e-02,  1.17231570e+00],\n",
       "       [-2.24011125e-01,  2.05359453e-01],\n",
       "       [ 8.67486492e-01, -7.02575292e-02],\n",
       "       [ 5.68251322e-02,  5.36099831e-01],\n",
       "       [ 2.66831280e+00,  6.09597693e-01],\n",
       "       [ 1.80553750e+00, -1.15894461e+00],\n",
       "       [ 2.33433500e-01,  8.78324251e-01],\n",
       "       [ 4.18727525e-01,  3.89104108e-01],\n",
       "       [ 2.91337883e-01,  1.02003085e-01],\n",
       "       [-1.28468893e-01,  1.28485930e+00],\n",
       "       [ 1.48706339e+00, -7.91455299e-01],\n",
       "       [ 3.06206260e+00,  5.08538133e-01],\n",
       "       [-2.71362230e-02, -5.36509591e-01],\n",
       "       [ 2.71071349e-01,  1.33538908e+00],\n",
       "       [ 4.99793661e-01,  8.09420005e-01],\n",
       "       [-2.73229850e-01, -8.78734010e-01],\n",
       "       [-2.55858535e-01,  5.56771105e-01],\n",
       "       [ 9.86190477e-01,  4.56929500e+00],\n",
       "       [ 3.66613581e-01, -4.85979811e-01],\n",
       "       [-7.34597293e-02, -8.25907422e-01],\n",
       "       [ 6.41659399e-01,  3.04122205e-01],\n",
       "       [ 4.15832306e-01,  1.34158399e-01],\n",
       "       [ 1.58550084e+00,  3.00516863e+00],\n",
       "       [ 2.45014377e-01,  7.22141294e-01],\n",
       "       [ 1.52367364e-01,  4.92460476e-01],\n",
       "       [ 1.81319555e-01,  1.70907330e-01],\n",
       "       [-3.05077261e-01,  5.59067913e-01],\n",
       "       [ 1.15700841e+00, -7.43222327e-01],\n",
       "       [-8.21453867e-02,  6.67017898e-01],\n",
       "       [ 3.81089676e-01,  7.74967883e-01],\n",
       "       [ 2.21665861e+00, -4.90573427e-01],\n",
       "       [ 3.60823142e-01,  1.35146674e+00],\n",
       "       [ 6.96668563e-01,  1.66313714e-01],\n",
       "       [-1.89268495e-01,  2.60482849e-01],\n",
       "       [ 1.06043858e-01,  8.82222355e-02],\n",
       "       [ 1.90005213e-01,  5.06241325e-01],\n",
       "       [ 4.91108004e-01,  1.98469028e-01],\n",
       "       [-1.66106742e-01,  3.29387095e-01],\n",
       "       [ 1.93292714e+00,  2.69509952e+00],\n",
       "       [ 7.89315576e-01, -1.34568158e-01],\n",
       "       [ 5.20060195e-01,  1.04828806e+00],\n",
       "       [ 1.13963709e+00, -2.06848065e+00],\n",
       "       [ 1.33361677e+00, -5.20431933e-01],\n",
       "       [ 3.38053671e+00, -4.42340455e-01],\n",
       "       [-1.77687618e-01,  5.03944517e-01],\n",
       "       [ 2.11822116e+00, -9.84387187e-01],\n",
       "       [ 6.01126331e-01,  2.97231780e-01],\n",
       "       [ 1.81132793e+00,  1.76259540e+00],\n",
       "       [ 5.68251322e-02,  6.34862583e-01],\n",
       "       [ 2.65094149e+00,  1.74192413e+00],\n",
       "       [ 9.39866971e-01, -5.29619166e-01],\n",
       "       [ 2.03715503e+00,  1.65005180e+00],\n",
       "       [-1.25573674e-01,  8.82917867e-01],\n",
       "       [ 2.85547445e-01, -6.07710644e-01],\n",
       "       [-5.42485231e-01,  2.60482849e-01],\n",
       "       [-1.58736982e+00, -1.44374882e+00],\n",
       "       [ 2.33433500e-01, -5.61774481e-01],\n",
       "       [-2.90601165e-01, -1.74309410e-02],\n",
       "       [-6.84350969e-01,  1.16083166e+00],\n",
       "       [ 1.55262583e-01,  7.56593417e-01],\n",
       "       [-2.35592001e-01,  1.70907330e-01],\n",
       "       [-9.42025472e-01, -2.22236680e+00],\n",
       "       [ 2.65280911e-01,  8.59254273e-02],\n",
       "       [-1.24949775e+00, -1.70328815e+00],\n",
       "       [-5.89836336e-02, -4.99760660e-01],\n",
       "       [-1.82217209e+00,  1.18379974e+00],\n",
       "       [-5.31931953e-02,  3.01825397e-01],\n",
       "       [ 1.69738679e-01, -5.82445754e-01],\n",
       "       [-6.11970490e-01,  3.15606246e-01],\n",
       "       [ 3.02918759e-01, -6.88098931e-01],\n",
       "       [-2.58753755e-01,  2.65076466e-01],\n",
       "       [ 2.04481309e-01, -1.06707228e+00],\n",
       "       [ 1.03148638e-01,  7.90350028e-02],\n",
       "       [ 2.73966568e-01, -8.90218051e-01],\n",
       "       [-3.10867699e-01, -8.24370825e-03],\n",
       "       [ 4.85317565e-01, -1.86176791e+00],\n",
       "       [-4.45075379e-02, -6.35272343e-01],\n",
       "       [-2.73229850e-01,  7.24438103e-01],\n",
       "       [ 2.50804815e-01, -1.02343293e+00],\n",
       "       [ 1.61053021e-01, -8.48875504e-01],\n",
       "       [-2.44277659e-01,  1.99227622e+00],\n",
       "       [-1.13992797e-01, -5.87734883e-02],\n",
       "       [-3.39819891e-01,  2.18980172e+00],\n",
       "       [-6.64084435e-01,  5.08538133e-01],\n",
       "       [-1.69594054e+00, -5.84742563e-01],\n",
       "       [-1.74792399e-01, -2.49408568e-01],\n",
       "       [ 1.00253419e-01,  1.74651774e+00],\n",
       "       [ 6.50345057e-01, -8.46578696e-01],\n",
       "       [-3.02182042e-01,  6.50940241e-01],\n",
       "       [-8.79358250e-02,  1.00694551e+00],\n",
       "       [-5.16428258e-01,  2.43096658e+00],\n",
       "       [-6.32237024e-01,  4.94757284e-01],\n",
       "       [ 1.98690870e-01,  1.38591886e+00],\n",
       "       [-5.30904354e-01,  1.50236056e-01],\n",
       "       [-7.36464913e-01,  1.04369444e+00],\n",
       "       [-2.04770966e+00, -1.36795415e+00],\n",
       "       [ 1.63948241e-01,  1.06436571e+00],\n",
       "       [ 2.18957404e-01, -1.07625951e+00],\n",
       "       [-5.83018299e-01,  2.01065069e+00],\n",
       "       [-3.05077261e-01,  1.31931142e+00],\n",
       "       [-7.01722284e-01,  2.27478363e+00],\n",
       "       [ 1.29205611e-01, -1.95134343e+00],\n",
       "       [-4.90371286e-01,  5.54474297e-01],\n",
       "       [-5.94599175e-01,  2.03132196e+00],\n",
       "       [-1.57376229e+00, -1.74463070e+00],\n",
       "       [-3.97446985e-03, -7.82268066e-01],\n",
       "       [-1.34259331e-01, -3.55061744e-01],\n",
       "       [-7.10407941e-01,  1.17231570e+00],\n",
       "       [-1.07925070e-03,  1.78326668e+00],\n",
       "       [-4.12200369e-01,  3.15606246e-01],\n",
       "       [-3.42715110e-01,  3.53956473e-02],\n",
       "       [ 4.81394747e-02,  1.94404325e+00],\n",
       "       [-5.89836336e-02,  4.91764964e-02],\n",
       "       [-5.80123079e-01,  7.65780650e-01],\n",
       "       [ 5.97203513e-02,  6.06605373e-02],\n",
       "       [ 2.62385691e-01, -6.56639129e-02],\n",
       "       [ 4.23490365e-02,  2.62779658e-01],\n",
       "       [-1.84214910e+00,  1.39051248e+00],\n",
       "       [-1.83114727e+00,  1.40199652e+00],\n",
       "       [ 1.37891268e-01, -1.05405164e-02],\n",
       "       [ 2.36328719e-01,  1.89281796e-01],\n",
       "       [ 1.69738679e-01, -9.52231872e-01],\n",
       "       [-7.27779256e-01, -1.99038917e+00],\n",
       "       [ 2.16062185e-01, -3.96404291e-01],\n",
       "       [-2.44277659e-01,  1.34687312e+00],\n",
       "       [-2.96391603e-01, -2.21846869e-01],\n",
       "       [ 8.06686890e-01,  1.70211818e-02],\n",
       "       [ 1.09910402e+00, -1.41389032e+00],\n",
       "       [-3.05077261e-01,  3.20199862e-01],\n",
       "       [ 2.71071349e-01,  6.25675351e-01],\n",
       "       [-5.97494394e-01,  1.26418803e+00],\n",
       "       [-8.26216707e-01,  2.29315809e+00],\n",
       "       [-4.45075379e-02, -3.35085983e-02],\n",
       "       [ 1.06043858e-01, -6.53646808e-01],\n",
       "       [ 6.04021550e-01, -1.03951058e+00],\n",
       "       [-2.90601165e-01, -1.82801130e-01],\n",
       "       [-2.55858535e-01, -2.67783033e-01],\n",
       "       [ 1.52367364e-01, -1.31512757e+00],\n",
       "       [-5.22218697e-01,  7.01470021e-01],\n",
       "       [ 3.28975732e-01, -1.41848393e+00],\n",
       "       [-8.20426268e-01,  3.31294093e+00],\n",
       "       [-1.71897180e-01,  2.02672834e+00],\n",
       "       [-4.15095588e-01,  1.05288167e+00],\n",
       "       [-4.61419095e-01,  1.15783934e-01]])"
      ]
     },
     "execution_count": 40,
     "metadata": {},
     "output_type": "execute_result"
    }
   ],
   "source": [
    "model.support_vectors_"
   ]
  },
  {
   "cell_type": "code",
   "execution_count": 44,
   "metadata": {},
   "outputs": [
    {
     "data": {
      "text/plain": [
       "array([[0.99341341, 0.00658659],\n",
       "       [0.96128381, 0.03871619],\n",
       "       [0.06890765, 0.93109235],\n",
       "       [0.61954501, 0.38045499],\n",
       "       [0.05485363, 0.94514637],\n",
       "       [0.0482125 , 0.9517875 ],\n",
       "       [0.99348611, 0.00651389],\n",
       "       [0.02039209, 0.97960791],\n",
       "       [0.02905282, 0.97094718],\n",
       "       [0.0225701 , 0.9774299 ],\n",
       "       [0.01655659, 0.98344341],\n",
       "       [0.18902907, 0.81097093],\n",
       "       [0.99630385, 0.00369615],\n",
       "       [0.04322957, 0.95677043],\n",
       "       [0.02103962, 0.97896038],\n",
       "       [0.02094365, 0.97905635],\n",
       "       [0.02272653, 0.97727347],\n",
       "       [0.97029711, 0.02970289],\n",
       "       [0.03028765, 0.96971235],\n",
       "       [0.06950366, 0.93049634],\n",
       "       [0.0187433 , 0.9812567 ],\n",
       "       [0.02565202, 0.97434798],\n",
       "       [0.99495111, 0.00504889],\n",
       "       [0.02786148, 0.97213852],\n",
       "       [0.02472195, 0.97527805],\n",
       "       [0.99138383, 0.00861617],\n",
       "       [0.01698197, 0.98301803],\n",
       "       [0.03610014, 0.96389986],\n",
       "       [0.01863663, 0.98136337],\n",
       "       [0.05420259, 0.94579741],\n",
       "       [0.01934716, 0.98065284],\n",
       "       [0.67105716, 0.32894284],\n",
       "       [0.02906911, 0.97093089],\n",
       "       [0.03889944, 0.96110056],\n",
       "       [0.71042217, 0.28957783],\n",
       "       [0.02217899, 0.97782101],\n",
       "       [0.07807965, 0.92192035],\n",
       "       [0.89408872, 0.10591128],\n",
       "       [0.04175165, 0.95824835],\n",
       "       [0.08125663, 0.91874337],\n",
       "       [0.41091863, 0.58908137],\n",
       "       [0.14447299, 0.85552701],\n",
       "       [0.97219564, 0.02780436],\n",
       "       [0.02076676, 0.97923324],\n",
       "       [0.03322507, 0.96677493],\n",
       "       [0.9359297 , 0.0640703 ],\n",
       "       [0.99397636, 0.00602364],\n",
       "       [0.02764312, 0.97235688],\n",
       "       [0.41950979, 0.58049021],\n",
       "       [0.01673358, 0.98326642],\n",
       "       [0.10341346, 0.89658654],\n",
       "       [0.9896821 , 0.0103179 ],\n",
       "       [0.03889252, 0.96110748],\n",
       "       [0.01559091, 0.98440909],\n",
       "       [0.18877257, 0.81122743],\n",
       "       [0.99564222, 0.00435778],\n",
       "       [0.26586832, 0.73413168],\n",
       "       [0.02270321, 0.97729679],\n",
       "       [0.69622993, 0.30377007],\n",
       "       [0.01965588, 0.98034412],\n",
       "       [0.99403391, 0.00596609],\n",
       "       [0.99332373, 0.00667627],\n",
       "       [0.89875616, 0.10124384],\n",
       "       [0.98093498, 0.01906502],\n",
       "       [0.99457439, 0.00542561],\n",
       "       [0.01656276, 0.98343724],\n",
       "       [0.95999417, 0.04000583],\n",
       "       [0.99366844, 0.00633156],\n",
       "       [0.08058189, 0.91941811],\n",
       "       [0.05104042, 0.94895958],\n",
       "       [0.9251025 , 0.0748975 ],\n",
       "       [0.612625  , 0.387375  ],\n",
       "       [0.05864935, 0.94135065],\n",
       "       [0.99463277, 0.00536723],\n",
       "       [0.32521931, 0.67478069],\n",
       "       [0.73697947, 0.26302053],\n",
       "       [0.08232207, 0.91767793],\n",
       "       [0.02513255, 0.97486745],\n",
       "       [0.07436962, 0.92563038],\n",
       "       [0.01988444, 0.98011556],\n",
       "       [0.44007286, 0.55992714],\n",
       "       [0.01856012, 0.98143988],\n",
       "       [0.45808758, 0.54191242],\n",
       "       [0.42967957, 0.57032043],\n",
       "       [0.99005224, 0.00994776],\n",
       "       [0.0339325 , 0.9660675 ],\n",
       "       [0.14070028, 0.85929972],\n",
       "       [0.27685637, 0.72314363],\n",
       "       [0.03852152, 0.96147848],\n",
       "       [0.04688486, 0.95311514],\n",
       "       [0.04313736, 0.95686264],\n",
       "       [0.98726463, 0.01273537],\n",
       "       [0.17320429, 0.82679571],\n",
       "       [0.02326951, 0.97673049],\n",
       "       [0.99429887, 0.00570113],\n",
       "       [0.20526988, 0.79473012],\n",
       "       [0.99460976, 0.00539024],\n",
       "       [0.01964747, 0.98035253],\n",
       "       [0.01539661, 0.98460339],\n",
       "       [0.01596145, 0.98403855],\n",
       "       [0.06980657, 0.93019343],\n",
       "       [0.85474117, 0.14525883],\n",
       "       [0.02007182, 0.97992818],\n",
       "       [0.36963163, 0.63036837],\n",
       "       [0.98094817, 0.01905183],\n",
       "       [0.0305305 , 0.9694695 ],\n",
       "       [0.1087913 , 0.8912087 ],\n",
       "       [0.10289615, 0.89710385],\n",
       "       [0.77174897, 0.22825103],\n",
       "       [0.95522742, 0.04477258],\n",
       "       [0.69735044, 0.30264956],\n",
       "       [0.04383375, 0.95616625],\n",
       "       [0.02103956, 0.97896044],\n",
       "       [0.07209036, 0.92790964],\n",
       "       [0.01446563, 0.98553437],\n",
       "       [0.01746928, 0.98253072],\n",
       "       [0.98520818, 0.01479182],\n",
       "       [0.02740145, 0.97259855],\n",
       "       [0.01456258, 0.98543742],\n",
       "       [0.99503576, 0.00496424],\n",
       "       [0.96691621, 0.03308379],\n",
       "       [0.73646799, 0.26353201],\n",
       "       [0.05459301, 0.94540699],\n",
       "       [0.32810378, 0.67189622],\n",
       "       [0.01571143, 0.98428857],\n",
       "       [0.99580861, 0.00419139],\n",
       "       [0.22515296, 0.77484704],\n",
       "       [0.01469092, 0.98530908],\n",
       "       [0.01899409, 0.98100591],\n",
       "       [0.02273614, 0.97726386],\n",
       "       [0.0150659 , 0.9849341 ],\n",
       "       [0.9913016 , 0.0086984 ],\n",
       "       [0.97656788, 0.02343212],\n",
       "       [0.02137426, 0.97862574],\n",
       "       [0.01650768, 0.98349232],\n",
       "       [0.67157567, 0.32842433],\n",
       "       [0.0241974 , 0.9758026 ],\n",
       "       [0.97180576, 0.02819424],\n",
       "       [0.02329307, 0.97670693],\n",
       "       [0.04353574, 0.95646426],\n",
       "       [0.33395356, 0.66604644],\n",
       "       [0.02312264, 0.97687736],\n",
       "       [0.0227758 , 0.9772242 ]])"
      ]
     },
     "execution_count": 44,
     "metadata": {},
     "output_type": "execute_result"
    }
   ],
   "source": [
    "model.predict_proba(X_test_norm)"
   ]
  },
  {
   "cell_type": "code",
   "execution_count": 42,
   "metadata": {
    "scrolled": false
   },
   "outputs": [
    {
     "data": {
      "text/plain": [
       "Text(0.5,1,'SVM - decision bounds')"
      ]
     },
     "execution_count": 42,
     "metadata": {},
     "output_type": "execute_result"
    },
    {
     "data": {
      "image/png": "[encoded data removed]",
      "text/plain": [
       "<matplotlib.figure.Figure at 0x1a89248e630>"
      ]
     },
     "metadata": {},
     "output_type": "display_data"
    }
   ],
   "source": [
    "# fit() 결과를 등고선으로 나타낸다\n",
    "xmax = X_train_norm[:,0].max()+1\n",
    "xmin = X_train_norm[:,0].min()-1\n",
    "ymax = X_train_norm[:,1].max()+1\n",
    "ymin = X_train_norm[:,1].min()-1\n",
    "\n",
    "xx=np.linspace(xmin,xmax,200)\n",
    "yy=np.linspace(ymin,ymax,200)\n",
    "data1, data2 = np.meshgrid(xx,yy)\n",
    "X_grid = np.c_[data1.ravel(), data2.ravel()]\n",
    "decision_values = model.predict_proba(X_grid)[:,0] # 등고선을 위해 확률점수를 구함\n",
    "\n",
    "sv=model.support_vectors_\n",
    "\n",
    "fig=plt.figure(figsize=[14,12])\n",
    "\n",
    "# show probability countour\n",
    "CS=plt.contour(data1,data2,decision_values.reshape(data1.shape),levels=[0.01, 0.1, 0.2, 0.5, 0.8, 0.9, 0.99])\n",
    "plt.clabel(CS, inline=2, fontsize=10)\n",
    "\n",
    "# show support vectors\n",
    "plt.scatter(sv[:,0], sv[:,1], marker='s', c= 'k', s=100)\n",
    "\n",
    "# show train samples\n",
    "plt.scatter(X_train_norm[:,0][y_train==0],X_train_norm[:,1][y_train==0],marker='o',c='r',label='malignant')\n",
    "plt.scatter(X_train_norm[:,0][y_train==1],X_train_norm[:,1][y_train==1],marker='^',c='g',label='benign')\n",
    "\n",
    "plt.legend()\n",
    "plt.colorbar(CS,shrink=0.5)\n",
    "plt.xlabel(cancer.feature_names[col1])\n",
    "plt.ylabel(cancer.feature_names[col2])\n",
    "plt.title('SVM - decision bounds',fontsize=20)"
   ]
  },
  {
   "cell_type": "code",
   "execution_count": 46,
   "metadata": {},
   "outputs": [
    {
     "data": {
      "text/plain": [
       "(186, 2)"
      ]
     },
     "metadata": {},
     "output_type": "display_data"
    },
    {
     "data": {
      "text/plain": [
       "array([[ 0.58469227, -0.13436415],\n",
       "       [ 3.07530384,  1.27667794],\n",
       "       [ 0.80934654, -0.06312261],\n",
       "       [-0.49697645,  1.7248102 ],\n",
       "       [ 1.79394243,  2.2924444 ],\n",
       "       [ 0.36835853,  1.05605898],\n",
       "       [ 0.37945256,  0.39650022],\n",
       "       [ 1.70796363, -1.15242873],\n",
       "       [ 0.34339694,  0.7825834 ],\n",
       "       [ 0.53754261,  0.06786989]])"
      ]
     },
     "metadata": {},
     "output_type": "display_data"
    }
   ],
   "source": [
    "display(sv.shape, sv[:10])"
   ]
  },
  {
   "cell_type": "code",
   "execution_count": 47,
   "metadata": {},
   "outputs": [
    {
     "data": {
      "text/plain": [
       "array([[0.33702512, 0.66297488]])"
      ]
     },
     "execution_count": 47,
     "metadata": {},
     "output_type": "execute_result"
    }
   ],
   "source": [
    "model.predict_proba([[0,0]])"
   ]
  },
  {
   "cell_type": "code",
   "execution_count": null,
   "metadata": {},
   "outputs": [],
   "source": []
  }
 ],
 "metadata": {
  "kernelspec": {
   "display_name": "Python 3",
   "language": "python",
   "name": "python3"
  },
  "language_info": {
   "codemirror_mode": {
    "name": "ipython",
    "version": 3
   },
   "file_extension": ".py",
   "mimetype": "text/x-python",
   "name": "python",
   "nbconvert_exporter": "python",
   "pygments_lexer": "ipython3",
   "version": "3.6.4"
  }
 },
 "nbformat": 4,
 "nbformat_minor": 1
}
